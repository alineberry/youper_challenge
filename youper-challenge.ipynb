{
 "cells": [
  {
   "cell_type": "markdown",
   "metadata": {},
   "source": [
    "# NOTES\n",
    "\n",
    "## REMINDER: splitting on periods isn't enough. What about question marks?"
   ]
  },
  {
   "cell_type": "markdown",
   "metadata": {},
   "source": [
    "### considerations:\n",
    "\n",
    "1. Mining reflections\n",
    "  - The answer text is not equivalent to a reflection. Need to extract reflections from the answer text. As hinted in the challenge...\n",
    "    - First sentence is often a good reflection\n",
    "    - Sentences that start with \"Sounds like\" and \"Seems like\" are have potential to be good reflections\n",
    "1. Transfer learning\n",
    "  - Easy to leverage transfer learning with transformers through the HuggingFace library\n",
    "  - More difficult to do so with LSTMs.\n",
    "    - Could download a pretrained LSTM language model\n",
    "    - Could initialize word embeddings with GloVe\n",
    "    - Could intialize LSTM decoder word embeddings by cloning roBERTa embeddings"
   ]
  },
  {
   "cell_type": "markdown",
   "metadata": {},
   "source": [
    "### potential solutions:\n",
    "\n",
    "1. Generative model, essentially a neural machine translation (NMT) system\n",
    "  - Would be ideal to start with a pretrained language model (eg, GPT) and fine tune it to this NMT task\n",
    "1. Train a multiclass classifier to predict the reflection given the question text.\n",
    "  - Reflection diversity/variablility/sparsity\n",
    "    - Due to minor text variations, would need to cluster the mined reflections into distinct entities.\n",
    "    - The actual set of reflection entities could be very sparse (ie, very few examples per reflection). This would pose learning problems."
   ]
  },
  {
   "cell_type": "markdown",
   "metadata": {},
   "source": [
    "### generative model\n",
    "\n",
    "Possible designs for a generative model:\n",
    "\n",
    "1. Ideal model: a seq2seq roBERTa encoder + roBERTa decoder, each initialized from LM pretraining. The challenge is in developing the training routine, which would require a left-to-right attention mask in the decoder. \n",
    "  - An advantage to this approach is that I believe HuggingFace API should provide the beam search (etc) algorithms to perform text generation\n",
    "  - I'm also not sure if 2 roBERTa's would fit into my GPU memory. Could freeze the weights in the decoder to alleviate memory issues. Could also freeze most of the bottom layers in the decoder while I'm at it.\n",
    "1. Slightly easier model: a seq2seq roBERTa encoder + LSTM decoder. It would be easier for me to train the LSTM decoder than a transformer, but I expect worse results, especially since I would probably have to use a randomly initialized LSTM. I'm sure there are pretained weights I could download, but I don't know of a resource and it is likely to become a rabbit hole.\n",
    "  - Would have to implement beam search\n",
    "1. Train a randomly initialized LSTM language model on this corpus. Then clone it to use it as the initial state for a seq2seq model. Fine tune the seq2seq model on the task.\n",
    "  - Would have to implement beam search\n",
    "1. Randomly initialize an LSTM-LSTM seq2seq model and train it on the task\n",
    "  - Would have to implement beam search"
   ]
  },
  {
   "cell_type": "markdown",
   "metadata": {},
   "source": [
    "# LOAD AND PREP DATA"
   ]
  },
  {
   "cell_type": "code",
   "execution_count": 1,
   "metadata": {},
   "outputs": [],
   "source": [
    "import pandas as pd\n",
    "import matplotlib.pyplot as plt\n",
    "%matplotlib inline\n",
    "%load_ext tensorboard"
   ]
  },
  {
   "cell_type": "code",
   "execution_count": 2,
   "metadata": {},
   "outputs": [],
   "source": [
    "df = pd.read_csv('20200325_counsel_chat.csv')"
   ]
  },
  {
   "cell_type": "code",
   "execution_count": 3,
   "metadata": {},
   "outputs": [
    {
     "data": {
      "text/plain": [
       "(2271, 11)"
      ]
     },
     "execution_count": 3,
     "metadata": {},
     "output_type": "execute_result"
    }
   ],
   "source": [
    "df.shape"
   ]
  },
  {
   "cell_type": "code",
   "execution_count": 4,
   "metadata": {},
   "outputs": [],
   "source": [
    "pd.set_option('max_colwidth', 200)"
   ]
  },
  {
   "cell_type": "code",
   "execution_count": 5,
   "metadata": {},
   "outputs": [
    {
     "data": {
      "text/html": [
       "<div>\n",
       "<style scoped>\n",
       "    .dataframe tbody tr th:only-of-type {\n",
       "        vertical-align: middle;\n",
       "    }\n",
       "\n",
       "    .dataframe tbody tr th {\n",
       "        vertical-align: top;\n",
       "    }\n",
       "\n",
       "    .dataframe thead th {\n",
       "        text-align: right;\n",
       "    }\n",
       "</style>\n",
       "<table border=\"1\" class=\"dataframe\">\n",
       "  <thead>\n",
       "    <tr style=\"text-align: right;\">\n",
       "      <th></th>\n",
       "      <th>questionID</th>\n",
       "      <th>questionTitle</th>\n",
       "      <th>questionText</th>\n",
       "      <th>questionLink</th>\n",
       "      <th>topic</th>\n",
       "      <th>therapistInfo</th>\n",
       "      <th>therapistURL</th>\n",
       "      <th>answerText</th>\n",
       "      <th>upvotes</th>\n",
       "      <th>views</th>\n",
       "      <th>split</th>\n",
       "    </tr>\n",
       "  </thead>\n",
       "  <tbody>\n",
       "    <tr>\n",
       "      <th>0</th>\n",
       "      <td>0</td>\n",
       "      <td>Can I change my feeling of being worthless to everyone?</td>\n",
       "      <td>I'm going through some things with my feelings and myself. I barely sleep and I do nothing but think about how I'm worthless and how I shouldn't be here.\\n   I've never tried or contemplated suici...</td>\n",
       "      <td>https://counselchat.com/questions/can-i-change-my-feeling-of-being-worthless-to-everyone</td>\n",
       "      <td>depression</td>\n",
       "      <td>Sherry Katz, LCSWCouples and Family Therapist, LCSW</td>\n",
       "      <td>https://counselchat.com/therapists/sherry-katz-lcsw</td>\n",
       "      <td>If everyone thinks you're worthless, then maybe you need to find new people to hang out with.Seriously, the social context in which a person lives is a big influence in self-esteem.Otherwise, you ...</td>\n",
       "      <td>1</td>\n",
       "      <td>2899</td>\n",
       "      <td>train</td>\n",
       "    </tr>\n",
       "    <tr>\n",
       "      <th>1</th>\n",
       "      <td>0</td>\n",
       "      <td>Can I change my feeling of being worthless to everyone?</td>\n",
       "      <td>I'm going through some things with my feelings and myself. I barely sleep and I do nothing but think about how I'm worthless and how I shouldn't be here.\\n   I've never tried or contemplated suici...</td>\n",
       "      <td>https://counselchat.com/questions/can-i-change-my-feeling-of-being-worthless-to-everyone</td>\n",
       "      <td>depression</td>\n",
       "      <td>Robin Landwehr, DBH, LPCC, NCCMental Health in a Primary Care Setting</td>\n",
       "      <td>https://counselchat.com/therapists/robin-landwehr-dbh-lpcc-ncc</td>\n",
       "      <td>Hello, and thank you for your question and seeking advice on this. Feelings of worthlessness is unfortunately common. In fact, most people, if not all, have felt this to some degree at some point ...</td>\n",
       "      <td>1</td>\n",
       "      <td>3514</td>\n",
       "      <td>train</td>\n",
       "    </tr>\n",
       "    <tr>\n",
       "      <th>2</th>\n",
       "      <td>0</td>\n",
       "      <td>Can I change my feeling of being worthless to everyone?</td>\n",
       "      <td>I'm going through some things with my feelings and myself. I barely sleep and I do nothing but think about how I'm worthless and how I shouldn't be here.\\n   I've never tried or contemplated suici...</td>\n",
       "      <td>https://counselchat.com/questions/can-i-change-my-feeling-of-being-worthless-to-everyone</td>\n",
       "      <td>depression</td>\n",
       "      <td>Lee KingI use an integrative approach to treatment and have an online therapy practice.</td>\n",
       "      <td>https://counselchat.com/therapists/lee-king</td>\n",
       "      <td>First thing I'd suggest is getting the sleep you need or it will impact how you think and feel. I'd look at finding what is going well in your life and what you can be grateful for. I believe ever...</td>\n",
       "      <td>0</td>\n",
       "      <td>5</td>\n",
       "      <td>train</td>\n",
       "    </tr>\n",
       "    <tr>\n",
       "      <th>3</th>\n",
       "      <td>0</td>\n",
       "      <td>Can I change my feeling of being worthless to everyone?</td>\n",
       "      <td>I'm going through some things with my feelings and myself. I barely sleep and I do nothing but think about how I'm worthless and how I shouldn't be here.\\n   I've never tried or contemplated suici...</td>\n",
       "      <td>https://counselchat.com/questions/can-i-change-my-feeling-of-being-worthless-to-everyone</td>\n",
       "      <td>depression</td>\n",
       "      <td>Shauntai Davis-YearginPersonalized, private online counseling for individuals and couples</td>\n",
       "      <td>https://counselchat.com/therapists/shauntai-davis-yeargin</td>\n",
       "      <td>Therapy is essential for those that are feeling depressed and worthless. When I work with those that are experiencing concerns related to feeling of depression and issues with self esteem. I gener...</td>\n",
       "      <td>0</td>\n",
       "      <td>31</td>\n",
       "      <td>train</td>\n",
       "    </tr>\n",
       "    <tr>\n",
       "      <th>4</th>\n",
       "      <td>0</td>\n",
       "      <td>Can I change my feeling of being worthless to everyone?</td>\n",
       "      <td>I'm going through some things with my feelings and myself. I barely sleep and I do nothing but think about how I'm worthless and how I shouldn't be here.\\n   I've never tried or contemplated suici...</td>\n",
       "      <td>https://counselchat.com/questions/can-i-change-my-feeling-of-being-worthless-to-everyone</td>\n",
       "      <td>depression</td>\n",
       "      <td>Jordan WhiteLicensed Social Worker at Oak Roots Dynamic</td>\n",
       "      <td>https://counselchat.com/therapists/jordan-white</td>\n",
       "      <td>I first want to let you know that you are not alone in your feelings and there is always someone there to help. You can always change your feelings and change your way of thinking by being open to...</td>\n",
       "      <td>0</td>\n",
       "      <td>620</td>\n",
       "      <td>train</td>\n",
       "    </tr>\n",
       "  </tbody>\n",
       "</table>\n",
       "</div>"
      ],
      "text/plain": [
       "   questionID                                            questionTitle  \\\n",
       "0           0  Can I change my feeling of being worthless to everyone?   \n",
       "1           0  Can I change my feeling of being worthless to everyone?   \n",
       "2           0  Can I change my feeling of being worthless to everyone?   \n",
       "3           0  Can I change my feeling of being worthless to everyone?   \n",
       "4           0  Can I change my feeling of being worthless to everyone?   \n",
       "\n",
       "                                                                                                                                                                                              questionText  \\\n",
       "0  I'm going through some things with my feelings and myself. I barely sleep and I do nothing but think about how I'm worthless and how I shouldn't be here.\\n   I've never tried or contemplated suici...   \n",
       "1  I'm going through some things with my feelings and myself. I barely sleep and I do nothing but think about how I'm worthless and how I shouldn't be here.\\n   I've never tried or contemplated suici...   \n",
       "2  I'm going through some things with my feelings and myself. I barely sleep and I do nothing but think about how I'm worthless and how I shouldn't be here.\\n   I've never tried or contemplated suici...   \n",
       "3  I'm going through some things with my feelings and myself. I barely sleep and I do nothing but think about how I'm worthless and how I shouldn't be here.\\n   I've never tried or contemplated suici...   \n",
       "4  I'm going through some things with my feelings and myself. I barely sleep and I do nothing but think about how I'm worthless and how I shouldn't be here.\\n   I've never tried or contemplated suici...   \n",
       "\n",
       "                                                                               questionLink  \\\n",
       "0  https://counselchat.com/questions/can-i-change-my-feeling-of-being-worthless-to-everyone   \n",
       "1  https://counselchat.com/questions/can-i-change-my-feeling-of-being-worthless-to-everyone   \n",
       "2  https://counselchat.com/questions/can-i-change-my-feeling-of-being-worthless-to-everyone   \n",
       "3  https://counselchat.com/questions/can-i-change-my-feeling-of-being-worthless-to-everyone   \n",
       "4  https://counselchat.com/questions/can-i-change-my-feeling-of-being-worthless-to-everyone   \n",
       "\n",
       "        topic  \\\n",
       "0  depression   \n",
       "1  depression   \n",
       "2  depression   \n",
       "3  depression   \n",
       "4  depression   \n",
       "\n",
       "                                                                               therapistInfo  \\\n",
       "0                                        Sherry Katz, LCSWCouples and Family Therapist, LCSW   \n",
       "1                      Robin Landwehr, DBH, LPCC, NCCMental Health in a Primary Care Setting   \n",
       "2    Lee KingI use an integrative approach to treatment and have an online therapy practice.   \n",
       "3  Shauntai Davis-YearginPersonalized, private online counseling for individuals and couples   \n",
       "4                                    Jordan WhiteLicensed Social Worker at Oak Roots Dynamic   \n",
       "\n",
       "                                                     therapistURL  \\\n",
       "0             https://counselchat.com/therapists/sherry-katz-lcsw   \n",
       "1  https://counselchat.com/therapists/robin-landwehr-dbh-lpcc-ncc   \n",
       "2                     https://counselchat.com/therapists/lee-king   \n",
       "3       https://counselchat.com/therapists/shauntai-davis-yeargin   \n",
       "4                 https://counselchat.com/therapists/jordan-white   \n",
       "\n",
       "                                                                                                                                                                                                answerText  \\\n",
       "0  If everyone thinks you're worthless, then maybe you need to find new people to hang out with.Seriously, the social context in which a person lives is a big influence in self-esteem.Otherwise, you ...   \n",
       "1  Hello, and thank you for your question and seeking advice on this. Feelings of worthlessness is unfortunately common. In fact, most people, if not all, have felt this to some degree at some point ...   \n",
       "2  First thing I'd suggest is getting the sleep you need or it will impact how you think and feel. I'd look at finding what is going well in your life and what you can be grateful for. I believe ever...   \n",
       "3  Therapy is essential for those that are feeling depressed and worthless. When I work with those that are experiencing concerns related to feeling of depression and issues with self esteem. I gener...   \n",
       "4  I first want to let you know that you are not alone in your feelings and there is always someone there to help. You can always change your feelings and change your way of thinking by being open to...   \n",
       "\n",
       "   upvotes  views  split  \n",
       "0        1   2899  train  \n",
       "1        1   3514  train  \n",
       "2        0      5  train  \n",
       "3        0     31  train  \n",
       "4        0    620  train  "
      ]
     },
     "execution_count": 5,
     "metadata": {},
     "output_type": "execute_result"
    }
   ],
   "source": [
    "df.head()"
   ]
  },
  {
   "cell_type": "code",
   "execution_count": 6,
   "metadata": {},
   "outputs": [
    {
     "data": {
      "text/html": [
       "<div>\n",
       "<style scoped>\n",
       "    .dataframe tbody tr th:only-of-type {\n",
       "        vertical-align: middle;\n",
       "    }\n",
       "\n",
       "    .dataframe tbody tr th {\n",
       "        vertical-align: top;\n",
       "    }\n",
       "\n",
       "    .dataframe thead th {\n",
       "        text-align: right;\n",
       "    }\n",
       "</style>\n",
       "<table border=\"1\" class=\"dataframe\">\n",
       "  <thead>\n",
       "    <tr style=\"text-align: right;\">\n",
       "      <th></th>\n",
       "      <th>questionID</th>\n",
       "      <th>questionTitle</th>\n",
       "      <th>questionText</th>\n",
       "      <th>questionLink</th>\n",
       "      <th>topic</th>\n",
       "      <th>therapistInfo</th>\n",
       "      <th>therapistURL</th>\n",
       "      <th>answerText</th>\n",
       "      <th>upvotes</th>\n",
       "      <th>views</th>\n",
       "      <th>split</th>\n",
       "    </tr>\n",
       "  </thead>\n",
       "  <tbody>\n",
       "    <tr>\n",
       "      <th>1526</th>\n",
       "      <td>648</td>\n",
       "      <td>I'm in love with a sex offender, but my family doesn't accept him</td>\n",
       "      <td>I started dating a guy I met online. He told me that he registered sex offender but he didn't do anything. He took a plea to always register as sex offender and he did two years. That was more tha...</td>\n",
       "      <td>https://counselchat.com/questions/i-m-in-love-with-a-sex-offender-but-my-family-doesn-t-accept-him</td>\n",
       "      <td>family-conflict</td>\n",
       "      <td>Britta NeinastLCSW</td>\n",
       "      <td>https://counselchat.com/therapists/britta-neinast-valparaiso</td>\n",
       "      <td>Thank you for your question. Trust is a huge thing in relationships and when that is broken, or perceived as being broken, it takes a long time to repair. From what you shared, it sounds like your...</td>\n",
       "      <td>2</td>\n",
       "      <td>228</td>\n",
       "      <td>val</td>\n",
       "    </tr>\n",
       "  </tbody>\n",
       "</table>\n",
       "</div>"
      ],
      "text/plain": [
       "      questionID  \\\n",
       "1526         648   \n",
       "\n",
       "                                                          questionTitle  \\\n",
       "1526  I'm in love with a sex offender, but my family doesn't accept him   \n",
       "\n",
       "                                                                                                                                                                                                 questionText  \\\n",
       "1526  I started dating a guy I met online. He told me that he registered sex offender but he didn't do anything. He took a plea to always register as sex offender and he did two years. That was more tha...   \n",
       "\n",
       "                                                                                            questionLink  \\\n",
       "1526  https://counselchat.com/questions/i-m-in-love-with-a-sex-offender-but-my-family-doesn-t-accept-him   \n",
       "\n",
       "                topic       therapistInfo  \\\n",
       "1526  family-conflict  Britta NeinastLCSW   \n",
       "\n",
       "                                                      therapistURL  \\\n",
       "1526  https://counselchat.com/therapists/britta-neinast-valparaiso   \n",
       "\n",
       "                                                                                                                                                                                                   answerText  \\\n",
       "1526  Thank you for your question. Trust is a huge thing in relationships and when that is broken, or perceived as being broken, it takes a long time to repair. From what you shared, it sounds like your...   \n",
       "\n",
       "      upvotes  views split  \n",
       "1526        2    228   val  "
      ]
     },
     "execution_count": 6,
     "metadata": {},
     "output_type": "execute_result"
    }
   ],
   "source": [
    "df.sample(1)"
   ]
  },
  {
   "cell_type": "code",
   "execution_count": 7,
   "metadata": {},
   "outputs": [],
   "source": [
    "for c in ['questionTitle', 'questionText', 'answerText']: df[c] = df[c].astype(str)"
   ]
  },
  {
   "cell_type": "markdown",
   "metadata": {},
   "source": [
    "# EXPLORATORY DATA ANALYSIS"
   ]
  },
  {
   "cell_type": "markdown",
   "metadata": {},
   "source": [
    "### question and answer lengths"
   ]
  },
  {
   "cell_type": "code",
   "execution_count": 143,
   "metadata": {},
   "outputs": [],
   "source": [
    "qu_lens = df.questionText.apply(lambda x: len(x.split()))\n",
    "an_lens = df.answerText.apply(lambda x: len(x.split()))"
   ]
  },
  {
   "cell_type": "code",
   "execution_count": 9,
   "metadata": {},
   "outputs": [
    {
     "data": {
      "image/png": "[encoded data removed]",
      "text/plain": [
       "<Figure size 864x360 with 2 Axes>"
      ]
     },
     "metadata": {
      "needs_background": "light"
     },
     "output_type": "display_data"
    }
   ],
   "source": [
    "fig, (ax1,ax2) = plt.subplots(1, 2, figsize=(12,5))\n",
    "ax1.hist(qu_lens, bins=50); ax1.set_title('Question Lengths'); ax1.grid()\n",
    "ax2.hist(an_lens, bins=50); ax2.set_title('Answer Lengths'); ax2.grid()\n",
    "plt.show()"
   ]
  },
  {
   "cell_type": "code",
   "execution_count": 10,
   "metadata": {},
   "outputs": [
    {
     "data": {
      "text/plain": [
       "(2271, 890, 827, 2127)"
      ]
     },
     "execution_count": 10,
     "metadata": {},
     "output_type": "execute_result"
    }
   ],
   "source": [
    "len(df), df.questionTitle.nunique(), df.questionText.nunique(), df.answerText.nunique()"
   ]
  },
  {
   "cell_type": "markdown",
   "metadata": {},
   "source": [
    "### data structure"
   ]
  },
  {
   "cell_type": "markdown",
   "metadata": {},
   "source": [
    "- many questions have multiple answers\n",
    "- most answers are unique, but there are some duplicates"
   ]
  },
  {
   "cell_type": "markdown",
   "metadata": {},
   "source": [
    "How many answers per question?"
   ]
  },
  {
   "cell_type": "code",
   "execution_count": 11,
   "metadata": {},
   "outputs": [
    {
     "data": {
      "image/png": "[encoded data removed]",
      "text/plain": [
       "<Figure size 432x288 with 1 Axes>"
      ]
     },
     "metadata": {
      "needs_background": "light"
     },
     "output_type": "display_data"
    }
   ],
   "source": [
    "fig, ax = plt.subplots()\n",
    "_ = ax.hist(df.groupby('questionText').size().values, bins=50)\n",
    "ax.grid()"
   ]
  },
  {
   "cell_type": "markdown",
   "metadata": {},
   "source": [
    "### observe some data"
   ]
  },
  {
   "cell_type": "code",
   "execution_count": 12,
   "metadata": {},
   "outputs": [],
   "source": [
    "def print_sample():\n",
    "    sample_qid = df.sample(1)['questionID'].iloc[0]\n",
    "    qu_mask = df.questionID == sample_qid\n",
    "    df_qu = df[qu_mask]\n",
    "    print('QUESTION:')\n",
    "    print(df_qu.iloc[0]['questionText'])\n",
    "    for idx, row in df_qu.iterrows():\n",
    "        print('\\nANSWER:')\n",
    "        print(row['answerText'])"
   ]
  },
  {
   "cell_type": "code",
   "execution_count": 13,
   "metadata": {
    "scrolled": false
   },
   "outputs": [
    {
     "name": "stdout",
     "output_type": "stream",
     "text": [
      "QUESTION:\n",
      "My brother has been diagnosed with paranoid schizophrenia and has not been taking his medication. He's been using methamphetamine and alcohol and was found sleeping naked in my step mom driveway in 12 degree weather.\n",
      "   I was adopted in by his dad (who just passed) and his mother will not Get involved because she's afraid of financial responsibility.    Do I have the rights to be able to sign my brother into mentalhealth facility?\n",
      "\n",
      "ANSWER:\n",
      "I'm sorry to hear that your brother has been having such a rough time. He's lucky to have you on his side (although he may not always see it that way).As far as whether you can sign him in, that depends on a lot of different things.I would suggest that you Google the state and county that you live in as well as some phrase similar to \"crisis hotline.\" They can tell you how it works in that county. My guess is that you could sign him in as long as he met the criteria for admission at that moment, but I can't  be entirely sure. You could also ask the person on the phone about financial responsibility. I have not heard of that being a problem, but I guess it would depend on insurance.If you have trouble finding a local  hotline, consider calling the national crisis number (800-273-8255) and ask them to help you find someone local.\n",
      "\n",
      "ANSWER:\n",
      "Thanks for asking this question. I know it can be really difficult to deal with issues like this.To answer your question, you might be able to get you brother some mental health help, even if he doesn't recognize that he needs it. In most states, an individual can request a mental health evaluation of a family member if that family member poses a danger to themselves or someone else, or if they are unable to take care of their own basic needs.You can always call 911 if you are concerned about his immediate safety (for example if you find him sleeping outside in below freezing weather.  As an alternative to calling 911, you might also be able to request an evaluation from an authorized mental health provider.  The deatsils of who you would contact vary from state to state. Here's a link with some additional resources:http://www.treatmentadvocacycenter.org/someone-i-know-is-in-crisisHe's lucky to have a brother who cares for his wellbeing as much as you do.\n",
      "\n",
      "ANSWER:\n",
      "The answer depends on what State you live.Since the description you write here is that your brother may be a serious risk to himself and others, it is worth contacting a mental health hotline or one of your local area hospitals and talk to a social worker or other professional level person in their psychiatry department.  Ask the same question you posted here.   Your question is a good one and merits serious follow through.\n",
      "\n",
      "ANSWER:\n",
      "Hello, My heart goes out to you, your brother, and your family, dealing with a very painful and difficult situation. In New York, you can't institutionalize someone else directly. You can, however, call the police or EMS. If they agree that he would benefit from hospitalization (and it sounds like they would), he can be held in the hospital for up to 72 hours, whether he agrees or not. Some hospitals will not hold a person that long, in spite of what we might want. I have seen many patients in and out of hospitals countless times, and it has been my experience that it can be extremely difficult to hold a person long enough to achieve good stability and an appropriate after-care plan. Hospitals in NYC tend to take a \"patch and release\" approach more often than I would like. It's been my experience that family makes a difference. Assertive, knowledgeable, persistent family can improve the quality of your loved one's care. Hospitals are highly pressured to discharge people quickly but they can not discharge a homeless person without someplace to go. If your family is willing to accept your brother, that will be the path of least resistance for the hospital. If the family refuses, they will be forced to find another path for him. You can also pressure the hospital to refer to rehab after psychiatrically stablized (which may only take a few days) and that may give your brother more time to begin making clear-headed decisions. If your brother has a psychiatrist, that person should be actively involved. I had a patient patched-and-released three times, in spite of my advocacy and him literally begging to remain and stop his voices. We finally got a 90 day hospitalization because I strong-armed his psychiatrist into demanding that the hospital stabilize his patient.  If your brother has a history of non--compliance with oral medications, you can push the hospital for injection, which again will help your brother stay stable for longer. Best wishes to you and your family.\n",
      "\n",
      "ANSWER:\n",
      "Family members sometimes get Power of Attorney over vulnerable adults. If you had this, you could do something like that. I'm assuming that you don't, though. There are steps family members can take through the court system to get someone involuntarily committed, but it is a long process. I deal with situations like this everyday on the job. The only time an adult can be committed against their will is if they are deemed by the doctor (such as at an emergency room) to be a threat to self or others. For instance, if he had suicidal thoughts and a plan to carry out the action, or if he had homicidal thoughts against someone else and a plan to carry it out, he could be placed on a short hold, but these holds only last for a few days. This still isn't a long-term solution. An adult has the right to refuse treatment and the right to make their own choices, no matter how bad those choices are. If you have a way to get him to an ER whenever things like that happen, such as being found sleeping outside in 12 degree weather, it will help a lot. They may or may not do a short term commitment for treatment based on the situation that brings him to the ER, but it's a start. They can help set him up with appointments for psych and he can get on medications. You can help by taking him to appointments and making sure his medications get filled. However, you can't force him to take the meds, so this may be something that happens a lot. With enough of a paper trail of many ER visits and that sort of thing, you'll stand a better chance of getting a court appointed psych ward stay. Some tips about ER visits: Don't send him alone. Always go with him or have someone go with him, because you will be able to give the treatment team better insight into what's going on than he will. He may say everything's fine and he wants to leave, so they won't have any reason to keep him if that is the case. Go with him. If you do get Power of Attorney, take the paperwork with you when you go to the ER and to doctor's appointments because they aren't just going to take your word. They need to see the actual paperwork. Having it on file in their system isn't good enough because paperwork expires, etc. Take it with you at all times. You can also compile his medical records and that sort of thing to take with you so they can see a full history of what's going on.Keep in mind that if you do get Power of Attorney, this makes you his guardian and you have to take care of him. Otherwise, you can get reported for vulnerable adult abuse and neglect. In fact, your mom ignoring and not helping may already put her at risk of that because she is willingly doing nothing to help someone who clearly needs the help. She won't be financially responsible for the hospital or doctor bills, but should be held responsible for his safety. Someone should. There are group homes for people with schizophrenia. \" Being responsible\" for someone doesn't mean you have to pay their bills, it just means you are going to make sure they get the care they need. That care may be placement in a long-term care facility like a group home or a nursing home. Psych inpatient hospitals aren't long-term, so you do need to look into other long-term options. Psych inpatient stays are temporary and are to stabilize him, they're not where someone stays forever.Good luck, and keep up the good attitude! Work with his treatment team. Ask for a social worker. If they see family that is wanting to do the right thing and wanting to help, they'll help you even if it does take a while to get things sorted out. The worst thing any of you can do is NOT go to appointments and that sort of thing.\n"
     ]
    }
   ],
   "source": [
    "print_sample()"
   ]
  },
  {
   "cell_type": "markdown",
   "metadata": {},
   "source": [
    "\n",
    "> It seems like since the \"winter blues\" happens to you every year it may also be impacting your quality of life and possibly relationships."
   ]
  },
  {
   "cell_type": "markdown",
   "metadata": {},
   "source": [
    "### How reliable is the `questionID` field?"
   ]
  },
  {
   "cell_type": "code",
   "execution_count": 14,
   "metadata": {},
   "outputs": [
    {
     "data": {
      "text/plain": [
       "num_questionTitles\n",
       "1    864\n",
       "2     21\n",
       "dtype: int64"
      ]
     },
     "execution_count": 14,
     "metadata": {},
     "output_type": "execute_result"
    }
   ],
   "source": [
    "df.groupby('questionID')['questionTitle'].nunique().to_frame(\n",
    "    'num_questionTitles').groupby('num_questionTitles').size()"
   ]
  },
  {
   "cell_type": "code",
   "execution_count": 15,
   "metadata": {},
   "outputs": [
    {
     "data": {
      "text/plain": [
       "num_questionTitles\n",
       "1    864\n",
       "2     21\n",
       "dtype: int64"
      ]
     },
     "execution_count": 15,
     "metadata": {},
     "output_type": "execute_result"
    }
   ],
   "source": [
    "df.groupby('questionID')['questionText'].nunique().to_frame(\n",
    "    'num_questionTitles').groupby('num_questionTitles').size()"
   ]
  },
  {
   "cell_type": "markdown",
   "metadata": {},
   "source": [
    "Most `questionID`s map to a single `questionText`/`questionTitle`. It isn't perfect, but is reliable enough for now."
   ]
  },
  {
   "cell_type": "markdown",
   "metadata": {},
   "source": [
    "# TRAIN/TEST SPLIT"
   ]
  },
  {
   "cell_type": "code",
   "execution_count": 16,
   "metadata": {},
   "outputs": [
    {
     "data": {
      "text/plain": [
       "train    1963\n",
       "val       185\n",
       "test      123\n",
       "Name: split, dtype: int64"
      ]
     },
     "execution_count": 16,
     "metadata": {},
     "output_type": "execute_result"
    }
   ],
   "source": [
    "df.split.value_counts(dropna=False)"
   ]
  },
  {
   "cell_type": "markdown",
   "metadata": {},
   "source": [
    "# REFLECTION MINING"
   ]
  },
  {
   "cell_type": "markdown",
   "metadata": {},
   "source": [
    "### first sentence"
   ]
  },
  {
   "cell_type": "code",
   "execution_count": 146,
   "metadata": {},
   "outputs": [],
   "source": [
    "sent_split_regex = re.compile(r'(?<!\\w\\.\\w.)(?<![A-Z][a-z]\\.)(?<=\\.|\\?)\\s')"
   ]
  },
  {
   "cell_type": "code",
   "execution_count": 147,
   "metadata": {},
   "outputs": [],
   "source": [
    "df['first_an_sent'] = df.answerText.apply(lambda x: sent_split_regex.split(x)[0])"
   ]
  },
  {
   "cell_type": "code",
   "execution_count": 148,
   "metadata": {
    "scrolled": true
   },
   "outputs": [
    {
     "data": {
      "text/html": [
       "<div>\n",
       "<style scoped>\n",
       "    .dataframe tbody tr th:only-of-type {\n",
       "        vertical-align: middle;\n",
       "    }\n",
       "\n",
       "    .dataframe tbody tr th {\n",
       "        vertical-align: top;\n",
       "    }\n",
       "\n",
       "    .dataframe thead th {\n",
       "        text-align: right;\n",
       "    }\n",
       "</style>\n",
       "<table border=\"1\" class=\"dataframe\">\n",
       "  <thead>\n",
       "    <tr style=\"text-align: right;\">\n",
       "      <th></th>\n",
       "      <th>answerText</th>\n",
       "      <th>first_an_sent</th>\n",
       "    </tr>\n",
       "  </thead>\n",
       "  <tbody>\n",
       "    <tr>\n",
       "      <th>1398</th>\n",
       "      <td>I think the best thing for you is to speak with someone on how you can best cope with the situation.  It can be challenging living in a household with someone who is currently addicted.  It is als...</td>\n",
       "      <td>I think the best thing for you is to speak with someone on how you can best cope with the situation.</td>\n",
       "    </tr>\n",
       "    <tr>\n",
       "      <th>2217</th>\n",
       "      <td>It is absolutely normal to be nervous about therapy.  Many people take years to make the decision to start counseling and although it is a safe place to explore feelings, it may be the first time ...</td>\n",
       "      <td>It is absolutely normal to be nervous about therapy.</td>\n",
       "    </tr>\n",
       "    <tr>\n",
       "      <th>1993</th>\n",
       "      <td>This is actually more common then we often realize, and actually understandable, as he has gone through a trauma, an unresolved existential crisis.  He was taken care of by others and now is again...</td>\n",
       "      <td>This is actually more common then we often realize, and actually understandable, as he has gone through a trauma, an unresolved existential crisis.</td>\n",
       "    </tr>\n",
       "    <tr>\n",
       "      <th>1078</th>\n",
       "      <td>Anger is a normal emotion, no different than joy, elation, or sadness. It's not anger that gets us in trouble it's the overtness of the emotion or how we allow it to manifest that gets us in troub...</td>\n",
       "      <td>Anger is a normal emotion, no different than joy, elation, or sadness.</td>\n",
       "    </tr>\n",
       "    <tr>\n",
       "      <th>1423</th>\n",
       "      <td>There are many conflicting emotions and tasks that arise when one becomes a caretaker for their parent. Expressing positive emotions to her (i.e. \"Mom, I love and care for you, and enjoy our time ...</td>\n",
       "      <td>There are many conflicting emotions and tasks that arise when one becomes a caretaker for their parent.</td>\n",
       "    </tr>\n",
       "    <tr>\n",
       "      <th>2020</th>\n",
       "      <td>Hello, and thank you for your question. Self-diagnosing is something that we all do about one health issue or another. Taking a guess about what may or may not be happening to us is completely nor...</td>\n",
       "      <td>Hello, and thank you for your question.</td>\n",
       "    </tr>\n",
       "    <tr>\n",
       "      <th>440</th>\n",
       "      <td>A break up, even one that you initiated, may deserve some time and space to allow it to be complete.There's a few ideas I'll throw out there and you can choose if they stick.  One is to re-invest ...</td>\n",
       "      <td>A break up, even one that you initiated, may deserve some time and space to allow it to be complete.There's a few ideas I'll throw out there and you can choose if they stick.</td>\n",
       "    </tr>\n",
       "    <tr>\n",
       "      <th>305</th>\n",
       "      <td>Hi Boise, I'm sorry that you've lost this love. The fact that you were planning marriage and a future tells me that you meant something very special to each other at that time. It's different now....</td>\n",
       "      <td>Hi Boise, I'm sorry that you've lost this love.</td>\n",
       "    </tr>\n",
       "    <tr>\n",
       "      <th>813</th>\n",
       "      <td>I'm glad you're aware of how you honestly feel.  Knowing one's personal truth is always the first step in finding what is necessary to be and develop.Reflect a little more on the type of care you'...</td>\n",
       "      <td>I'm glad you're aware of how you honestly feel.</td>\n",
       "    </tr>\n",
       "    <tr>\n",
       "      <th>544</th>\n",
       "      <td>This is a very common question in my practice. Panic attacks typically emerge from an underlying issue (ex. Depression, low self-esteem, fears). To decrease your anxiety symptoms it’s recommended ...</td>\n",
       "      <td>This is a very common question in my practice.</td>\n",
       "    </tr>\n",
       "  </tbody>\n",
       "</table>\n",
       "</div>"
      ],
      "text/plain": [
       "                                                                                                                                                                                                   answerText  \\\n",
       "1398  I think the best thing for you is to speak with someone on how you can best cope with the situation.  It can be challenging living in a household with someone who is currently addicted.  It is als...   \n",
       "2217  It is absolutely normal to be nervous about therapy.  Many people take years to make the decision to start counseling and although it is a safe place to explore feelings, it may be the first time ...   \n",
       "1993  This is actually more common then we often realize, and actually understandable, as he has gone through a trauma, an unresolved existential crisis.  He was taken care of by others and now is again...   \n",
       "1078  Anger is a normal emotion, no different than joy, elation, or sadness. It's not anger that gets us in trouble it's the overtness of the emotion or how we allow it to manifest that gets us in troub...   \n",
       "1423  There are many conflicting emotions and tasks that arise when one becomes a caretaker for their parent. Expressing positive emotions to her (i.e. \"Mom, I love and care for you, and enjoy our time ...   \n",
       "2020  Hello, and thank you for your question. Self-diagnosing is something that we all do about one health issue or another. Taking a guess about what may or may not be happening to us is completely nor...   \n",
       "440   A break up, even one that you initiated, may deserve some time and space to allow it to be complete.There's a few ideas I'll throw out there and you can choose if they stick.  One is to re-invest ...   \n",
       "305   Hi Boise, I'm sorry that you've lost this love. The fact that you were planning marriage and a future tells me that you meant something very special to each other at that time. It's different now....   \n",
       "813   I'm glad you're aware of how you honestly feel.  Knowing one's personal truth is always the first step in finding what is necessary to be and develop.Reflect a little more on the type of care you'...   \n",
       "544   This is a very common question in my practice. Panic attacks typically emerge from an underlying issue (ex. Depression, low self-esteem, fears). To decrease your anxiety symptoms it’s recommended ...   \n",
       "\n",
       "                                                                                                                                                                       first_an_sent  \n",
       "1398                                                                            I think the best thing for you is to speak with someone on how you can best cope with the situation.  \n",
       "2217                                                                                                                            It is absolutely normal to be nervous about therapy.  \n",
       "1993                             This is actually more common then we often realize, and actually understandable, as he has gone through a trauma, an unresolved existential crisis.  \n",
       "1078                                                                                                          Anger is a normal emotion, no different than joy, elation, or sadness.  \n",
       "1423                                                                         There are many conflicting emotions and tasks that arise when one becomes a caretaker for their parent.  \n",
       "2020                                                                                                                                         Hello, and thank you for your question.  \n",
       "440   A break up, even one that you initiated, may deserve some time and space to allow it to be complete.There's a few ideas I'll throw out there and you can choose if they stick.  \n",
       "305                                                                                                                                  Hi Boise, I'm sorry that you've lost this love.  \n",
       "813                                                                                                                                  I'm glad you're aware of how you honestly feel.  \n",
       "544                                                                                                                                   This is a very common question in my practice.  "
      ]
     },
     "execution_count": 148,
     "metadata": {},
     "output_type": "execute_result"
    }
   ],
   "source": [
    "df[['answerText', 'first_an_sent']].sample(10)"
   ]
  },
  {
   "cell_type": "code",
   "execution_count": 149,
   "metadata": {
    "scrolled": true
   },
   "outputs": [
    {
     "data": {
      "text/html": [
       "<div>\n",
       "<style scoped>\n",
       "    .dataframe tbody tr th:only-of-type {\n",
       "        vertical-align: middle;\n",
       "    }\n",
       "\n",
       "    .dataframe tbody tr th {\n",
       "        vertical-align: top;\n",
       "    }\n",
       "\n",
       "    .dataframe thead th {\n",
       "        text-align: right;\n",
       "    }\n",
       "</style>\n",
       "<table border=\"1\" class=\"dataframe\">\n",
       "  <thead>\n",
       "    <tr style=\"text-align: right;\">\n",
       "      <th></th>\n",
       "      <th>answerText</th>\n",
       "      <th>first_an_sent</th>\n",
       "    </tr>\n",
       "  </thead>\n",
       "  <tbody>\n",
       "    <tr>\n",
       "      <th>77</th>\n",
       "      <td>Depression and anxiety can be disconcerting and disruptive to our lives in many ways. I am sorry that you are suffering so much. Depression and anxiety can arise due to experiences, genetics or a ...</td>\n",
       "      <td>Depression and anxiety can be disconcerting and disruptive to our lives in many ways.</td>\n",
       "    </tr>\n",
       "    <tr>\n",
       "      <th>838</th>\n",
       "      <td>Hi!I’m sorry you’re having this dilemma. I wish I knew a little more about the situation to give a better answer. Have you discussed what is causing you to consider breaking up with your partner? ...</td>\n",
       "      <td>Hi!I’m sorry you’re having this dilemma.</td>\n",
       "    </tr>\n",
       "    <tr>\n",
       "      <th>1437</th>\n",
       "      <td>These are common challenges that involve setting healthy boundaries with family, as well as friends and co-workers.  Therapy can help you to define, establish and enforce boundaries between self a...</td>\n",
       "      <td>These are common challenges that involve setting healthy boundaries with family, as well as friends and co-workers.</td>\n",
       "    </tr>\n",
       "    <tr>\n",
       "      <th>1211</th>\n",
       "      <td>Pleasing someone certainly does feel satisfying.  If the other person does not appreciate your effort and good will then this feels dissatisfying.Offering happiness to someone does not include tol...</td>\n",
       "      <td>Pleasing someone certainly does feel satisfying.</td>\n",
       "    </tr>\n",
       "    <tr>\n",
       "      <th>567</th>\n",
       "      <td>How is your boyfriend responding to your discomfort around him?Has he told you that he's noticed changes in you?The good news about a relationship is that you can talk about matters with the other...</td>\n",
       "      <td>How is your boyfriend responding to your discomfort around him?Has he told you that he's noticed changes in you?The good news about a relationship is that you can talk about matters with the other...</td>\n",
       "    </tr>\n",
       "    <tr>\n",
       "      <th>2167</th>\n",
       "      <td>It is usually time to end counseling sessions when it is clear to both the client and the counselor that therapeutic goals have been reached and enough improvement has been made that the client ca...</td>\n",
       "      <td>It is usually time to end counseling sessions when it is clear to both the client and the counselor that therapeutic goals have been reached and enough improvement has been made that the client ca...</td>\n",
       "    </tr>\n",
       "    <tr>\n",
       "      <th>62</th>\n",
       "      <td>Not at all! Whatever issues you might have you can bring to the therapy room. Remember therapy is about YOU, not your therapist. You bring whatever you need to bring to the table. Keep in mind the...</td>\n",
       "      <td>Not at all! Whatever issues you might have you can bring to the therapy room.</td>\n",
       "    </tr>\n",
       "    <tr>\n",
       "      <th>2191</th>\n",
       "      <td>A counselor can do a few things that can be helpful:1) Give you a space where you can explore what's in your head without worrying about being judged or punished.2) Help you better understand your...</td>\n",
       "      <td>A counselor can do a few things that can be helpful:1) Give you a space where you can explore what's in your head without worrying about being judged or punished.2) Help you better understand your...</td>\n",
       "    </tr>\n",
       "    <tr>\n",
       "      <th>1518</th>\n",
       "      <td>I understand that this can be difficult when you care about someone. Have you had a discussion with your mom as to why she does not want you and this boy to see each other, and what her concerns a...</td>\n",
       "      <td>I understand that this can be difficult when you care about someone.</td>\n",
       "    </tr>\n",
       "    <tr>\n",
       "      <th>1386</th>\n",
       "      <td>While smoking can be incredibly difficult to quit doing, it's not impossible, so the first thing to NOT lose is hope. And certainly planning to have a baby can be exactly the catalyst that one nee...</td>\n",
       "      <td>While smoking can be incredibly difficult to quit doing, it's not impossible, so the first thing to NOT lose is hope.</td>\n",
       "    </tr>\n",
       "  </tbody>\n",
       "</table>\n",
       "</div>"
      ],
      "text/plain": [
       "                                                                                                                                                                                                   answerText  \\\n",
       "77    Depression and anxiety can be disconcerting and disruptive to our lives in many ways. I am sorry that you are suffering so much. Depression and anxiety can arise due to experiences, genetics or a ...   \n",
       "838   Hi!I’m sorry you’re having this dilemma. I wish I knew a little more about the situation to give a better answer. Have you discussed what is causing you to consider breaking up with your partner? ...   \n",
       "1437  These are common challenges that involve setting healthy boundaries with family, as well as friends and co-workers.  Therapy can help you to define, establish and enforce boundaries between self a...   \n",
       "1211  Pleasing someone certainly does feel satisfying.  If the other person does not appreciate your effort and good will then this feels dissatisfying.Offering happiness to someone does not include tol...   \n",
       "567   How is your boyfriend responding to your discomfort around him?Has he told you that he's noticed changes in you?The good news about a relationship is that you can talk about matters with the other...   \n",
       "2167  It is usually time to end counseling sessions when it is clear to both the client and the counselor that therapeutic goals have been reached and enough improvement has been made that the client ca...   \n",
       "62    Not at all! Whatever issues you might have you can bring to the therapy room. Remember therapy is about YOU, not your therapist. You bring whatever you need to bring to the table. Keep in mind the...   \n",
       "2191  A counselor can do a few things that can be helpful:1) Give you a space where you can explore what's in your head without worrying about being judged or punished.2) Help you better understand your...   \n",
       "1518  I understand that this can be difficult when you care about someone. Have you had a discussion with your mom as to why she does not want you and this boy to see each other, and what her concerns a...   \n",
       "1386  While smoking can be incredibly difficult to quit doing, it's not impossible, so the first thing to NOT lose is hope. And certainly planning to have a baby can be exactly the catalyst that one nee...   \n",
       "\n",
       "                                                                                                                                                                                                first_an_sent  \n",
       "77                                                                                                                      Depression and anxiety can be disconcerting and disruptive to our lives in many ways.  \n",
       "838                                                                                                                                                                  Hi!I’m sorry you’re having this dilemma.  \n",
       "1437                                                                                      These are common challenges that involve setting healthy boundaries with family, as well as friends and co-workers.  \n",
       "1211                                                                                                                                                         Pleasing someone certainly does feel satisfying.  \n",
       "567   How is your boyfriend responding to your discomfort around him?Has he told you that he's noticed changes in you?The good news about a relationship is that you can talk about matters with the other...  \n",
       "2167  It is usually time to end counseling sessions when it is clear to both the client and the counselor that therapeutic goals have been reached and enough improvement has been made that the client ca...  \n",
       "62                                                                                                                              Not at all! Whatever issues you might have you can bring to the therapy room.  \n",
       "2191  A counselor can do a few things that can be helpful:1) Give you a space where you can explore what's in your head without worrying about being judged or punished.2) Help you better understand your...  \n",
       "1518                                                                                                                                     I understand that this can be difficult when you care about someone.  \n",
       "1386                                                                                    While smoking can be incredibly difficult to quit doing, it's not impossible, so the first thing to NOT lose is hope.  "
      ]
     },
     "execution_count": 149,
     "metadata": {},
     "output_type": "execute_result"
    }
   ],
   "source": [
    "df[['answerText', 'first_an_sent']].sample(10)"
   ]
  },
  {
   "cell_type": "markdown",
   "metadata": {},
   "source": [
    "### \"seems like\" / \"sounds like\""
   ]
  },
  {
   "cell_type": "code",
   "execution_count": 158,
   "metadata": {},
   "outputs": [],
   "source": [
    "import re\n",
    "seem_sounds_regex = re.compile(r'^.{0,50}?(?:seems\\slike)|(?:sounds\\slike)')"
   ]
  },
  {
   "cell_type": "code",
   "execution_count": 159,
   "metadata": {},
   "outputs": [],
   "source": [
    "def extract_seems_sounds(s):\n",
    "    sents = sent_split_regex.split(s)\n",
    "    for sent in sents:\n",
    "        match = seem_sounds_regex.match(sent.lower())\n",
    "        if match is not None: return sent"
   ]
  },
  {
   "cell_type": "code",
   "execution_count": 160,
   "metadata": {},
   "outputs": [],
   "source": [
    "df['seems_sounds_sents'] = df.answerText.apply(extract_seems_sounds)"
   ]
  },
  {
   "cell_type": "code",
   "execution_count": 161,
   "metadata": {},
   "outputs": [
    {
     "data": {
      "text/plain": [
       "True     2232\n",
       "False      39\n",
       "Name: seems_sounds_sents, dtype: int64"
      ]
     },
     "execution_count": 161,
     "metadata": {},
     "output_type": "execute_result"
    }
   ],
   "source": [
    "df.seems_sounds_sents.isnull().value_counts()"
   ]
  },
  {
   "cell_type": "markdown",
   "metadata": {},
   "source": [
    "This method did not yield many new reflections. Only 35 out of 2k+. "
   ]
  },
  {
   "cell_type": "code",
   "execution_count": 24,
   "metadata": {},
   "outputs": [
    {
     "data": {
      "text/html": [
       "<div>\n",
       "<style scoped>\n",
       "    .dataframe tbody tr th:only-of-type {\n",
       "        vertical-align: middle;\n",
       "    }\n",
       "\n",
       "    .dataframe tbody tr th {\n",
       "        vertical-align: top;\n",
       "    }\n",
       "\n",
       "    .dataframe thead th {\n",
       "        text-align: right;\n",
       "    }\n",
       "</style>\n",
       "<table border=\"1\" class=\"dataframe\">\n",
       "  <thead>\n",
       "    <tr style=\"text-align: right;\">\n",
       "      <th></th>\n",
       "      <th>answerText</th>\n",
       "      <th>seems_sounds_sents</th>\n",
       "    </tr>\n",
       "  </thead>\n",
       "  <tbody>\n",
       "    <tr>\n",
       "      <th>2243</th>\n",
       "      <td>Great question. The decision to pursue therapy can be a very difficult one and the fact that there seem to be so many profiles that you have to wade through can be particularly daunting. Here's wh...</td>\n",
       "      <td>Set up an appointment with the person who seems like the best fit and give it a try for the first session</td>\n",
       "    </tr>\n",
       "    <tr>\n",
       "      <th>868</th>\n",
       "      <td>It's difficult to move on and let go, especially when you've experienced things for the first time with someone, or feelings you've never felt before, as you said.I like the fact that you are look...</td>\n",
       "      <td>It seems like it's the LOVE that you can't let go of, and the feelings</td>\n",
       "    </tr>\n",
       "    <tr>\n",
       "      <th>267</th>\n",
       "      <td>It seems like you may be experiencing depression symptoms, they could be the triggered by unexpected life changes, or building up throughout time.The important part is that you have identified the...</td>\n",
       "      <td>It seems like you may be experiencing depression symptoms, they could be the triggered by unexpected life changes, or building up throughout time</td>\n",
       "    </tr>\n",
       "    <tr>\n",
       "      <th>1439</th>\n",
       "      <td>Sounds like it is time to set some boundaries with your mom.  You can do this by letting her know that you understand how she is feeling and you understand that she is under a tremendous amount of...</td>\n",
       "      <td>Sounds like it is time to set some boundaries with your mom</td>\n",
       "    </tr>\n",
       "    <tr>\n",
       "      <th>209</th>\n",
       "      <td>Teenage years are rough for anyone, and this is a time for self-discovery and experimentation. Having older parents can certainly pose challenges. Most kids feel like their parents don't understan...</td>\n",
       "      <td>It seems like you're looking for affirmation from them, looking for their approval and understanding</td>\n",
       "    </tr>\n",
       "    <tr>\n",
       "      <th>554</th>\n",
       "      <td>Sounds like you are struggling with your own negative thoughts.  As you stated, everything was great then you started having low self-esteem thoughts and thinking.  What is contributing to these n...</td>\n",
       "      <td>Sounds like you are struggling with your own negative thoughts</td>\n",
       "    </tr>\n",
       "    <tr>\n",
       "      <th>582</th>\n",
       "      <td>Sounds like your panic is less about loosing the relationship you are in (which by the way doesn't sound like it's meeting YOUR need for connection) and more about being alone. Being with him is s...</td>\n",
       "      <td>Sounds like your panic is less about loosing the relationship you are in (which by the way doesn't sound like it's meeting YOUR need for connection) and more about being alone</td>\n",
       "    </tr>\n",
       "    <tr>\n",
       "      <th>227</th>\n",
       "      <td>It seems like you are very receptive of your husband’s emotions and want to support him trough this time.  But it is also important of being aware of your emotions.  How are you feeling after the ...</td>\n",
       "      <td>It seems like you are very receptive of your husband’s emotions and want to support him trough this time</td>\n",
       "    </tr>\n",
       "    <tr>\n",
       "      <th>1704</th>\n",
       "      <td>Sounds like you are dealing with a lot within your self which is causing you great pain.  I would suggest that first you get a full physical evaluation to make sure that you are ok physically.  Th...</td>\n",
       "      <td>Sounds like you are dealing with a lot within your self which is causing you great pain</td>\n",
       "    </tr>\n",
       "    <tr>\n",
       "      <th>480</th>\n",
       "      <td>Yes, it seems like you may have a type of anxiety: but considering that it is intermittent, it may be a good idea to talk to a therapist and explore what triggers the anxiety.  Different types of ...</td>\n",
       "      <td>Yes, it seems like you may have a type of anxiety: but considering that it is intermittent, it may be a good idea to talk to a therapist and explore what triggers the anxiety</td>\n",
       "    </tr>\n",
       "  </tbody>\n",
       "</table>\n",
       "</div>"
      ],
      "text/plain": [
       "                                                                                                                                                                                                   answerText  \\\n",
       "2243  Great question. The decision to pursue therapy can be a very difficult one and the fact that there seem to be so many profiles that you have to wade through can be particularly daunting. Here's wh...   \n",
       "868   It's difficult to move on and let go, especially when you've experienced things for the first time with someone, or feelings you've never felt before, as you said.I like the fact that you are look...   \n",
       "267   It seems like you may be experiencing depression symptoms, they could be the triggered by unexpected life changes, or building up throughout time.The important part is that you have identified the...   \n",
       "1439  Sounds like it is time to set some boundaries with your mom.  You can do this by letting her know that you understand how she is feeling and you understand that she is under a tremendous amount of...   \n",
       "209   Teenage years are rough for anyone, and this is a time for self-discovery and experimentation. Having older parents can certainly pose challenges. Most kids feel like their parents don't understan...   \n",
       "554   Sounds like you are struggling with your own negative thoughts.  As you stated, everything was great then you started having low self-esteem thoughts and thinking.  What is contributing to these n...   \n",
       "582   Sounds like your panic is less about loosing the relationship you are in (which by the way doesn't sound like it's meeting YOUR need for connection) and more about being alone. Being with him is s...   \n",
       "227   It seems like you are very receptive of your husband’s emotions and want to support him trough this time.  But it is also important of being aware of your emotions.  How are you feeling after the ...   \n",
       "1704  Sounds like you are dealing with a lot within your self which is causing you great pain.  I would suggest that first you get a full physical evaluation to make sure that you are ok physically.  Th...   \n",
       "480   Yes, it seems like you may have a type of anxiety: but considering that it is intermittent, it may be a good idea to talk to a therapist and explore what triggers the anxiety.  Different types of ...   \n",
       "\n",
       "                                                                                                                                                                   seems_sounds_sents  \n",
       "2243                                                                        Set up an appointment with the person who seems like the best fit and give it a try for the first session  \n",
       "868                                                                                                            It seems like it's the LOVE that you can't let go of, and the feelings  \n",
       "267                                 It seems like you may be experiencing depression symptoms, they could be the triggered by unexpected life changes, or building up throughout time  \n",
       "1439                                                                                                                      Sounds like it is time to set some boundaries with your mom  \n",
       "209                                                                              It seems like you're looking for affirmation from them, looking for their approval and understanding  \n",
       "554                                                                                                                    Sounds like you are struggling with your own negative thoughts  \n",
       "582   Sounds like your panic is less about loosing the relationship you are in (which by the way doesn't sound like it's meeting YOUR need for connection) and more about being alone  \n",
       "227                                                                          It seems like you are very receptive of your husband’s emotions and want to support him trough this time  \n",
       "1704                                                                                          Sounds like you are dealing with a lot within your self which is causing you great pain  \n",
       "480    Yes, it seems like you may have a type of anxiety: but considering that it is intermittent, it may be a good idea to talk to a therapist and explore what triggers the anxiety  "
      ]
     },
     "execution_count": 24,
     "metadata": {},
     "output_type": "execute_result"
    }
   ],
   "source": [
    "seems_sounds_mask = df.seems_sounds_sents.notnull()\n",
    "df.loc[seems_sounds_mask, ['answerText', 'seems_sounds_sents']].sample(10)"
   ]
  },
  {
   "cell_type": "markdown",
   "metadata": {},
   "source": [
    "### construct a reflection for each example\n",
    "\n",
    "Assume that the \"seems like\"/\"sounds like\" sentences are higher quality reflections than the first sentences."
   ]
  },
  {
   "cell_type": "code",
   "execution_count": 25,
   "metadata": {},
   "outputs": [],
   "source": [
    "df['reflection'] = df.first_an_sent\n",
    "\n",
    "seems_sounds_mask = df.seems_sounds_sents.notnull()\n",
    "df.loc[seems_sounds_mask, 'reflection'] = df.loc[seems_sounds_mask, 'seems_sounds_sents']"
   ]
  },
  {
   "cell_type": "markdown",
   "metadata": {},
   "source": [
    "# MODELING"
   ]
  },
  {
   "cell_type": "code",
   "execution_count": 26,
   "metadata": {},
   "outputs": [],
   "source": [
    "import torch\n",
    "from torch.utils.data import Dataset, DataLoader\n",
    "from torch.nn.utils.rnn import pack_padded_sequence, pad_packed_sequence\n",
    "import torch.nn as nn\n",
    "import torch.nn.functional as F"
   ]
  },
  {
   "cell_type": "code",
   "execution_count": 27,
   "metadata": {},
   "outputs": [],
   "source": [
    "def toggle_model_freeze(model, frozen:bool):\n",
    "    for p in model.parameters(): p.requires_grad = not frozen\n",
    "        \n",
    "def print_frozenness(model):\n",
    "    x = [p.requires_grad for p in model.parameters()]\n",
    "    n_frozen = len(x)-sum(x)\n",
    "    n_params = len(x)\n",
    "    print(f'{n_frozen} / {n_params} ({n_frozen/n_params*100:.3f})% parameters are frozen')"
   ]
  },
  {
   "cell_type": "markdown",
   "metadata": {},
   "source": [
    "### Pretrained RoBERTA encoder"
   ]
  },
  {
   "cell_type": "code",
   "execution_count": 28,
   "metadata": {},
   "outputs": [],
   "source": [
    "from transformers import RobertaModel, RobertaTokenizer"
   ]
  },
  {
   "cell_type": "code",
   "execution_count": 29,
   "metadata": {},
   "outputs": [],
   "source": [
    "tokenizer = RobertaTokenizer.from_pretrained('roberta-base')"
   ]
  },
  {
   "cell_type": "code",
   "execution_count": 30,
   "metadata": {},
   "outputs": [],
   "source": [
    "roberta = RobertaModel.from_pretrained('roberta-base')"
   ]
  },
  {
   "cell_type": "code",
   "execution_count": 31,
   "metadata": {},
   "outputs": [
    {
     "name": "stdout",
     "output_type": "stream",
     "text": [
      "199 / 199 (100.000)% parameters are frozen\n"
     ]
    }
   ],
   "source": [
    "toggle_model_freeze(roberta, frozen=True)\n",
    "print_frozenness(roberta)"
   ]
  },
  {
   "cell_type": "markdown",
   "metadata": {},
   "source": [
    "### LSTM decoder"
   ]
  },
  {
   "cell_type": "code",
   "execution_count": 32,
   "metadata": {},
   "outputs": [],
   "source": [
    "class VarLenLSTM(nn.Module):\n",
    "    def __init__(self, input_size, hidden_size):\n",
    "        super().__init__()\n",
    "        self.lstm = nn.LSTM(input_size=input_size, hidden_size=hidden_size, batch_first=True)\n",
    "        \n",
    "    def forward(self, x, x_lens, h_0, c_0):\n",
    "        \"\"\"\n",
    "        Most of the code here handles the packing and unpacking that's required to efficiently\n",
    "        perform LSTM calculations for variable length sequences.\n",
    "        \n",
    "        Args:\n",
    "            x: Distributed input tensors, ready for direct input to LSTM\n",
    "            x_lens: Sequence lengths of examples in the batch\n",
    "            h_0: Tensor to initialize LSTM hidden state\n",
    "            c_0: Tensor to initialize LSTM cell state\n",
    "        \"\"\"\n",
    "        max_seq_len = x.size(1)\n",
    "        sorted_lens, idx = x_lens.sort(dim=0, descending=True)\n",
    "        x_sorted = x[idx]\n",
    "        x_packed = pack_padded_sequence(x_sorted, lengths=sorted_lens, batch_first=True)\n",
    "        out_packed, (h_n, c_n) = self.lstm(x_packed, (h_0, c_0))\n",
    "        out_padded, _ = pad_packed_sequence(out_packed, batch_first=True, total_length=max_seq_len)\n",
    "        _, reverse_idx = idx.sort(dim=0, descending=False)\n",
    "        out_padded = out_padded[reverse_idx]\n",
    "        h_n = h_n[:, reverse_idx]\n",
    "        c_n = c_n[:, reverse_idx]\n",
    "        return out_padded, (h_n, c_n)"
   ]
  },
  {
   "cell_type": "markdown",
   "metadata": {},
   "source": [
    "### dataset"
   ]
  },
  {
   "cell_type": "code",
   "execution_count": 33,
   "metadata": {},
   "outputs": [],
   "source": [
    "class ReflectionDataset(Dataset):\n",
    "    def __init__(self, question_text, reflection, tokenizer, max_seq_len=512):\n",
    "        self.question_text, self.reflection = question_text, reflection\n",
    "        self.tokenizer = tokenizer\n",
    "        self.max_seq_len = max_seq_len\n",
    "        \n",
    "    def __len__(self): return len(self.question_text)\n",
    "        \n",
    "    def __getitem__(self, i):\n",
    "        input_ids_qu, attn_mask_qu = self.tokenize(\n",
    "            self.question_text.iloc[i], \n",
    "            self.tokenizer,\n",
    "            self.max_seq_len)\n",
    "        input_ids_re, attn_mask_re = self.tokenize(\n",
    "            self.reflection.iloc[i], \n",
    "            self.tokenizer,\n",
    "            self.max_seq_len)\n",
    "        \n",
    "        # shift inputs and targets by 1\n",
    "        target_ids = input_ids_re[1:]\n",
    "        input_ids_re = input_ids_re[:-1]\n",
    "        \n",
    "        return (input_ids_qu, attn_mask_qu, input_ids_re, attn_mask_re), target_ids\n",
    "        \n",
    "    @staticmethod\n",
    "    def tokenize(s, tokenizer, max_seq_len):\n",
    "        encoded_dict = tokenizer.encode_plus(s, max_length=max_seq_len, pad_to_max_length=True)\n",
    "        input_ids = torch.tensor(encoded_dict['input_ids'], dtype=torch.long)\n",
    "        attn_mask = torch.tensor(encoded_dict['attention_mask'], dtype=torch.uint8)\n",
    "        return input_ids, attn_mask"
   ]
  },
  {
   "cell_type": "code",
   "execution_count": 34,
   "metadata": {},
   "outputs": [
    {
     "data": {
      "text/plain": [
       "(1963, 185, 123)"
      ]
     },
     "execution_count": 34,
     "metadata": {},
     "output_type": "execute_result"
    }
   ],
   "source": [
    "train_mask = df.split == 'train' \n",
    "valid_mask = df.split == 'val'\n",
    "test_mask = df.split == 'test'\n",
    "train_mask.sum(), valid_mask.sum(), test_mask.sum()"
   ]
  },
  {
   "cell_type": "code",
   "execution_count": 35,
   "metadata": {},
   "outputs": [],
   "source": [
    "from pytorch_lightning import LightningModule, Trainer\n",
    "from pytorch_lightning.callbacks import EarlyStopping"
   ]
  },
  {
   "cell_type": "code",
   "execution_count": 36,
   "metadata": {},
   "outputs": [],
   "source": [
    "class ReflectionModel(LightningModule):\n",
    "    def __init__(self, roberta, enc_hidden_sz=768, dec_hidden_sz=256, dec_input_sz=768):\n",
    "        super().__init__()\n",
    "        self.enc = roberta\n",
    "        \n",
    "        # map encoder output to decoder initialization\n",
    "        self.h_transform = nn.Linear(enc_hidden_sz, dec_hidden_sz, bias=True)\n",
    "        self.c_transform = nn.Linear(enc_hidden_sz, dec_hidden_sz, bias=True)\n",
    "        \n",
    "        # decoder word embeddings\n",
    "        emb = roberta.embeddings.word_embeddings.weight.detach().clone()\n",
    "        self.dec_emb = nn.Embedding.from_pretrained(\n",
    "            embeddings=emb,\n",
    "            freeze=False,\n",
    "            padding_idx=1)\n",
    "        dec_vocab_sz = emb.shape[0]\n",
    "        \n",
    "        # LSTM decoder\n",
    "        self.dec = VarLenLSTM(\n",
    "            input_size=dec_input_sz,\n",
    "            hidden_size=dec_hidden_sz)\n",
    "        \n",
    "        # project encoder hidden states as part of decoder-encoder attention\n",
    "        self.proj_enc = nn.Linear(enc_hidden_sz, dec_hidden_sz, bias=False)\n",
    "        \n",
    "        # token-level classification MLP\n",
    "        self.token_pred_mlp = nn.Sequential(\n",
    "            nn.Linear(enc_hidden_sz+dec_hidden_sz, 1000),\n",
    "            nn.ReLU(),\n",
    "            nn.Linear(1000, dec_vocab_sz))\n",
    "        \n",
    "        self.loss = torch.nn.CrossEntropyLoss(\n",
    "            ignore_index=tokenizer.convert_tokens_to_ids('<pad>'), \n",
    "            reduction='mean')\n",
    "        \n",
    "    def _encode(self, input_ids, attn_mask):\n",
    "        \n",
    "        # forward pass through the encoder\n",
    "        last_hidden_state, _ = self.enc(input_ids=input_ids, attention_mask=attn_mask)\n",
    "        \n",
    "        # aggregate encoder outputs with max pooling\n",
    "        last_hidden_state = last_hidden_state.masked_fill((attn_mask == 0).unsqueeze(2), -1e18)\n",
    "        #                                                                  (bs, enc_len, enc_hidden)\n",
    "        encoder_max_pool = F.adaptive_max_pool1d(last_hidden_state.transpose(1,2), 1).squeeze(2)\n",
    "        \n",
    "        # compute decoder initialization\n",
    "        h = self.h_transform(encoder_max_pool).unsqueeze(0)\n",
    "        c = self.c_transform(encoder_max_pool).unsqueeze(0)\n",
    "        \n",
    "        return last_hidden_state, (h,c)\n",
    "    \n",
    "    def _decode(self, last_hidden_state, h, c, input_ids_re, attn_mask_re, attn_mask_qu):\n",
    "        \n",
    "        # forward pass through the decoder\n",
    "        x = self.dec_emb(input_ids_re)\n",
    "        x_lens = attn_mask_re.sum(1)\n",
    "        dec_out, (h,c) = self.dec(x, x_lens, h, c)  #(bs, dec_len, dec_hidden)\n",
    "        \n",
    "        proj_enc = self.proj_enc(last_hidden_state)  #(bs, enc_len, dec_hidden)\n",
    "        attn_matrix = torch.bmm(dec_out, proj_enc.transpose(1,2))  #(bs, dec_len, enc_len)\n",
    "                                                                #rows (dim1) are attn nrgs\n",
    "        # compute attention over the encoder outputs\n",
    "        mask = (attn_mask_qu == 0).unsqueeze(1)\n",
    "        attn_matrix = attn_matrix.masked_fill(mask, -1e18)\n",
    "        attn_nrgs = F.softmax(attn_matrix, dim=-1)  #(bs, dec_len, enc_len)\n",
    "        attn_out = torch.bmm(attn_nrgs, last_hidden_state)  #(bs, dec_len, enc_hidden)\n",
    "        \n",
    "        # token-level classification (next word prediction)\n",
    "        mlp_in = torch.cat([dec_out, attn_out], dim=2)  #(bs, dec_len, dec_hidden+enc_hidden)\n",
    "        logits = self.token_pred_mlp(mlp_in).transpose(1,2)  #(bs, vocab_sz, dec_len)\n",
    "        \n",
    "        return logits, (h,c)\n",
    "        \n",
    "    def forward(self, input_ids_qu, attn_mask_qu, input_ids_re, attn_mask_re):\n",
    "        \n",
    "        # encode\n",
    "        last_hidden_state, (h,c) = self._encode(input_ids_qu, attn_mask_qu)\n",
    "        \n",
    "        # decode\n",
    "        logits, (h,c) = self._decode(last_hidden_state, h, c, input_ids_re, attn_mask_re,\n",
    "                                     attn_mask_qu)\n",
    "        \n",
    "        return logits\n",
    "        \n",
    "    def train_dataloader(self):\n",
    "#         train_ds = ReflectionDataset(\n",
    "#             question_text=df[train_mask]['questionText'].iloc[:100],          # DELETE ME\n",
    "#             reflection=df[train_mask]['reflection'].iloc[:100],               # DELETE ME\n",
    "#             tokenizer=tokenizer)\n",
    "        train_ds = ReflectionDataset(\n",
    "            question_text=df[train_mask]['questionText'],          # DELETE ME\n",
    "            reflection=df[train_mask]['reflection'],               # DELETE ME\n",
    "            tokenizer=tokenizer)\n",
    "        train_dl = DataLoader(train_ds, batch_size=8, shuffle=True)\n",
    "        return train_dl\n",
    "    \n",
    "    def val_dataloader(self):\n",
    "        valid_ds = ReflectionDataset(\n",
    "            question_text=df[valid_mask]['questionText'],\n",
    "            reflection=df[valid_mask]['reflection'],\n",
    "            tokenizer=tokenizer)\n",
    "        valid_dl = DataLoader(valid_ds, batch_size=8, shuffle=False)\n",
    "        return valid_dl\n",
    "    \n",
    "    def configure_optimizers(self):\n",
    "        optimizer = torch.optim.Adam(self.parameters(), lr=3e-4)\n",
    "        scheduler = None\n",
    "        return optimizer\n",
    "    \n",
    "    def training_step(self, batch, batch_idx):\n",
    "        self.enc = self.enc.eval()\n",
    "        x, y = batch\n",
    "        input_ids_qu, attn_mask_qu, input_ids_re, attn_mask_re = x\n",
    "        logits = self.forward(input_ids_qu, attn_mask_qu, input_ids_re, attn_mask_re)\n",
    "        loss = self.loss(logits, y)\n",
    "        log = {'train_loss': loss}\n",
    "        return {'loss': loss, 'log': log}\n",
    "    \n",
    "    def validation_step(self, batch, batch_idx):\n",
    "        x, y = batch\n",
    "        input_ids_qu, attn_mask_qu, input_ids_re, attn_mask_re = x\n",
    "        logits = self.forward(input_ids_qu, attn_mask_qu, input_ids_re, attn_mask_re)\n",
    "        loss = self.loss(logits, y)\n",
    "        log = {'val_loss_batch': loss}\n",
    "        return {'val_loss_batch': loss, 'log': log}\n",
    "    \n",
    "    def validation_epoch_end(self, outputs):\n",
    "        if len(outputs)==0: return {'val_loss': 15, 'log': {'val_loss': 15}}\n",
    "        avg_loss = torch.stack([x['val_loss_batch'] for x in outputs]).mean()\n",
    "        log = {'val_loss': avg_loss}\n",
    "        return {'val_loss': avg_loss, 'log': log}"
   ]
  },
  {
   "cell_type": "code",
   "execution_count": 37,
   "metadata": {},
   "outputs": [],
   "source": [
    "model = ReflectionModel(roberta)"
   ]
  },
  {
   "cell_type": "markdown",
   "metadata": {},
   "source": [
    "## train"
   ]
  },
  {
   "cell_type": "code",
   "execution_count": 38,
   "metadata": {},
   "outputs": [],
   "source": [
    "early_stop_callback = EarlyStopping(\n",
    "    monitor='val_loss',\n",
    "    min_delta=0.00,\n",
    "    patience=3,\n",
    "    verbose=False,\n",
    "    mode='min'\n",
    ")\n",
    "trainer = Trainer(early_stop_callback=early_stop_callback, gpus=1)"
   ]
  },
  {
   "cell_type": "code",
   "execution_count": 39,
   "metadata": {},
   "outputs": [
    {
     "data": {
      "text/plain": [
       "Reusing TensorBoard on port 6006 (pid 24309), started 3:39:42 ago. (Use '!kill 24309' to kill it.)"
      ]
     },
     "metadata": {},
     "output_type": "display_data"
    },
    {
     "data": {
      "text/html": [
       "\n",
       "      <iframe id=\"tensorboard-frame-175142e34f44accd\" width=\"100%\" height=\"800\" frameborder=\"0\">\n",
       "      </iframe>\n",
       "      <script>\n",
       "        (function() {\n",
       "          const frame = document.getElementById(\"tensorboard-frame-175142e34f44accd\");\n",
       "          const url = new URL(\"/\", window.location);\n",
       "          url.port = 6006;\n",
       "          frame.src = url;\n",
       "        })();\n",
       "      </script>\n",
       "  "
      ],
      "text/plain": [
       "<IPython.core.display.HTML object>"
      ]
     },
     "metadata": {},
     "output_type": "display_data"
    }
   ],
   "source": [
    "%tensorboard --logdir lightning_logs/"
   ]
  },
  {
   "cell_type": "code",
   "execution_count": 40,
   "metadata": {
    "scrolled": false
   },
   "outputs": [
    {
     "data": {
      "application/vnd.jupyter.widget-view+json": {
       "model_id": "",
       "version_major": 2,
       "version_minor": 0
      },
      "text/plain": [
       "HBox(children=(FloatProgress(value=0.0, description='Validation sanity check', layout=Layout(flex='2'), max=5.…"
      ]
     },
     "metadata": {},
     "output_type": "display_data"
    },
    {
     "data": {
      "application/vnd.jupyter.widget-view+json": {
       "model_id": "8ff814c0538941e1be674975952b51a6",
       "version_major": 2,
       "version_minor": 0
      },
      "text/plain": [
       "HBox(children=(FloatProgress(value=1.0, bar_style='info', layout=Layout(flex='2'), max=1.0), HTML(value='')), …"
      ]
     },
     "metadata": {},
     "output_type": "display_data"
    },
    {
     "data": {
      "application/vnd.jupyter.widget-view+json": {
       "model_id": "",
       "version_major": 2,
       "version_minor": 0
      },
      "text/plain": [
       "HBox(children=(FloatProgress(value=0.0, description='Validating', layout=Layout(flex='2'), max=24.0, style=Pro…"
      ]
     },
     "metadata": {},
     "output_type": "display_data"
    },
    {
     "data": {
      "application/vnd.jupyter.widget-view+json": {
       "model_id": "",
       "version_major": 2,
       "version_minor": 0
      },
      "text/plain": [
       "HBox(children=(FloatProgress(value=0.0, description='Validating', layout=Layout(flex='2'), max=24.0, style=Pro…"
      ]
     },
     "metadata": {},
     "output_type": "display_data"
    },
    {
     "data": {
      "application/vnd.jupyter.widget-view+json": {
       "model_id": "",
       "version_major": 2,
       "version_minor": 0
      },
      "text/plain": [
       "HBox(children=(FloatProgress(value=0.0, description='Validating', layout=Layout(flex='2'), max=24.0, style=Pro…"
      ]
     },
     "metadata": {},
     "output_type": "display_data"
    },
    {
     "data": {
      "application/vnd.jupyter.widget-view+json": {
       "model_id": "",
       "version_major": 2,
       "version_minor": 0
      },
      "text/plain": [
       "HBox(children=(FloatProgress(value=0.0, description='Validating', layout=Layout(flex='2'), max=24.0, style=Pro…"
      ]
     },
     "metadata": {},
     "output_type": "display_data"
    },
    {
     "data": {
      "application/vnd.jupyter.widget-view+json": {
       "model_id": "",
       "version_major": 2,
       "version_minor": 0
      },
      "text/plain": [
       "HBox(children=(FloatProgress(value=0.0, description='Validating', layout=Layout(flex='2'), max=24.0, style=Pro…"
      ]
     },
     "metadata": {},
     "output_type": "display_data"
    },
    {
     "data": {
      "application/vnd.jupyter.widget-view+json": {
       "model_id": "",
       "version_major": 2,
       "version_minor": 0
      },
      "text/plain": [
       "HBox(children=(FloatProgress(value=0.0, description='Validating', layout=Layout(flex='2'), max=24.0, style=Pro…"
      ]
     },
     "metadata": {},
     "output_type": "display_data"
    },
    {
     "data": {
      "application/vnd.jupyter.widget-view+json": {
       "model_id": "",
       "version_major": 2,
       "version_minor": 0
      },
      "text/plain": [
       "HBox(children=(FloatProgress(value=0.0, description='Validating', layout=Layout(flex='2'), max=24.0, style=Pro…"
      ]
     },
     "metadata": {},
     "output_type": "display_data"
    },
    {
     "data": {
      "application/vnd.jupyter.widget-view+json": {
       "model_id": "",
       "version_major": 2,
       "version_minor": 0
      },
      "text/plain": [
       "HBox(children=(FloatProgress(value=0.0, description='Validating', layout=Layout(flex='2'), max=24.0, style=Pro…"
      ]
     },
     "metadata": {},
     "output_type": "display_data"
    },
    {
     "name": "stdout",
     "output_type": "stream",
     "text": [
      "\n"
     ]
    },
    {
     "data": {
      "text/plain": [
       "1"
      ]
     },
     "execution_count": 40,
     "metadata": {},
     "output_type": "execute_result"
    }
   ],
   "source": [
    "trainer.fit(model)"
   ]
  },
  {
   "cell_type": "markdown",
   "metadata": {},
   "source": [
    "# dev generation"
   ]
  },
  {
   "cell_type": "code",
   "execution_count": 61,
   "metadata": {},
   "outputs": [],
   "source": [
    "train_ds = ReflectionDataset(\n",
    "    question_text=df[train_mask]['questionText'],\n",
    "    reflection=df[train_mask]['reflection'],\n",
    "    tokenizer=tokenizer)\n",
    "train_dl = DataLoader(train_ds, batch_size=1, shuffle=True)\n",
    "\n",
    "valid_ds = ReflectionDataset(\n",
    "    question_text=df[valid_mask]['questionText'],\n",
    "    reflection=df[valid_mask]['reflection'],\n",
    "    tokenizer=tokenizer)\n",
    "valid_dl = DataLoader(valid_ds, batch_size=1, shuffle=True)"
   ]
  },
  {
   "cell_type": "code",
   "execution_count": 48,
   "metadata": {},
   "outputs": [],
   "source": [
    "start_token_id = tokenizer.convert_tokens_to_ids('<s>')\n",
    "end_token_id = tokenizer.convert_tokens_to_ids('</s>')\n",
    "start_token_id, end_token_id\n",
    "\n",
    "def generate_reflection_from_tensors(input_ids_qu, attn_mask_qu, model):\n",
    "    \n",
    "    model = model.cpu()\n",
    "    model = model.eval()\n",
    "    \n",
    "    last_hidden_state, (h,c) = model._encode(input_ids_qu, attn_mask_qu)\n",
    "    \n",
    "    input_ids = torch.tensor(start_token_id).unsqueeze(0).unsqueeze(0)\n",
    "    attn_mask = torch.tensor(1).unsqueeze(0).unsqueeze(0)\n",
    "    \n",
    "    pred_toks = []\n",
    "    for i in range(10):\n",
    "        logits, (h,c) = model._decode(last_hidden_state, h, c, input_ids, attn_mask, attn_mask_qu)\n",
    "        logits = logits.squeeze(2)\n",
    "        _, idxs = logits.max(dim=1)\n",
    "        pred_toks.append(idxs.item())\n",
    "        input_ids = idxs.unsqueeze(0)\n",
    "            \n",
    "    return pred_toks\n",
    "\n",
    "\n",
    "def observe_reflection(model, tokenizer, input_ids_qu=None, attn_mask_qu=None, \n",
    "                       input_ids_re=None, string=None):\n",
    "    \n",
    "    if string is not None:\n",
    "        input_ids_qu, attn_mask_qu = ReflectionDataset.tokenize(string, tokenizer, 512)\n",
    "        input_ids_qu = input_ids_qu.unsqueeze(0)\n",
    "        attn_mask_qu = attn_mask_qu.unsqueeze(0)\n",
    "        pred_toks = generate_reflection_from_tensors(input_ids_qu, attn_mask_qu, model)\n",
    "    else:\n",
    "        pred_toks = generate_reflection_from_tensors(input_ids_qu, attn_mask_qu, model)\n",
    "        \n",
    "    print('Question:')\n",
    "    print(tokenizer.decode(input_ids_qu.squeeze(0).tolist()))\n",
    "    \n",
    "    if input_ids_re is not None:\n",
    "        print('\\nHuman Generated Reflection:')\n",
    "        print(tokenizer.decode(input_ids_re.squeeze(0).tolist()))\n",
    "    \n",
    "    print('\\nMachine Generated Reflection:')\n",
    "    print(tokenizer.decode(pred_toks))\n",
    "    "
   ]
  },
  {
   "cell_type": "code",
   "execution_count": 63,
   "metadata": {},
   "outputs": [],
   "source": [
    "train_dl_iter = iter(train_dl)\n",
    "valid_dl_iter = iter(valid_dl)"
   ]
  },
  {
   "cell_type": "code",
   "execution_count": 64,
   "metadata": {
    "scrolled": false
   },
   "outputs": [
    {
     "name": "stdout",
     "output_type": "stream",
     "text": [
      "\n",
      "\n",
      "TRAINING SET\n",
      "========================================\n",
      "\n",
      "----------------------------------------------------------------------\n",
      "\n",
      "Question:\n",
      "<s> After my fiancé cheated on me because of a miscommunication, I pulled myself away from him.    Now he says all he wants is be with me. I'm pushing him away mentally now because he cheated on me again. I make plans with him that I don't keep. I really do love him still and I care about him. Should I give home one more chance?</s><pad><pad><pad><pad><pad><pad><pad><pad><pad><pad><pad><pad><pad><pad><pad><pad><pad><pad><pad><pad><pad><pad><pad><pad><pad><pad><pad><pad><pad><pad><pad><pad><pad><pad><pad><pad><pad><pad><pad><pad><pad><pad><pad><pad><pad><pad><pad><pad><pad><pad><pad><pad><pad><pad><pad><pad><pad><pad><pad><pad><pad><pad><pad><pad><pad><pad><pad><pad><pad><pad><pad><pad><pad><pad><pad><pad><pad><pad><pad><pad><pad><pad><pad><pad><pad><pad><pad><pad><pad><pad><pad><pad><pad><pad><pad><pad><pad><pad><pad><pad><pad><pad><pad><pad><pad><pad><pad><pad><pad><pad><pad><pad><pad><pad><pad><pad><pad><pad><pad><pad><pad><pad><pad><pad><pad><pad><pad><pad><pad><pad><pad><pad><pad><pad><pad><pad><pad><pad><pad><pad><pad><pad><pad><pad><pad><pad><pad><pad><pad><pad><pad><pad><pad><pad><pad><pad><pad><pad><pad><pad><pad><pad><pad><pad><pad><pad><pad><pad><pad><pad><pad><pad><pad><pad><pad><pad><pad><pad><pad><pad><pad><pad><pad><pad><pad><pad><pad><pad><pad><pad><pad><pad><pad><pad><pad><pad><pad><pad><pad><pad><pad><pad><pad><pad><pad><pad><pad><pad><pad><pad><pad><pad><pad><pad><pad><pad><pad><pad><pad><pad><pad><pad><pad><pad><pad><pad><pad><pad><pad><pad><pad><pad><pad><pad><pad><pad><pad><pad><pad><pad><pad><pad><pad><pad><pad><pad><pad><pad><pad><pad><pad><pad><pad><pad><pad><pad><pad><pad><pad><pad><pad><pad><pad><pad><pad><pad><pad><pad><pad><pad><pad><pad><pad><pad><pad><pad><pad><pad><pad><pad><pad><pad><pad><pad><pad><pad><pad><pad><pad><pad><pad><pad><pad><pad><pad><pad><pad><pad><pad><pad><pad><pad><pad><pad><pad><pad><pad><pad><pad><pad><pad><pad><pad><pad><pad><pad><pad><pad><pad><pad><pad><pad><pad><pad><pad><pad><pad><pad><pad><pad><pad><pad><pad><pad><pad><pad><pad><pad><pad><pad><pad><pad><pad><pad><pad><pad><pad><pad><pad><pad><pad><pad><pad><pad><pad><pad><pad><pad><pad><pad><pad><pad><pad><pad><pad><pad><pad><pad><pad><pad><pad><pad><pad><pad><pad><pad><pad><pad><pad><pad><pad><pad><pad><pad><pad><pad><pad><pad><pad><pad><pad><pad><pad><pad><pad><pad><pad><pad><pad><pad><pad><pad><pad><pad><pad><pad><pad><pad><pad><pad><pad><pad><pad><pad><pad><pad><pad><pad><pad><pad><pad><pad><pad><pad><pad><pad><pad><pad><pad><pad><pad>\n",
      "\n",
      "Human Generated Reflection:\n",
      "<s> nan</s><pad><pad><pad><pad><pad><pad><pad><pad><pad><pad><pad><pad><pad><pad><pad><pad><pad><pad><pad><pad><pad><pad><pad><pad><pad><pad><pad><pad><pad><pad><pad><pad><pad><pad><pad><pad><pad><pad><pad><pad><pad><pad><pad><pad><pad><pad><pad><pad><pad><pad><pad><pad><pad><pad><pad><pad><pad><pad><pad><pad><pad><pad><pad><pad><pad><pad><pad><pad><pad><pad><pad><pad><pad><pad><pad><pad><pad><pad><pad><pad><pad><pad><pad><pad><pad><pad><pad><pad><pad><pad><pad><pad><pad><pad><pad><pad><pad><pad><pad><pad><pad><pad><pad><pad><pad><pad><pad><pad><pad><pad><pad><pad><pad><pad><pad><pad><pad><pad><pad><pad><pad><pad><pad><pad><pad><pad><pad><pad><pad><pad><pad><pad><pad><pad><pad><pad><pad><pad><pad><pad><pad><pad><pad><pad><pad><pad><pad><pad><pad><pad><pad><pad><pad><pad><pad><pad><pad><pad><pad><pad><pad><pad><pad><pad><pad><pad><pad><pad><pad><pad><pad><pad><pad><pad><pad><pad><pad><pad><pad><pad><pad><pad><pad><pad><pad><pad><pad><pad><pad><pad><pad><pad><pad><pad><pad><pad><pad><pad><pad><pad><pad><pad><pad><pad><pad><pad><pad><pad><pad><pad><pad><pad><pad><pad><pad><pad><pad><pad><pad><pad><pad><pad><pad><pad><pad><pad><pad><pad><pad><pad><pad><pad><pad><pad><pad><pad><pad><pad><pad><pad><pad><pad><pad><pad><pad><pad><pad><pad><pad><pad><pad><pad><pad><pad><pad><pad><pad><pad><pad><pad><pad><pad><pad><pad><pad><pad><pad><pad><pad><pad><pad><pad><pad><pad><pad><pad><pad><pad><pad><pad><pad><pad><pad><pad><pad><pad><pad><pad><pad><pad><pad><pad><pad><pad><pad><pad><pad><pad><pad><pad><pad><pad><pad><pad><pad><pad><pad><pad><pad><pad><pad><pad><pad><pad><pad><pad><pad><pad><pad><pad><pad><pad><pad><pad><pad><pad><pad><pad><pad><pad><pad><pad><pad><pad><pad><pad><pad><pad><pad><pad><pad><pad><pad><pad><pad><pad><pad><pad><pad><pad><pad><pad><pad><pad><pad><pad><pad><pad><pad><pad><pad><pad><pad><pad><pad><pad><pad><pad><pad><pad><pad><pad><pad><pad><pad><pad><pad><pad><pad><pad><pad><pad><pad><pad><pad><pad><pad><pad><pad><pad><pad><pad><pad><pad><pad><pad><pad><pad><pad><pad><pad><pad><pad><pad><pad><pad><pad><pad><pad><pad><pad><pad><pad><pad><pad><pad><pad><pad><pad><pad><pad><pad><pad><pad><pad><pad><pad><pad><pad><pad><pad><pad><pad><pad><pad><pad><pad><pad><pad><pad><pad><pad><pad><pad><pad><pad><pad><pad><pad><pad><pad><pad><pad><pad><pad><pad><pad><pad><pad><pad><pad><pad><pad><pad><pad><pad><pad><pad><pad><pad><pad><pad><pad><pad><pad><pad><pad><pad><pad><pad><pad><pad><pad><pad><pad><pad><pad><pad><pad><pad><pad><pad><pad><pad><pad><pad><pad><pad><pad><pad><pad><pad><pad><pad><pad><pad><pad><pad>\n",
      "\n",
      "Machine Generated Reflection:\n",
      " I'm sorry to hear that you're going through\n",
      "\n",
      "----------------------------------------------------------------------\n",
      "\n",
      "Question:\n",
      "<s> I found out my boyfriend takes anti-depression medicine. Lately he's been saying he has a lot on his mind, and he needs time to think about us. We've only been dating 3 weeks but I like him a lot.</s><pad><pad><pad><pad><pad><pad><pad><pad><pad><pad><pad><pad><pad><pad><pad><pad><pad><pad><pad><pad><pad><pad><pad><pad><pad><pad><pad><pad><pad><pad><pad><pad><pad><pad><pad><pad><pad><pad><pad><pad><pad><pad><pad><pad><pad><pad><pad><pad><pad><pad><pad><pad><pad><pad><pad><pad><pad><pad><pad><pad><pad><pad><pad><pad><pad><pad><pad><pad><pad><pad><pad><pad><pad><pad><pad><pad><pad><pad><pad><pad><pad><pad><pad><pad><pad><pad><pad><pad><pad><pad><pad><pad><pad><pad><pad><pad><pad><pad><pad><pad><pad><pad><pad><pad><pad><pad><pad><pad><pad><pad><pad><pad><pad><pad><pad><pad><pad><pad><pad><pad><pad><pad><pad><pad><pad><pad><pad><pad><pad><pad><pad><pad><pad><pad><pad><pad><pad><pad><pad><pad><pad><pad><pad><pad><pad><pad><pad><pad><pad><pad><pad><pad><pad><pad><pad><pad><pad><pad><pad><pad><pad><pad><pad><pad><pad><pad><pad><pad><pad><pad><pad><pad><pad><pad><pad><pad><pad><pad><pad><pad><pad><pad><pad><pad><pad><pad><pad><pad><pad><pad><pad><pad><pad><pad><pad><pad><pad><pad><pad><pad><pad><pad><pad><pad><pad><pad><pad><pad><pad><pad><pad><pad><pad><pad><pad><pad><pad><pad><pad><pad><pad><pad><pad><pad><pad><pad><pad><pad><pad><pad><pad><pad><pad><pad><pad><pad><pad><pad><pad><pad><pad><pad><pad><pad><pad><pad><pad><pad><pad><pad><pad><pad><pad><pad><pad><pad><pad><pad><pad><pad><pad><pad><pad><pad><pad><pad><pad><pad><pad><pad><pad><pad><pad><pad><pad><pad><pad><pad><pad><pad><pad><pad><pad><pad><pad><pad><pad><pad><pad><pad><pad><pad><pad><pad><pad><pad><pad><pad><pad><pad><pad><pad><pad><pad><pad><pad><pad><pad><pad><pad><pad><pad><pad><pad><pad><pad><pad><pad><pad><pad><pad><pad><pad><pad><pad><pad><pad><pad><pad><pad><pad><pad><pad><pad><pad><pad><pad><pad><pad><pad><pad><pad><pad><pad><pad><pad><pad><pad><pad><pad><pad><pad><pad><pad><pad><pad><pad><pad><pad><pad><pad><pad><pad><pad><pad><pad><pad><pad><pad><pad><pad><pad><pad><pad><pad><pad><pad><pad><pad><pad><pad><pad><pad><pad><pad><pad><pad><pad><pad><pad><pad><pad><pad><pad><pad><pad><pad><pad><pad><pad><pad><pad><pad><pad><pad><pad><pad><pad><pad><pad><pad><pad><pad><pad><pad><pad><pad><pad><pad><pad><pad><pad><pad><pad><pad><pad><pad><pad><pad><pad><pad><pad><pad><pad><pad><pad><pad><pad><pad><pad><pad><pad><pad><pad><pad><pad><pad><pad><pad><pad><pad><pad><pad><pad><pad><pad><pad><pad><pad><pad><pad>\n",
      "\n",
      "Human Generated Reflection:\n",
      "<s> Give him the time and space he needs</s><pad><pad><pad><pad><pad><pad><pad><pad><pad><pad><pad><pad><pad><pad><pad><pad><pad><pad><pad><pad><pad><pad><pad><pad><pad><pad><pad><pad><pad><pad><pad><pad><pad><pad><pad><pad><pad><pad><pad><pad><pad><pad><pad><pad><pad><pad><pad><pad><pad><pad><pad><pad><pad><pad><pad><pad><pad><pad><pad><pad><pad><pad><pad><pad><pad><pad><pad><pad><pad><pad><pad><pad><pad><pad><pad><pad><pad><pad><pad><pad><pad><pad><pad><pad><pad><pad><pad><pad><pad><pad><pad><pad><pad><pad><pad><pad><pad><pad><pad><pad><pad><pad><pad><pad><pad><pad><pad><pad><pad><pad><pad><pad><pad><pad><pad><pad><pad><pad><pad><pad><pad><pad><pad><pad><pad><pad><pad><pad><pad><pad><pad><pad><pad><pad><pad><pad><pad><pad><pad><pad><pad><pad><pad><pad><pad><pad><pad><pad><pad><pad><pad><pad><pad><pad><pad><pad><pad><pad><pad><pad><pad><pad><pad><pad><pad><pad><pad><pad><pad><pad><pad><pad><pad><pad><pad><pad><pad><pad><pad><pad><pad><pad><pad><pad><pad><pad><pad><pad><pad><pad><pad><pad><pad><pad><pad><pad><pad><pad><pad><pad><pad><pad><pad><pad><pad><pad><pad><pad><pad><pad><pad><pad><pad><pad><pad><pad><pad><pad><pad><pad><pad><pad><pad><pad><pad><pad><pad><pad><pad><pad><pad><pad><pad><pad><pad><pad><pad><pad><pad><pad><pad><pad><pad><pad><pad><pad><pad><pad><pad><pad><pad><pad><pad><pad><pad><pad><pad><pad><pad><pad><pad><pad><pad><pad><pad><pad><pad><pad><pad><pad><pad><pad><pad><pad><pad><pad><pad><pad><pad><pad><pad><pad><pad><pad><pad><pad><pad><pad><pad><pad><pad><pad><pad><pad><pad><pad><pad><pad><pad><pad><pad><pad><pad><pad><pad><pad><pad><pad><pad><pad><pad><pad><pad><pad><pad><pad><pad><pad><pad><pad><pad><pad><pad><pad><pad><pad><pad><pad><pad><pad><pad><pad><pad><pad><pad><pad><pad><pad><pad><pad><pad><pad><pad><pad><pad><pad><pad><pad><pad><pad><pad><pad><pad><pad><pad><pad><pad><pad><pad><pad><pad><pad><pad><pad><pad><pad><pad><pad><pad><pad><pad><pad><pad><pad><pad><pad><pad><pad><pad><pad><pad><pad><pad><pad><pad><pad><pad><pad><pad><pad><pad><pad><pad><pad><pad><pad><pad><pad><pad><pad><pad><pad><pad><pad><pad><pad><pad><pad><pad><pad><pad><pad><pad><pad><pad><pad><pad><pad><pad><pad><pad><pad><pad><pad><pad><pad><pad><pad><pad><pad><pad><pad><pad><pad><pad><pad><pad><pad><pad><pad><pad><pad><pad><pad><pad><pad><pad><pad><pad><pad><pad><pad><pad><pad><pad><pad><pad><pad><pad><pad><pad><pad><pad><pad><pad><pad><pad><pad><pad><pad><pad><pad><pad><pad><pad><pad><pad><pad><pad><pad><pad><pad><pad><pad><pad><pad><pad><pad><pad><pad><pad><pad><pad><pad><pad><pad><pad><pad><pad><pad><pad>\n",
      "\n",
      "Machine Generated Reflection:\n",
      " I'm sorry to hear that you are going through\n",
      "\n",
      "----------------------------------------------------------------------\n",
      "\n"
     ]
    },
    {
     "name": "stdout",
     "output_type": "stream",
     "text": [
      "Question:\n",
      "<s> How does a counselor decide when to end counseling sessions or to terminate working with a client?</s><pad><pad><pad><pad><pad><pad><pad><pad><pad><pad><pad><pad><pad><pad><pad><pad><pad><pad><pad><pad><pad><pad><pad><pad><pad><pad><pad><pad><pad><pad><pad><pad><pad><pad><pad><pad><pad><pad><pad><pad><pad><pad><pad><pad><pad><pad><pad><pad><pad><pad><pad><pad><pad><pad><pad><pad><pad><pad><pad><pad><pad><pad><pad><pad><pad><pad><pad><pad><pad><pad><pad><pad><pad><pad><pad><pad><pad><pad><pad><pad><pad><pad><pad><pad><pad><pad><pad><pad><pad><pad><pad><pad><pad><pad><pad><pad><pad><pad><pad><pad><pad><pad><pad><pad><pad><pad><pad><pad><pad><pad><pad><pad><pad><pad><pad><pad><pad><pad><pad><pad><pad><pad><pad><pad><pad><pad><pad><pad><pad><pad><pad><pad><pad><pad><pad><pad><pad><pad><pad><pad><pad><pad><pad><pad><pad><pad><pad><pad><pad><pad><pad><pad><pad><pad><pad><pad><pad><pad><pad><pad><pad><pad><pad><pad><pad><pad><pad><pad><pad><pad><pad><pad><pad><pad><pad><pad><pad><pad><pad><pad><pad><pad><pad><pad><pad><pad><pad><pad><pad><pad><pad><pad><pad><pad><pad><pad><pad><pad><pad><pad><pad><pad><pad><pad><pad><pad><pad><pad><pad><pad><pad><pad><pad><pad><pad><pad><pad><pad><pad><pad><pad><pad><pad><pad><pad><pad><pad><pad><pad><pad><pad><pad><pad><pad><pad><pad><pad><pad><pad><pad><pad><pad><pad><pad><pad><pad><pad><pad><pad><pad><pad><pad><pad><pad><pad><pad><pad><pad><pad><pad><pad><pad><pad><pad><pad><pad><pad><pad><pad><pad><pad><pad><pad><pad><pad><pad><pad><pad><pad><pad><pad><pad><pad><pad><pad><pad><pad><pad><pad><pad><pad><pad><pad><pad><pad><pad><pad><pad><pad><pad><pad><pad><pad><pad><pad><pad><pad><pad><pad><pad><pad><pad><pad><pad><pad><pad><pad><pad><pad><pad><pad><pad><pad><pad><pad><pad><pad><pad><pad><pad><pad><pad><pad><pad><pad><pad><pad><pad><pad><pad><pad><pad><pad><pad><pad><pad><pad><pad><pad><pad><pad><pad><pad><pad><pad><pad><pad><pad><pad><pad><pad><pad><pad><pad><pad><pad><pad><pad><pad><pad><pad><pad><pad><pad><pad><pad><pad><pad><pad><pad><pad><pad><pad><pad><pad><pad><pad><pad><pad><pad><pad><pad><pad><pad><pad><pad><pad><pad><pad><pad><pad><pad><pad><pad><pad><pad><pad><pad><pad><pad><pad><pad><pad><pad><pad><pad><pad><pad><pad><pad><pad><pad><pad><pad><pad><pad><pad><pad><pad><pad><pad><pad><pad><pad><pad><pad><pad><pad><pad><pad><pad><pad><pad><pad><pad><pad><pad><pad><pad><pad><pad><pad><pad><pad><pad><pad><pad><pad><pad><pad><pad><pad><pad><pad><pad><pad><pad><pad><pad><pad><pad><pad><pad><pad><pad><pad><pad><pad><pad><pad><pad><pad><pad><pad><pad><pad><pad><pad><pad><pad><pad><pad>\n",
      "\n",
      "Human Generated Reflection:\n",
      "<s> To be able to identify a clear ending to a counseling relationship, we must have a clear understanding of the goals and limitations of treatment</s><pad><pad><pad><pad><pad><pad><pad><pad><pad><pad><pad><pad><pad><pad><pad><pad><pad><pad><pad><pad><pad><pad><pad><pad><pad><pad><pad><pad><pad><pad><pad><pad><pad><pad><pad><pad><pad><pad><pad><pad><pad><pad><pad><pad><pad><pad><pad><pad><pad><pad><pad><pad><pad><pad><pad><pad><pad><pad><pad><pad><pad><pad><pad><pad><pad><pad><pad><pad><pad><pad><pad><pad><pad><pad><pad><pad><pad><pad><pad><pad><pad><pad><pad><pad><pad><pad><pad><pad><pad><pad><pad><pad><pad><pad><pad><pad><pad><pad><pad><pad><pad><pad><pad><pad><pad><pad><pad><pad><pad><pad><pad><pad><pad><pad><pad><pad><pad><pad><pad><pad><pad><pad><pad><pad><pad><pad><pad><pad><pad><pad><pad><pad><pad><pad><pad><pad><pad><pad><pad><pad><pad><pad><pad><pad><pad><pad><pad><pad><pad><pad><pad><pad><pad><pad><pad><pad><pad><pad><pad><pad><pad><pad><pad><pad><pad><pad><pad><pad><pad><pad><pad><pad><pad><pad><pad><pad><pad><pad><pad><pad><pad><pad><pad><pad><pad><pad><pad><pad><pad><pad><pad><pad><pad><pad><pad><pad><pad><pad><pad><pad><pad><pad><pad><pad><pad><pad><pad><pad><pad><pad><pad><pad><pad><pad><pad><pad><pad><pad><pad><pad><pad><pad><pad><pad><pad><pad><pad><pad><pad><pad><pad><pad><pad><pad><pad><pad><pad><pad><pad><pad><pad><pad><pad><pad><pad><pad><pad><pad><pad><pad><pad><pad><pad><pad><pad><pad><pad><pad><pad><pad><pad><pad><pad><pad><pad><pad><pad><pad><pad><pad><pad><pad><pad><pad><pad><pad><pad><pad><pad><pad><pad><pad><pad><pad><pad><pad><pad><pad><pad><pad><pad><pad><pad><pad><pad><pad><pad><pad><pad><pad><pad><pad><pad><pad><pad><pad><pad><pad><pad><pad><pad><pad><pad><pad><pad><pad><pad><pad><pad><pad><pad><pad><pad><pad><pad><pad><pad><pad><pad><pad><pad><pad><pad><pad><pad><pad><pad><pad><pad><pad><pad><pad><pad><pad><pad><pad><pad><pad><pad><pad><pad><pad><pad><pad><pad><pad><pad><pad><pad><pad><pad><pad><pad><pad><pad><pad><pad><pad><pad><pad><pad><pad><pad><pad><pad><pad><pad><pad><pad><pad><pad><pad><pad><pad><pad><pad><pad><pad><pad><pad><pad><pad><pad><pad><pad><pad><pad><pad><pad><pad><pad><pad><pad><pad><pad><pad><pad><pad><pad><pad><pad><pad><pad><pad><pad><pad><pad><pad><pad><pad><pad><pad><pad><pad><pad><pad><pad><pad><pad><pad><pad><pad><pad><pad><pad><pad><pad><pad><pad><pad><pad><pad><pad><pad><pad><pad><pad><pad><pad><pad><pad><pad><pad><pad><pad><pad><pad><pad><pad><pad><pad><pad><pad><pad><pad><pad><pad><pad><pad><pad><pad><pad><pad><pad><pad><pad><pad><pad><pad><pad><pad><pad><pad>\n",
      "\n",
      "Machine Generated Reflection:\n",
      " In general, I usually usually a client runs with\n",
      "\n",
      "----------------------------------------------------------------------\n",
      "\n",
      "Question:\n",
      "<s> When I'm in large crowds I get angry and I just can't deal with people. I don't really like other people (I prefer animals) they make me nervous and scared.\n",
      "   I lay awake at night thinking and having conversations in my head and i almost always end up making myself feel terrible and crying, I have more conversions in my head than I do with actual people.    I don't know what's wrong with me and why I feel this way. What should I do?</s><pad><pad><pad><pad><pad><pad><pad><pad><pad><pad><pad><pad><pad><pad><pad><pad><pad><pad><pad><pad><pad><pad><pad><pad><pad><pad><pad><pad><pad><pad><pad><pad><pad><pad><pad><pad><pad><pad><pad><pad><pad><pad><pad><pad><pad><pad><pad><pad><pad><pad><pad><pad><pad><pad><pad><pad><pad><pad><pad><pad><pad><pad><pad><pad><pad><pad><pad><pad><pad><pad><pad><pad><pad><pad><pad><pad><pad><pad><pad><pad><pad><pad><pad><pad><pad><pad><pad><pad><pad><pad><pad><pad><pad><pad><pad><pad><pad><pad><pad><pad><pad><pad><pad><pad><pad><pad><pad><pad><pad><pad><pad><pad><pad><pad><pad><pad><pad><pad><pad><pad><pad><pad><pad><pad><pad><pad><pad><pad><pad><pad><pad><pad><pad><pad><pad><pad><pad><pad><pad><pad><pad><pad><pad><pad><pad><pad><pad><pad><pad><pad><pad><pad><pad><pad><pad><pad><pad><pad><pad><pad><pad><pad><pad><pad><pad><pad><pad><pad><pad><pad><pad><pad><pad><pad><pad><pad><pad><pad><pad><pad><pad><pad><pad><pad><pad><pad><pad><pad><pad><pad><pad><pad><pad><pad><pad><pad><pad><pad><pad><pad><pad><pad><pad><pad><pad><pad><pad><pad><pad><pad><pad><pad><pad><pad><pad><pad><pad><pad><pad><pad><pad><pad><pad><pad><pad><pad><pad><pad><pad><pad><pad><pad><pad><pad><pad><pad><pad><pad><pad><pad><pad><pad><pad><pad><pad><pad><pad><pad><pad><pad><pad><pad><pad><pad><pad><pad><pad><pad><pad><pad><pad><pad><pad><pad><pad><pad><pad><pad><pad><pad><pad><pad><pad><pad><pad><pad><pad><pad><pad><pad><pad><pad><pad><pad><pad><pad><pad><pad><pad><pad><pad><pad><pad><pad><pad><pad><pad><pad><pad><pad><pad><pad><pad><pad><pad><pad><pad><pad><pad><pad><pad><pad><pad><pad><pad><pad><pad><pad><pad><pad><pad><pad><pad><pad><pad><pad><pad><pad><pad><pad><pad><pad><pad><pad><pad><pad><pad><pad><pad><pad><pad><pad><pad><pad><pad><pad><pad><pad><pad><pad><pad><pad><pad><pad><pad><pad><pad><pad><pad><pad><pad><pad><pad><pad><pad><pad><pad><pad><pad><pad><pad><pad><pad><pad><pad><pad><pad><pad><pad><pad><pad><pad><pad><pad><pad><pad><pad><pad><pad><pad><pad><pad><pad><pad><pad><pad><pad><pad><pad><pad><pad><pad><pad><pad><pad><pad><pad>\n",
      "\n",
      "Human Generated Reflection:\n",
      "<s> What you're experiencing is anxiety, it's actually quite common</s><pad><pad><pad><pad><pad><pad><pad><pad><pad><pad><pad><pad><pad><pad><pad><pad><pad><pad><pad><pad><pad><pad><pad><pad><pad><pad><pad><pad><pad><pad><pad><pad><pad><pad><pad><pad><pad><pad><pad><pad><pad><pad><pad><pad><pad><pad><pad><pad><pad><pad><pad><pad><pad><pad><pad><pad><pad><pad><pad><pad><pad><pad><pad><pad><pad><pad><pad><pad><pad><pad><pad><pad><pad><pad><pad><pad><pad><pad><pad><pad><pad><pad><pad><pad><pad><pad><pad><pad><pad><pad><pad><pad><pad><pad><pad><pad><pad><pad><pad><pad><pad><pad><pad><pad><pad><pad><pad><pad><pad><pad><pad><pad><pad><pad><pad><pad><pad><pad><pad><pad><pad><pad><pad><pad><pad><pad><pad><pad><pad><pad><pad><pad><pad><pad><pad><pad><pad><pad><pad><pad><pad><pad><pad><pad><pad><pad><pad><pad><pad><pad><pad><pad><pad><pad><pad><pad><pad><pad><pad><pad><pad><pad><pad><pad><pad><pad><pad><pad><pad><pad><pad><pad><pad><pad><pad><pad><pad><pad><pad><pad><pad><pad><pad><pad><pad><pad><pad><pad><pad><pad><pad><pad><pad><pad><pad><pad><pad><pad><pad><pad><pad><pad><pad><pad><pad><pad><pad><pad><pad><pad><pad><pad><pad><pad><pad><pad><pad><pad><pad><pad><pad><pad><pad><pad><pad><pad><pad><pad><pad><pad><pad><pad><pad><pad><pad><pad><pad><pad><pad><pad><pad><pad><pad><pad><pad><pad><pad><pad><pad><pad><pad><pad><pad><pad><pad><pad><pad><pad><pad><pad><pad><pad><pad><pad><pad><pad><pad><pad><pad><pad><pad><pad><pad><pad><pad><pad><pad><pad><pad><pad><pad><pad><pad><pad><pad><pad><pad><pad><pad><pad><pad><pad><pad><pad><pad><pad><pad><pad><pad><pad><pad><pad><pad><pad><pad><pad><pad><pad><pad><pad><pad><pad><pad><pad><pad><pad><pad><pad><pad><pad><pad><pad><pad><pad><pad><pad><pad><pad><pad><pad><pad><pad><pad><pad><pad><pad><pad><pad><pad><pad><pad><pad><pad><pad><pad><pad><pad><pad><pad><pad><pad><pad><pad><pad><pad><pad><pad><pad><pad><pad><pad><pad><pad><pad><pad><pad><pad><pad><pad><pad><pad><pad><pad><pad><pad><pad><pad><pad><pad><pad><pad><pad><pad><pad><pad><pad><pad><pad><pad><pad><pad><pad><pad><pad><pad><pad><pad><pad><pad><pad><pad><pad><pad><pad><pad><pad><pad><pad><pad><pad><pad><pad><pad><pad><pad><pad><pad><pad><pad><pad><pad><pad><pad><pad><pad><pad><pad><pad><pad><pad><pad><pad><pad><pad><pad><pad><pad><pad><pad><pad><pad><pad><pad><pad><pad><pad><pad><pad><pad><pad><pad><pad><pad><pad><pad><pad><pad><pad><pad><pad><pad><pad><pad><pad><pad><pad><pad><pad><pad><pad><pad><pad><pad><pad><pad><pad><pad><pad><pad><pad><pad><pad><pad><pad><pad><pad><pad><pad><pad><pad><pad><pad><pad><pad><pad><pad><pad>\n",
      "\n",
      "Machine Generated Reflection:\n",
      " I am sorry to hear that you are going through\n",
      "\n",
      "----------------------------------------------------------------------\n",
      "\n"
     ]
    },
    {
     "name": "stdout",
     "output_type": "stream",
     "text": [
      "Question:\n",
      "<s> My mother has Alzheimer's and she has become so nasty and mean to everyone and she always asks for unrealistic, silly or meaningless items. I get so frustrated and angry, but then I feel guilty because I know it probably isn’t her fault. How can I cope with feeling like this?</s><pad><pad><pad><pad><pad><pad><pad><pad><pad><pad><pad><pad><pad><pad><pad><pad><pad><pad><pad><pad><pad><pad><pad><pad><pad><pad><pad><pad><pad><pad><pad><pad><pad><pad><pad><pad><pad><pad><pad><pad><pad><pad><pad><pad><pad><pad><pad><pad><pad><pad><pad><pad><pad><pad><pad><pad><pad><pad><pad><pad><pad><pad><pad><pad><pad><pad><pad><pad><pad><pad><pad><pad><pad><pad><pad><pad><pad><pad><pad><pad><pad><pad><pad><pad><pad><pad><pad><pad><pad><pad><pad><pad><pad><pad><pad><pad><pad><pad><pad><pad><pad><pad><pad><pad><pad><pad><pad><pad><pad><pad><pad><pad><pad><pad><pad><pad><pad><pad><pad><pad><pad><pad><pad><pad><pad><pad><pad><pad><pad><pad><pad><pad><pad><pad><pad><pad><pad><pad><pad><pad><pad><pad><pad><pad><pad><pad><pad><pad><pad><pad><pad><pad><pad><pad><pad><pad><pad><pad><pad><pad><pad><pad><pad><pad><pad><pad><pad><pad><pad><pad><pad><pad><pad><pad><pad><pad><pad><pad><pad><pad><pad><pad><pad><pad><pad><pad><pad><pad><pad><pad><pad><pad><pad><pad><pad><pad><pad><pad><pad><pad><pad><pad><pad><pad><pad><pad><pad><pad><pad><pad><pad><pad><pad><pad><pad><pad><pad><pad><pad><pad><pad><pad><pad><pad><pad><pad><pad><pad><pad><pad><pad><pad><pad><pad><pad><pad><pad><pad><pad><pad><pad><pad><pad><pad><pad><pad><pad><pad><pad><pad><pad><pad><pad><pad><pad><pad><pad><pad><pad><pad><pad><pad><pad><pad><pad><pad><pad><pad><pad><pad><pad><pad><pad><pad><pad><pad><pad><pad><pad><pad><pad><pad><pad><pad><pad><pad><pad><pad><pad><pad><pad><pad><pad><pad><pad><pad><pad><pad><pad><pad><pad><pad><pad><pad><pad><pad><pad><pad><pad><pad><pad><pad><pad><pad><pad><pad><pad><pad><pad><pad><pad><pad><pad><pad><pad><pad><pad><pad><pad><pad><pad><pad><pad><pad><pad><pad><pad><pad><pad><pad><pad><pad><pad><pad><pad><pad><pad><pad><pad><pad><pad><pad><pad><pad><pad><pad><pad><pad><pad><pad><pad><pad><pad><pad><pad><pad><pad><pad><pad><pad><pad><pad><pad><pad><pad><pad><pad><pad><pad><pad><pad><pad><pad><pad><pad><pad><pad><pad><pad><pad><pad><pad><pad><pad><pad><pad><pad><pad><pad><pad><pad><pad><pad><pad><pad><pad><pad><pad><pad><pad><pad><pad><pad><pad><pad><pad><pad><pad><pad><pad><pad><pad><pad><pad><pad><pad><pad><pad><pad><pad><pad><pad><pad><pad><pad><pad><pad><pad><pad><pad><pad><pad><pad><pad><pad><pad><pad><pad><pad><pad>\n",
      "\n",
      "Human Generated Reflection:\n",
      "<s> It is very difficult to move from being the child to be the care giver as in your situation</s><pad><pad><pad><pad><pad><pad><pad><pad><pad><pad><pad><pad><pad><pad><pad><pad><pad><pad><pad><pad><pad><pad><pad><pad><pad><pad><pad><pad><pad><pad><pad><pad><pad><pad><pad><pad><pad><pad><pad><pad><pad><pad><pad><pad><pad><pad><pad><pad><pad><pad><pad><pad><pad><pad><pad><pad><pad><pad><pad><pad><pad><pad><pad><pad><pad><pad><pad><pad><pad><pad><pad><pad><pad><pad><pad><pad><pad><pad><pad><pad><pad><pad><pad><pad><pad><pad><pad><pad><pad><pad><pad><pad><pad><pad><pad><pad><pad><pad><pad><pad><pad><pad><pad><pad><pad><pad><pad><pad><pad><pad><pad><pad><pad><pad><pad><pad><pad><pad><pad><pad><pad><pad><pad><pad><pad><pad><pad><pad><pad><pad><pad><pad><pad><pad><pad><pad><pad><pad><pad><pad><pad><pad><pad><pad><pad><pad><pad><pad><pad><pad><pad><pad><pad><pad><pad><pad><pad><pad><pad><pad><pad><pad><pad><pad><pad><pad><pad><pad><pad><pad><pad><pad><pad><pad><pad><pad><pad><pad><pad><pad><pad><pad><pad><pad><pad><pad><pad><pad><pad><pad><pad><pad><pad><pad><pad><pad><pad><pad><pad><pad><pad><pad><pad><pad><pad><pad><pad><pad><pad><pad><pad><pad><pad><pad><pad><pad><pad><pad><pad><pad><pad><pad><pad><pad><pad><pad><pad><pad><pad><pad><pad><pad><pad><pad><pad><pad><pad><pad><pad><pad><pad><pad><pad><pad><pad><pad><pad><pad><pad><pad><pad><pad><pad><pad><pad><pad><pad><pad><pad><pad><pad><pad><pad><pad><pad><pad><pad><pad><pad><pad><pad><pad><pad><pad><pad><pad><pad><pad><pad><pad><pad><pad><pad><pad><pad><pad><pad><pad><pad><pad><pad><pad><pad><pad><pad><pad><pad><pad><pad><pad><pad><pad><pad><pad><pad><pad><pad><pad><pad><pad><pad><pad><pad><pad><pad><pad><pad><pad><pad><pad><pad><pad><pad><pad><pad><pad><pad><pad><pad><pad><pad><pad><pad><pad><pad><pad><pad><pad><pad><pad><pad><pad><pad><pad><pad><pad><pad><pad><pad><pad><pad><pad><pad><pad><pad><pad><pad><pad><pad><pad><pad><pad><pad><pad><pad><pad><pad><pad><pad><pad><pad><pad><pad><pad><pad><pad><pad><pad><pad><pad><pad><pad><pad><pad><pad><pad><pad><pad><pad><pad><pad><pad><pad><pad><pad><pad><pad><pad><pad><pad><pad><pad><pad><pad><pad><pad><pad><pad><pad><pad><pad><pad><pad><pad><pad><pad><pad><pad><pad><pad><pad><pad><pad><pad><pad><pad><pad><pad><pad><pad><pad><pad><pad><pad><pad><pad><pad><pad><pad><pad><pad><pad><pad><pad><pad><pad><pad><pad><pad><pad><pad><pad><pad><pad><pad><pad><pad><pad><pad><pad><pad><pad><pad><pad><pad><pad><pad><pad><pad><pad><pad><pad><pad><pad><pad><pad><pad><pad><pad><pad><pad><pad><pad><pad><pad><pad><pad><pad><pad>\n",
      "\n",
      "Machine Generated Reflection:\n",
      " I'm sorry to hear that you have a great\n",
      "\n",
      "\n",
      "VALIDATION SET\n",
      "========================================\n",
      "\n",
      "----------------------------------------------------------------------\n",
      "\n",
      "Question:\n",
      "<s> I told her that if daddy dies, we will never see him again. She started crying because I wouldn't make her daddy die.</s><pad><pad><pad><pad><pad><pad><pad><pad><pad><pad><pad><pad><pad><pad><pad><pad><pad><pad><pad><pad><pad><pad><pad><pad><pad><pad><pad><pad><pad><pad><pad><pad><pad><pad><pad><pad><pad><pad><pad><pad><pad><pad><pad><pad><pad><pad><pad><pad><pad><pad><pad><pad><pad><pad><pad><pad><pad><pad><pad><pad><pad><pad><pad><pad><pad><pad><pad><pad><pad><pad><pad><pad><pad><pad><pad><pad><pad><pad><pad><pad><pad><pad><pad><pad><pad><pad><pad><pad><pad><pad><pad><pad><pad><pad><pad><pad><pad><pad><pad><pad><pad><pad><pad><pad><pad><pad><pad><pad><pad><pad><pad><pad><pad><pad><pad><pad><pad><pad><pad><pad><pad><pad><pad><pad><pad><pad><pad><pad><pad><pad><pad><pad><pad><pad><pad><pad><pad><pad><pad><pad><pad><pad><pad><pad><pad><pad><pad><pad><pad><pad><pad><pad><pad><pad><pad><pad><pad><pad><pad><pad><pad><pad><pad><pad><pad><pad><pad><pad><pad><pad><pad><pad><pad><pad><pad><pad><pad><pad><pad><pad><pad><pad><pad><pad><pad><pad><pad><pad><pad><pad><pad><pad><pad><pad><pad><pad><pad><pad><pad><pad><pad><pad><pad><pad><pad><pad><pad><pad><pad><pad><pad><pad><pad><pad><pad><pad><pad><pad><pad><pad><pad><pad><pad><pad><pad><pad><pad><pad><pad><pad><pad><pad><pad><pad><pad><pad><pad><pad><pad><pad><pad><pad><pad><pad><pad><pad><pad><pad><pad><pad><pad><pad><pad><pad><pad><pad><pad><pad><pad><pad><pad><pad><pad><pad><pad><pad><pad><pad><pad><pad><pad><pad><pad><pad><pad><pad><pad><pad><pad><pad><pad><pad><pad><pad><pad><pad><pad><pad><pad><pad><pad><pad><pad><pad><pad><pad><pad><pad><pad><pad><pad><pad><pad><pad><pad><pad><pad><pad><pad><pad><pad><pad><pad><pad><pad><pad><pad><pad><pad><pad><pad><pad><pad><pad><pad><pad><pad><pad><pad><pad><pad><pad><pad><pad><pad><pad><pad><pad><pad><pad><pad><pad><pad><pad><pad><pad><pad><pad><pad><pad><pad><pad><pad><pad><pad><pad><pad><pad><pad><pad><pad><pad><pad><pad><pad><pad><pad><pad><pad><pad><pad><pad><pad><pad><pad><pad><pad><pad><pad><pad><pad><pad><pad><pad><pad><pad><pad><pad><pad><pad><pad><pad><pad><pad><pad><pad><pad><pad><pad><pad><pad><pad><pad><pad><pad><pad><pad><pad><pad><pad><pad><pad><pad><pad><pad><pad><pad><pad><pad><pad><pad><pad><pad><pad><pad><pad><pad><pad><pad><pad><pad><pad><pad><pad><pad><pad><pad><pad><pad><pad><pad><pad><pad><pad><pad><pad><pad><pad><pad><pad><pad><pad><pad><pad><pad><pad><pad><pad><pad><pad><pad><pad><pad><pad><pad><pad><pad><pad><pad><pad><pad><pad><pad><pad><pad><pad><pad><pad><pad><pad><pad><pad><pad>\n",
      "\n",
      "Human Generated Reflection:\n",
      "<s> Toddlers don't have the intellectual capacity to conceptualize</s><pad><pad><pad><pad><pad><pad><pad><pad><pad><pad><pad><pad><pad><pad><pad><pad><pad><pad><pad><pad><pad><pad><pad><pad><pad><pad><pad><pad><pad><pad><pad><pad><pad><pad><pad><pad><pad><pad><pad><pad><pad><pad><pad><pad><pad><pad><pad><pad><pad><pad><pad><pad><pad><pad><pad><pad><pad><pad><pad><pad><pad><pad><pad><pad><pad><pad><pad><pad><pad><pad><pad><pad><pad><pad><pad><pad><pad><pad><pad><pad><pad><pad><pad><pad><pad><pad><pad><pad><pad><pad><pad><pad><pad><pad><pad><pad><pad><pad><pad><pad><pad><pad><pad><pad><pad><pad><pad><pad><pad><pad><pad><pad><pad><pad><pad><pad><pad><pad><pad><pad><pad><pad><pad><pad><pad><pad><pad><pad><pad><pad><pad><pad><pad><pad><pad><pad><pad><pad><pad><pad><pad><pad><pad><pad><pad><pad><pad><pad><pad><pad><pad><pad><pad><pad><pad><pad><pad><pad><pad><pad><pad><pad><pad><pad><pad><pad><pad><pad><pad><pad><pad><pad><pad><pad><pad><pad><pad><pad><pad><pad><pad><pad><pad><pad><pad><pad><pad><pad><pad><pad><pad><pad><pad><pad><pad><pad><pad><pad><pad><pad><pad><pad><pad><pad><pad><pad><pad><pad><pad><pad><pad><pad><pad><pad><pad><pad><pad><pad><pad><pad><pad><pad><pad><pad><pad><pad><pad><pad><pad><pad><pad><pad><pad><pad><pad><pad><pad><pad><pad><pad><pad><pad><pad><pad><pad><pad><pad><pad><pad><pad><pad><pad><pad><pad><pad><pad><pad><pad><pad><pad><pad><pad><pad><pad><pad><pad><pad><pad><pad><pad><pad><pad><pad><pad><pad><pad><pad><pad><pad><pad><pad><pad><pad><pad><pad><pad><pad><pad><pad><pad><pad><pad><pad><pad><pad><pad><pad><pad><pad><pad><pad><pad><pad><pad><pad><pad><pad><pad><pad><pad><pad><pad><pad><pad><pad><pad><pad><pad><pad><pad><pad><pad><pad><pad><pad><pad><pad><pad><pad><pad><pad><pad><pad><pad><pad><pad><pad><pad><pad><pad><pad><pad><pad><pad><pad><pad><pad><pad><pad><pad><pad><pad><pad><pad><pad><pad><pad><pad><pad><pad><pad><pad><pad><pad><pad><pad><pad><pad><pad><pad><pad><pad><pad><pad><pad><pad><pad><pad><pad><pad><pad><pad><pad><pad><pad><pad><pad><pad><pad><pad><pad><pad><pad><pad><pad><pad><pad><pad><pad><pad><pad><pad><pad><pad><pad><pad><pad><pad><pad><pad><pad><pad><pad><pad><pad><pad><pad><pad><pad><pad><pad><pad><pad><pad><pad><pad><pad><pad><pad><pad><pad><pad><pad><pad><pad><pad><pad><pad><pad><pad><pad><pad><pad><pad><pad><pad><pad><pad><pad><pad><pad><pad><pad><pad><pad><pad><pad><pad><pad><pad><pad><pad><pad><pad><pad><pad><pad><pad><pad><pad><pad><pad><pad><pad><pad><pad><pad><pad><pad><pad><pad><pad><pad><pad><pad><pad><pad><pad><pad><pad><pad><pad><pad><pad><pad><pad><pad><pad>\n",
      "\n",
      "Machine Generated Reflection:\n",
      " I'm sorry to hear that you're asking this\n",
      "\n",
      "----------------------------------------------------------------------\n",
      "\n"
     ]
    },
    {
     "name": "stdout",
     "output_type": "stream",
     "text": [
      "Question:\n",
      "<s> What are some difficulties that a counselor can encounter when dealing with a client?</s><pad><pad><pad><pad><pad><pad><pad><pad><pad><pad><pad><pad><pad><pad><pad><pad><pad><pad><pad><pad><pad><pad><pad><pad><pad><pad><pad><pad><pad><pad><pad><pad><pad><pad><pad><pad><pad><pad><pad><pad><pad><pad><pad><pad><pad><pad><pad><pad><pad><pad><pad><pad><pad><pad><pad><pad><pad><pad><pad><pad><pad><pad><pad><pad><pad><pad><pad><pad><pad><pad><pad><pad><pad><pad><pad><pad><pad><pad><pad><pad><pad><pad><pad><pad><pad><pad><pad><pad><pad><pad><pad><pad><pad><pad><pad><pad><pad><pad><pad><pad><pad><pad><pad><pad><pad><pad><pad><pad><pad><pad><pad><pad><pad><pad><pad><pad><pad><pad><pad><pad><pad><pad><pad><pad><pad><pad><pad><pad><pad><pad><pad><pad><pad><pad><pad><pad><pad><pad><pad><pad><pad><pad><pad><pad><pad><pad><pad><pad><pad><pad><pad><pad><pad><pad><pad><pad><pad><pad><pad><pad><pad><pad><pad><pad><pad><pad><pad><pad><pad><pad><pad><pad><pad><pad><pad><pad><pad><pad><pad><pad><pad><pad><pad><pad><pad><pad><pad><pad><pad><pad><pad><pad><pad><pad><pad><pad><pad><pad><pad><pad><pad><pad><pad><pad><pad><pad><pad><pad><pad><pad><pad><pad><pad><pad><pad><pad><pad><pad><pad><pad><pad><pad><pad><pad><pad><pad><pad><pad><pad><pad><pad><pad><pad><pad><pad><pad><pad><pad><pad><pad><pad><pad><pad><pad><pad><pad><pad><pad><pad><pad><pad><pad><pad><pad><pad><pad><pad><pad><pad><pad><pad><pad><pad><pad><pad><pad><pad><pad><pad><pad><pad><pad><pad><pad><pad><pad><pad><pad><pad><pad><pad><pad><pad><pad><pad><pad><pad><pad><pad><pad><pad><pad><pad><pad><pad><pad><pad><pad><pad><pad><pad><pad><pad><pad><pad><pad><pad><pad><pad><pad><pad><pad><pad><pad><pad><pad><pad><pad><pad><pad><pad><pad><pad><pad><pad><pad><pad><pad><pad><pad><pad><pad><pad><pad><pad><pad><pad><pad><pad><pad><pad><pad><pad><pad><pad><pad><pad><pad><pad><pad><pad><pad><pad><pad><pad><pad><pad><pad><pad><pad><pad><pad><pad><pad><pad><pad><pad><pad><pad><pad><pad><pad><pad><pad><pad><pad><pad><pad><pad><pad><pad><pad><pad><pad><pad><pad><pad><pad><pad><pad><pad><pad><pad><pad><pad><pad><pad><pad><pad><pad><pad><pad><pad><pad><pad><pad><pad><pad><pad><pad><pad><pad><pad><pad><pad><pad><pad><pad><pad><pad><pad><pad><pad><pad><pad><pad><pad><pad><pad><pad><pad><pad><pad><pad><pad><pad><pad><pad><pad><pad><pad><pad><pad><pad><pad><pad><pad><pad><pad><pad><pad><pad><pad><pad><pad><pad><pad><pad><pad><pad><pad><pad><pad><pad><pad><pad><pad><pad><pad><pad><pad><pad><pad><pad><pad><pad><pad><pad><pad><pad><pad><pad><pad><pad><pad><pad><pad><pad><pad><pad><pad><pad><pad><pad><pad>\n",
      "\n",
      "Human Generated Reflection:\n",
      "<s> Dang right!  :)Heh heh, and correct me if I'm wrong</s><pad><pad><pad><pad><pad><pad><pad><pad><pad><pad><pad><pad><pad><pad><pad><pad><pad><pad><pad><pad><pad><pad><pad><pad><pad><pad><pad><pad><pad><pad><pad><pad><pad><pad><pad><pad><pad><pad><pad><pad><pad><pad><pad><pad><pad><pad><pad><pad><pad><pad><pad><pad><pad><pad><pad><pad><pad><pad><pad><pad><pad><pad><pad><pad><pad><pad><pad><pad><pad><pad><pad><pad><pad><pad><pad><pad><pad><pad><pad><pad><pad><pad><pad><pad><pad><pad><pad><pad><pad><pad><pad><pad><pad><pad><pad><pad><pad><pad><pad><pad><pad><pad><pad><pad><pad><pad><pad><pad><pad><pad><pad><pad><pad><pad><pad><pad><pad><pad><pad><pad><pad><pad><pad><pad><pad><pad><pad><pad><pad><pad><pad><pad><pad><pad><pad><pad><pad><pad><pad><pad><pad><pad><pad><pad><pad><pad><pad><pad><pad><pad><pad><pad><pad><pad><pad><pad><pad><pad><pad><pad><pad><pad><pad><pad><pad><pad><pad><pad><pad><pad><pad><pad><pad><pad><pad><pad><pad><pad><pad><pad><pad><pad><pad><pad><pad><pad><pad><pad><pad><pad><pad><pad><pad><pad><pad><pad><pad><pad><pad><pad><pad><pad><pad><pad><pad><pad><pad><pad><pad><pad><pad><pad><pad><pad><pad><pad><pad><pad><pad><pad><pad><pad><pad><pad><pad><pad><pad><pad><pad><pad><pad><pad><pad><pad><pad><pad><pad><pad><pad><pad><pad><pad><pad><pad><pad><pad><pad><pad><pad><pad><pad><pad><pad><pad><pad><pad><pad><pad><pad><pad><pad><pad><pad><pad><pad><pad><pad><pad><pad><pad><pad><pad><pad><pad><pad><pad><pad><pad><pad><pad><pad><pad><pad><pad><pad><pad><pad><pad><pad><pad><pad><pad><pad><pad><pad><pad><pad><pad><pad><pad><pad><pad><pad><pad><pad><pad><pad><pad><pad><pad><pad><pad><pad><pad><pad><pad><pad><pad><pad><pad><pad><pad><pad><pad><pad><pad><pad><pad><pad><pad><pad><pad><pad><pad><pad><pad><pad><pad><pad><pad><pad><pad><pad><pad><pad><pad><pad><pad><pad><pad><pad><pad><pad><pad><pad><pad><pad><pad><pad><pad><pad><pad><pad><pad><pad><pad><pad><pad><pad><pad><pad><pad><pad><pad><pad><pad><pad><pad><pad><pad><pad><pad><pad><pad><pad><pad><pad><pad><pad><pad><pad><pad><pad><pad><pad><pad><pad><pad><pad><pad><pad><pad><pad><pad><pad><pad><pad><pad><pad><pad><pad><pad><pad><pad><pad><pad><pad><pad><pad><pad><pad><pad><pad><pad><pad><pad><pad><pad><pad><pad><pad><pad><pad><pad><pad><pad><pad><pad><pad><pad><pad><pad><pad><pad><pad><pad><pad><pad><pad><pad><pad><pad><pad><pad><pad><pad><pad><pad><pad><pad><pad><pad><pad><pad><pad><pad><pad><pad><pad><pad><pad><pad><pad><pad><pad><pad><pad><pad><pad><pad><pad><pad><pad><pad><pad><pad><pad><pad><pad><pad><pad>\n",
      "\n",
      "Machine Generated Reflection:\n",
      " I'm sorry to hear that you are a counselor\n",
      "\n",
      "----------------------------------------------------------------------\n",
      "\n",
      "Question:\n",
      "<s> nan</s><pad><pad><pad><pad><pad><pad><pad><pad><pad><pad><pad><pad><pad><pad><pad><pad><pad><pad><pad><pad><pad><pad><pad><pad><pad><pad><pad><pad><pad><pad><pad><pad><pad><pad><pad><pad><pad><pad><pad><pad><pad><pad><pad><pad><pad><pad><pad><pad><pad><pad><pad><pad><pad><pad><pad><pad><pad><pad><pad><pad><pad><pad><pad><pad><pad><pad><pad><pad><pad><pad><pad><pad><pad><pad><pad><pad><pad><pad><pad><pad><pad><pad><pad><pad><pad><pad><pad><pad><pad><pad><pad><pad><pad><pad><pad><pad><pad><pad><pad><pad><pad><pad><pad><pad><pad><pad><pad><pad><pad><pad><pad><pad><pad><pad><pad><pad><pad><pad><pad><pad><pad><pad><pad><pad><pad><pad><pad><pad><pad><pad><pad><pad><pad><pad><pad><pad><pad><pad><pad><pad><pad><pad><pad><pad><pad><pad><pad><pad><pad><pad><pad><pad><pad><pad><pad><pad><pad><pad><pad><pad><pad><pad><pad><pad><pad><pad><pad><pad><pad><pad><pad><pad><pad><pad><pad><pad><pad><pad><pad><pad><pad><pad><pad><pad><pad><pad><pad><pad><pad><pad><pad><pad><pad><pad><pad><pad><pad><pad><pad><pad><pad><pad><pad><pad><pad><pad><pad><pad><pad><pad><pad><pad><pad><pad><pad><pad><pad><pad><pad><pad><pad><pad><pad><pad><pad><pad><pad><pad><pad><pad><pad><pad><pad><pad><pad><pad><pad><pad><pad><pad><pad><pad><pad><pad><pad><pad><pad><pad><pad><pad><pad><pad><pad><pad><pad><pad><pad><pad><pad><pad><pad><pad><pad><pad><pad><pad><pad><pad><pad><pad><pad><pad><pad><pad><pad><pad><pad><pad><pad><pad><pad><pad><pad><pad><pad><pad><pad><pad><pad><pad><pad><pad><pad><pad><pad><pad><pad><pad><pad><pad><pad><pad><pad><pad><pad><pad><pad><pad><pad><pad><pad><pad><pad><pad><pad><pad><pad><pad><pad><pad><pad><pad><pad><pad><pad><pad><pad><pad><pad><pad><pad><pad><pad><pad><pad><pad><pad><pad><pad><pad><pad><pad><pad><pad><pad><pad><pad><pad><pad><pad><pad><pad><pad><pad><pad><pad><pad><pad><pad><pad><pad><pad><pad><pad><pad><pad><pad><pad><pad><pad><pad><pad><pad><pad><pad><pad><pad><pad><pad><pad><pad><pad><pad><pad><pad><pad><pad><pad><pad><pad><pad><pad><pad><pad><pad><pad><pad><pad><pad><pad><pad><pad><pad><pad><pad><pad><pad><pad><pad><pad><pad><pad><pad><pad><pad><pad><pad><pad><pad><pad><pad><pad><pad><pad><pad><pad><pad><pad><pad><pad><pad><pad><pad><pad><pad><pad><pad><pad><pad><pad><pad><pad><pad><pad><pad><pad><pad><pad><pad><pad><pad><pad><pad><pad><pad><pad><pad><pad><pad><pad><pad><pad><pad><pad><pad><pad><pad><pad><pad><pad><pad><pad><pad><pad><pad><pad><pad><pad><pad><pad><pad><pad><pad><pad><pad><pad><pad><pad><pad><pad><pad><pad><pad><pad><pad><pad><pad><pad><pad><pad><pad><pad><pad><pad><pad><pad><pad><pad><pad>\n",
      "\n",
      "Human Generated Reflection:\n",
      "<s> Anything can become an addiction</s><pad><pad><pad><pad><pad><pad><pad><pad><pad><pad><pad><pad><pad><pad><pad><pad><pad><pad><pad><pad><pad><pad><pad><pad><pad><pad><pad><pad><pad><pad><pad><pad><pad><pad><pad><pad><pad><pad><pad><pad><pad><pad><pad><pad><pad><pad><pad><pad><pad><pad><pad><pad><pad><pad><pad><pad><pad><pad><pad><pad><pad><pad><pad><pad><pad><pad><pad><pad><pad><pad><pad><pad><pad><pad><pad><pad><pad><pad><pad><pad><pad><pad><pad><pad><pad><pad><pad><pad><pad><pad><pad><pad><pad><pad><pad><pad><pad><pad><pad><pad><pad><pad><pad><pad><pad><pad><pad><pad><pad><pad><pad><pad><pad><pad><pad><pad><pad><pad><pad><pad><pad><pad><pad><pad><pad><pad><pad><pad><pad><pad><pad><pad><pad><pad><pad><pad><pad><pad><pad><pad><pad><pad><pad><pad><pad><pad><pad><pad><pad><pad><pad><pad><pad><pad><pad><pad><pad><pad><pad><pad><pad><pad><pad><pad><pad><pad><pad><pad><pad><pad><pad><pad><pad><pad><pad><pad><pad><pad><pad><pad><pad><pad><pad><pad><pad><pad><pad><pad><pad><pad><pad><pad><pad><pad><pad><pad><pad><pad><pad><pad><pad><pad><pad><pad><pad><pad><pad><pad><pad><pad><pad><pad><pad><pad><pad><pad><pad><pad><pad><pad><pad><pad><pad><pad><pad><pad><pad><pad><pad><pad><pad><pad><pad><pad><pad><pad><pad><pad><pad><pad><pad><pad><pad><pad><pad><pad><pad><pad><pad><pad><pad><pad><pad><pad><pad><pad><pad><pad><pad><pad><pad><pad><pad><pad><pad><pad><pad><pad><pad><pad><pad><pad><pad><pad><pad><pad><pad><pad><pad><pad><pad><pad><pad><pad><pad><pad><pad><pad><pad><pad><pad><pad><pad><pad><pad><pad><pad><pad><pad><pad><pad><pad><pad><pad><pad><pad><pad><pad><pad><pad><pad><pad><pad><pad><pad><pad><pad><pad><pad><pad><pad><pad><pad><pad><pad><pad><pad><pad><pad><pad><pad><pad><pad><pad><pad><pad><pad><pad><pad><pad><pad><pad><pad><pad><pad><pad><pad><pad><pad><pad><pad><pad><pad><pad><pad><pad><pad><pad><pad><pad><pad><pad><pad><pad><pad><pad><pad><pad><pad><pad><pad><pad><pad><pad><pad><pad><pad><pad><pad><pad><pad><pad><pad><pad><pad><pad><pad><pad><pad><pad><pad><pad><pad><pad><pad><pad><pad><pad><pad><pad><pad><pad><pad><pad><pad><pad><pad><pad><pad><pad><pad><pad><pad><pad><pad><pad><pad><pad><pad><pad><pad><pad><pad><pad><pad><pad><pad><pad><pad><pad><pad><pad><pad><pad><pad><pad><pad><pad><pad><pad><pad><pad><pad><pad><pad><pad><pad><pad><pad><pad><pad><pad><pad><pad><pad><pad><pad><pad><pad><pad><pad><pad><pad><pad><pad><pad><pad><pad><pad><pad><pad><pad><pad><pad><pad><pad><pad><pad><pad><pad><pad><pad><pad><pad><pad><pad><pad><pad><pad><pad><pad><pad><pad><pad><pad><pad><pad><pad><pad><pad><pad><pad><pad><pad>\n",
      "\n",
      "Machine Generated Reflection:\n",
      " I'm sorry to hear about your question</s> \n",
      "\n",
      "----------------------------------------------------------------------\n",
      "\n"
     ]
    },
    {
     "name": "stdout",
     "output_type": "stream",
     "text": [
      "Question:\n",
      "<s> My therapist is gay so there are no sexual issues here. However, my therapist for six years has made me believe that he cares about me and that we are friends. I have loaned money to him many times, and he always paid me back.\n",
      "   I had a medical emergency last weekend and I was heavily medicated. I knew that this therapist came into my home and wrote down my credit card information so he could pay back what he owed me, but this therapist dropped me off and never came again. I don't know what to do.</s><pad><pad><pad><pad><pad><pad><pad><pad><pad><pad><pad><pad><pad><pad><pad><pad><pad><pad><pad><pad><pad><pad><pad><pad><pad><pad><pad><pad><pad><pad><pad><pad><pad><pad><pad><pad><pad><pad><pad><pad><pad><pad><pad><pad><pad><pad><pad><pad><pad><pad><pad><pad><pad><pad><pad><pad><pad><pad><pad><pad><pad><pad><pad><pad><pad><pad><pad><pad><pad><pad><pad><pad><pad><pad><pad><pad><pad><pad><pad><pad><pad><pad><pad><pad><pad><pad><pad><pad><pad><pad><pad><pad><pad><pad><pad><pad><pad><pad><pad><pad><pad><pad><pad><pad><pad><pad><pad><pad><pad><pad><pad><pad><pad><pad><pad><pad><pad><pad><pad><pad><pad><pad><pad><pad><pad><pad><pad><pad><pad><pad><pad><pad><pad><pad><pad><pad><pad><pad><pad><pad><pad><pad><pad><pad><pad><pad><pad><pad><pad><pad><pad><pad><pad><pad><pad><pad><pad><pad><pad><pad><pad><pad><pad><pad><pad><pad><pad><pad><pad><pad><pad><pad><pad><pad><pad><pad><pad><pad><pad><pad><pad><pad><pad><pad><pad><pad><pad><pad><pad><pad><pad><pad><pad><pad><pad><pad><pad><pad><pad><pad><pad><pad><pad><pad><pad><pad><pad><pad><pad><pad><pad><pad><pad><pad><pad><pad><pad><pad><pad><pad><pad><pad><pad><pad><pad><pad><pad><pad><pad><pad><pad><pad><pad><pad><pad><pad><pad><pad><pad><pad><pad><pad><pad><pad><pad><pad><pad><pad><pad><pad><pad><pad><pad><pad><pad><pad><pad><pad><pad><pad><pad><pad><pad><pad><pad><pad><pad><pad><pad><pad><pad><pad><pad><pad><pad><pad><pad><pad><pad><pad><pad><pad><pad><pad><pad><pad><pad><pad><pad><pad><pad><pad><pad><pad><pad><pad><pad><pad><pad><pad><pad><pad><pad><pad><pad><pad><pad><pad><pad><pad><pad><pad><pad><pad><pad><pad><pad><pad><pad><pad><pad><pad><pad><pad><pad><pad><pad><pad><pad><pad><pad><pad><pad><pad><pad><pad><pad><pad><pad><pad><pad><pad><pad><pad><pad><pad><pad><pad><pad><pad><pad><pad><pad><pad><pad><pad><pad><pad><pad><pad><pad><pad><pad><pad><pad><pad><pad><pad><pad><pad><pad><pad><pad><pad><pad><pad><pad><pad><pad><pad><pad><pad><pad><pad><pad><pad><pad><pad><pad><pad><pad><pad><pad><pad><pad><pad><pad>\n",
      "\n",
      "Human Generated Reflection:\n",
      "<s> Therapists, regardless of the discipline (i</s><pad><pad><pad><pad><pad><pad><pad><pad><pad><pad><pad><pad><pad><pad><pad><pad><pad><pad><pad><pad><pad><pad><pad><pad><pad><pad><pad><pad><pad><pad><pad><pad><pad><pad><pad><pad><pad><pad><pad><pad><pad><pad><pad><pad><pad><pad><pad><pad><pad><pad><pad><pad><pad><pad><pad><pad><pad><pad><pad><pad><pad><pad><pad><pad><pad><pad><pad><pad><pad><pad><pad><pad><pad><pad><pad><pad><pad><pad><pad><pad><pad><pad><pad><pad><pad><pad><pad><pad><pad><pad><pad><pad><pad><pad><pad><pad><pad><pad><pad><pad><pad><pad><pad><pad><pad><pad><pad><pad><pad><pad><pad><pad><pad><pad><pad><pad><pad><pad><pad><pad><pad><pad><pad><pad><pad><pad><pad><pad><pad><pad><pad><pad><pad><pad><pad><pad><pad><pad><pad><pad><pad><pad><pad><pad><pad><pad><pad><pad><pad><pad><pad><pad><pad><pad><pad><pad><pad><pad><pad><pad><pad><pad><pad><pad><pad><pad><pad><pad><pad><pad><pad><pad><pad><pad><pad><pad><pad><pad><pad><pad><pad><pad><pad><pad><pad><pad><pad><pad><pad><pad><pad><pad><pad><pad><pad><pad><pad><pad><pad><pad><pad><pad><pad><pad><pad><pad><pad><pad><pad><pad><pad><pad><pad><pad><pad><pad><pad><pad><pad><pad><pad><pad><pad><pad><pad><pad><pad><pad><pad><pad><pad><pad><pad><pad><pad><pad><pad><pad><pad><pad><pad><pad><pad><pad><pad><pad><pad><pad><pad><pad><pad><pad><pad><pad><pad><pad><pad><pad><pad><pad><pad><pad><pad><pad><pad><pad><pad><pad><pad><pad><pad><pad><pad><pad><pad><pad><pad><pad><pad><pad><pad><pad><pad><pad><pad><pad><pad><pad><pad><pad><pad><pad><pad><pad><pad><pad><pad><pad><pad><pad><pad><pad><pad><pad><pad><pad><pad><pad><pad><pad><pad><pad><pad><pad><pad><pad><pad><pad><pad><pad><pad><pad><pad><pad><pad><pad><pad><pad><pad><pad><pad><pad><pad><pad><pad><pad><pad><pad><pad><pad><pad><pad><pad><pad><pad><pad><pad><pad><pad><pad><pad><pad><pad><pad><pad><pad><pad><pad><pad><pad><pad><pad><pad><pad><pad><pad><pad><pad><pad><pad><pad><pad><pad><pad><pad><pad><pad><pad><pad><pad><pad><pad><pad><pad><pad><pad><pad><pad><pad><pad><pad><pad><pad><pad><pad><pad><pad><pad><pad><pad><pad><pad><pad><pad><pad><pad><pad><pad><pad><pad><pad><pad><pad><pad><pad><pad><pad><pad><pad><pad><pad><pad><pad><pad><pad><pad><pad><pad><pad><pad><pad><pad><pad><pad><pad><pad><pad><pad><pad><pad><pad><pad><pad><pad><pad><pad><pad><pad><pad><pad><pad><pad><pad><pad><pad><pad><pad><pad><pad><pad><pad><pad><pad><pad><pad><pad><pad><pad><pad><pad><pad><pad><pad><pad><pad><pad><pad><pad><pad><pad><pad><pad><pad><pad><pad><pad><pad><pad><pad><pad><pad><pad><pad><pad><pad><pad><pad><pad><pad>\n",
      "\n",
      "Machine Generated Reflection:\n",
      " I'm glad you are out out of the same\n",
      "\n",
      "----------------------------------------------------------------------\n",
      "\n",
      "Question:\n",
      "<s> My boyfriend and I have been dating for almost a year. We go to different schools, and we don't see each other that often. I just feel very paranoid that there's someone else or that he could be hiding something from me.</s><pad><pad><pad><pad><pad><pad><pad><pad><pad><pad><pad><pad><pad><pad><pad><pad><pad><pad><pad><pad><pad><pad><pad><pad><pad><pad><pad><pad><pad><pad><pad><pad><pad><pad><pad><pad><pad><pad><pad><pad><pad><pad><pad><pad><pad><pad><pad><pad><pad><pad><pad><pad><pad><pad><pad><pad><pad><pad><pad><pad><pad><pad><pad><pad><pad><pad><pad><pad><pad><pad><pad><pad><pad><pad><pad><pad><pad><pad><pad><pad><pad><pad><pad><pad><pad><pad><pad><pad><pad><pad><pad><pad><pad><pad><pad><pad><pad><pad><pad><pad><pad><pad><pad><pad><pad><pad><pad><pad><pad><pad><pad><pad><pad><pad><pad><pad><pad><pad><pad><pad><pad><pad><pad><pad><pad><pad><pad><pad><pad><pad><pad><pad><pad><pad><pad><pad><pad><pad><pad><pad><pad><pad><pad><pad><pad><pad><pad><pad><pad><pad><pad><pad><pad><pad><pad><pad><pad><pad><pad><pad><pad><pad><pad><pad><pad><pad><pad><pad><pad><pad><pad><pad><pad><pad><pad><pad><pad><pad><pad><pad><pad><pad><pad><pad><pad><pad><pad><pad><pad><pad><pad><pad><pad><pad><pad><pad><pad><pad><pad><pad><pad><pad><pad><pad><pad><pad><pad><pad><pad><pad><pad><pad><pad><pad><pad><pad><pad><pad><pad><pad><pad><pad><pad><pad><pad><pad><pad><pad><pad><pad><pad><pad><pad><pad><pad><pad><pad><pad><pad><pad><pad><pad><pad><pad><pad><pad><pad><pad><pad><pad><pad><pad><pad><pad><pad><pad><pad><pad><pad><pad><pad><pad><pad><pad><pad><pad><pad><pad><pad><pad><pad><pad><pad><pad><pad><pad><pad><pad><pad><pad><pad><pad><pad><pad><pad><pad><pad><pad><pad><pad><pad><pad><pad><pad><pad><pad><pad><pad><pad><pad><pad><pad><pad><pad><pad><pad><pad><pad><pad><pad><pad><pad><pad><pad><pad><pad><pad><pad><pad><pad><pad><pad><pad><pad><pad><pad><pad><pad><pad><pad><pad><pad><pad><pad><pad><pad><pad><pad><pad><pad><pad><pad><pad><pad><pad><pad><pad><pad><pad><pad><pad><pad><pad><pad><pad><pad><pad><pad><pad><pad><pad><pad><pad><pad><pad><pad><pad><pad><pad><pad><pad><pad><pad><pad><pad><pad><pad><pad><pad><pad><pad><pad><pad><pad><pad><pad><pad><pad><pad><pad><pad><pad><pad><pad><pad><pad><pad><pad><pad><pad><pad><pad><pad><pad><pad><pad><pad><pad><pad><pad><pad><pad><pad><pad><pad><pad><pad><pad><pad><pad><pad><pad><pad><pad><pad><pad><pad><pad><pad><pad><pad><pad><pad><pad><pad><pad><pad><pad><pad><pad><pad><pad><pad><pad><pad><pad><pad><pad><pad><pad><pad><pad><pad><pad><pad><pad><pad><pad><pad><pad><pad><pad>\n",
      "\n",
      "Human Generated Reflection:\n",
      "<s> Have you spoken to him about your fears? Perhaps you can explain this feeling to him and let him know what might lead to feeling more secure</s><pad><pad><pad><pad><pad><pad><pad><pad><pad><pad><pad><pad><pad><pad><pad><pad><pad><pad><pad><pad><pad><pad><pad><pad><pad><pad><pad><pad><pad><pad><pad><pad><pad><pad><pad><pad><pad><pad><pad><pad><pad><pad><pad><pad><pad><pad><pad><pad><pad><pad><pad><pad><pad><pad><pad><pad><pad><pad><pad><pad><pad><pad><pad><pad><pad><pad><pad><pad><pad><pad><pad><pad><pad><pad><pad><pad><pad><pad><pad><pad><pad><pad><pad><pad><pad><pad><pad><pad><pad><pad><pad><pad><pad><pad><pad><pad><pad><pad><pad><pad><pad><pad><pad><pad><pad><pad><pad><pad><pad><pad><pad><pad><pad><pad><pad><pad><pad><pad><pad><pad><pad><pad><pad><pad><pad><pad><pad><pad><pad><pad><pad><pad><pad><pad><pad><pad><pad><pad><pad><pad><pad><pad><pad><pad><pad><pad><pad><pad><pad><pad><pad><pad><pad><pad><pad><pad><pad><pad><pad><pad><pad><pad><pad><pad><pad><pad><pad><pad><pad><pad><pad><pad><pad><pad><pad><pad><pad><pad><pad><pad><pad><pad><pad><pad><pad><pad><pad><pad><pad><pad><pad><pad><pad><pad><pad><pad><pad><pad><pad><pad><pad><pad><pad><pad><pad><pad><pad><pad><pad><pad><pad><pad><pad><pad><pad><pad><pad><pad><pad><pad><pad><pad><pad><pad><pad><pad><pad><pad><pad><pad><pad><pad><pad><pad><pad><pad><pad><pad><pad><pad><pad><pad><pad><pad><pad><pad><pad><pad><pad><pad><pad><pad><pad><pad><pad><pad><pad><pad><pad><pad><pad><pad><pad><pad><pad><pad><pad><pad><pad><pad><pad><pad><pad><pad><pad><pad><pad><pad><pad><pad><pad><pad><pad><pad><pad><pad><pad><pad><pad><pad><pad><pad><pad><pad><pad><pad><pad><pad><pad><pad><pad><pad><pad><pad><pad><pad><pad><pad><pad><pad><pad><pad><pad><pad><pad><pad><pad><pad><pad><pad><pad><pad><pad><pad><pad><pad><pad><pad><pad><pad><pad><pad><pad><pad><pad><pad><pad><pad><pad><pad><pad><pad><pad><pad><pad><pad><pad><pad><pad><pad><pad><pad><pad><pad><pad><pad><pad><pad><pad><pad><pad><pad><pad><pad><pad><pad><pad><pad><pad><pad><pad><pad><pad><pad><pad><pad><pad><pad><pad><pad><pad><pad><pad><pad><pad><pad><pad><pad><pad><pad><pad><pad><pad><pad><pad><pad><pad><pad><pad><pad><pad><pad><pad><pad><pad><pad><pad><pad><pad><pad><pad><pad><pad><pad><pad><pad><pad><pad><pad><pad><pad><pad><pad><pad><pad><pad><pad><pad><pad><pad><pad><pad><pad><pad><pad><pad><pad><pad><pad><pad><pad><pad><pad><pad><pad><pad><pad><pad><pad><pad><pad><pad><pad><pad><pad><pad><pad><pad><pad><pad><pad><pad><pad><pad><pad><pad><pad><pad><pad><pad><pad><pad><pad><pad><pad><pad><pad><pad><pad><pad><pad>\n",
      "\n",
      "Machine Generated Reflection:\n",
      " I'm sorry to hear of your boyfriend is called\n"
     ]
    }
   ],
   "source": [
    "print('\\n\\nTRAINING SET\\n' + '='*40)\n",
    "for _ in range(5):\n",
    "    x, y = next(train_dl_iter)\n",
    "    input_ids_qu, attn_mask_qu, input_ids_re, attn_mask_re = x\n",
    "    print('\\n' + '-'*70 + '\\n')\n",
    "    observe_reflection(model, tokenizer, input_ids_qu=input_ids_qu, attn_mask_qu=attn_mask_qu,\n",
    "                       input_ids_re=input_ids_re)\n",
    "    \n",
    "print('\\n\\nVALIDATION SET\\n' + '='*40)\n",
    "for _ in range(5):\n",
    "    x, y = next(valid_dl_iter)\n",
    "    input_ids_qu, attn_mask_qu, input_ids_re, attn_mask_re = x\n",
    "    print('\\n' + '-'*70 + '\\n')\n",
    "    observe_reflection(model, tokenizer, input_ids_qu=input_ids_qu, attn_mask_qu=attn_mask_qu,\n",
    "                       input_ids_re=input_ids_re)"
   ]
  },
  {
   "cell_type": "code",
   "execution_count": 65,
   "metadata": {},
   "outputs": [
    {
     "name": "stdout",
     "output_type": "stream",
     "text": [
      "Question:\n",
      "<s> I'm annoyed because this stupid COVID quarantine is isolating me from my friends</s><pad><pad><pad><pad><pad><pad><pad><pad><pad><pad><pad><pad><pad><pad><pad><pad><pad><pad><pad><pad><pad><pad><pad><pad><pad><pad><pad><pad><pad><pad><pad><pad><pad><pad><pad><pad><pad><pad><pad><pad><pad><pad><pad><pad><pad><pad><pad><pad><pad><pad><pad><pad><pad><pad><pad><pad><pad><pad><pad><pad><pad><pad><pad><pad><pad><pad><pad><pad><pad><pad><pad><pad><pad><pad><pad><pad><pad><pad><pad><pad><pad><pad><pad><pad><pad><pad><pad><pad><pad><pad><pad><pad><pad><pad><pad><pad><pad><pad><pad><pad><pad><pad><pad><pad><pad><pad><pad><pad><pad><pad><pad><pad><pad><pad><pad><pad><pad><pad><pad><pad><pad><pad><pad><pad><pad><pad><pad><pad><pad><pad><pad><pad><pad><pad><pad><pad><pad><pad><pad><pad><pad><pad><pad><pad><pad><pad><pad><pad><pad><pad><pad><pad><pad><pad><pad><pad><pad><pad><pad><pad><pad><pad><pad><pad><pad><pad><pad><pad><pad><pad><pad><pad><pad><pad><pad><pad><pad><pad><pad><pad><pad><pad><pad><pad><pad><pad><pad><pad><pad><pad><pad><pad><pad><pad><pad><pad><pad><pad><pad><pad><pad><pad><pad><pad><pad><pad><pad><pad><pad><pad><pad><pad><pad><pad><pad><pad><pad><pad><pad><pad><pad><pad><pad><pad><pad><pad><pad><pad><pad><pad><pad><pad><pad><pad><pad><pad><pad><pad><pad><pad><pad><pad><pad><pad><pad><pad><pad><pad><pad><pad><pad><pad><pad><pad><pad><pad><pad><pad><pad><pad><pad><pad><pad><pad><pad><pad><pad><pad><pad><pad><pad><pad><pad><pad><pad><pad><pad><pad><pad><pad><pad><pad><pad><pad><pad><pad><pad><pad><pad><pad><pad><pad><pad><pad><pad><pad><pad><pad><pad><pad><pad><pad><pad><pad><pad><pad><pad><pad><pad><pad><pad><pad><pad><pad><pad><pad><pad><pad><pad><pad><pad><pad><pad><pad><pad><pad><pad><pad><pad><pad><pad><pad><pad><pad><pad><pad><pad><pad><pad><pad><pad><pad><pad><pad><pad><pad><pad><pad><pad><pad><pad><pad><pad><pad><pad><pad><pad><pad><pad><pad><pad><pad><pad><pad><pad><pad><pad><pad><pad><pad><pad><pad><pad><pad><pad><pad><pad><pad><pad><pad><pad><pad><pad><pad><pad><pad><pad><pad><pad><pad><pad><pad><pad><pad><pad><pad><pad><pad><pad><pad><pad><pad><pad><pad><pad><pad><pad><pad><pad><pad><pad><pad><pad><pad><pad><pad><pad><pad><pad><pad><pad><pad><pad><pad><pad><pad><pad><pad><pad><pad><pad><pad><pad><pad><pad><pad><pad><pad><pad><pad><pad><pad><pad><pad><pad><pad><pad><pad><pad><pad><pad><pad><pad><pad><pad><pad><pad><pad><pad><pad><pad><pad><pad><pad><pad><pad><pad><pad><pad><pad><pad><pad><pad><pad><pad><pad><pad><pad><pad><pad><pad><pad><pad><pad><pad><pad><pad><pad><pad><pad><pad><pad><pad><pad>\n",
      "\n",
      "Machine Generated Reflection:\n",
      " I'm sorry to hear that you are going through\n"
     ]
    }
   ],
   "source": [
    "prompt = \"\"\"I'm annoyed because this stupid COVID quarantine is isolating me from my friends\"\"\"\n",
    "observe_reflection(model, tokenizer, string=prompt)"
   ]
  },
  {
   "cell_type": "code",
   "execution_count": 66,
   "metadata": {},
   "outputs": [
    {
     "name": "stdout",
     "output_type": "stream",
     "text": [
      "Question:\n",
      "<s> I'm having trouble sleeping and it's ruining a lot of my days</s><pad><pad><pad><pad><pad><pad><pad><pad><pad><pad><pad><pad><pad><pad><pad><pad><pad><pad><pad><pad><pad><pad><pad><pad><pad><pad><pad><pad><pad><pad><pad><pad><pad><pad><pad><pad><pad><pad><pad><pad><pad><pad><pad><pad><pad><pad><pad><pad><pad><pad><pad><pad><pad><pad><pad><pad><pad><pad><pad><pad><pad><pad><pad><pad><pad><pad><pad><pad><pad><pad><pad><pad><pad><pad><pad><pad><pad><pad><pad><pad><pad><pad><pad><pad><pad><pad><pad><pad><pad><pad><pad><pad><pad><pad><pad><pad><pad><pad><pad><pad><pad><pad><pad><pad><pad><pad><pad><pad><pad><pad><pad><pad><pad><pad><pad><pad><pad><pad><pad><pad><pad><pad><pad><pad><pad><pad><pad><pad><pad><pad><pad><pad><pad><pad><pad><pad><pad><pad><pad><pad><pad><pad><pad><pad><pad><pad><pad><pad><pad><pad><pad><pad><pad><pad><pad><pad><pad><pad><pad><pad><pad><pad><pad><pad><pad><pad><pad><pad><pad><pad><pad><pad><pad><pad><pad><pad><pad><pad><pad><pad><pad><pad><pad><pad><pad><pad><pad><pad><pad><pad><pad><pad><pad><pad><pad><pad><pad><pad><pad><pad><pad><pad><pad><pad><pad><pad><pad><pad><pad><pad><pad><pad><pad><pad><pad><pad><pad><pad><pad><pad><pad><pad><pad><pad><pad><pad><pad><pad><pad><pad><pad><pad><pad><pad><pad><pad><pad><pad><pad><pad><pad><pad><pad><pad><pad><pad><pad><pad><pad><pad><pad><pad><pad><pad><pad><pad><pad><pad><pad><pad><pad><pad><pad><pad><pad><pad><pad><pad><pad><pad><pad><pad><pad><pad><pad><pad><pad><pad><pad><pad><pad><pad><pad><pad><pad><pad><pad><pad><pad><pad><pad><pad><pad><pad><pad><pad><pad><pad><pad><pad><pad><pad><pad><pad><pad><pad><pad><pad><pad><pad><pad><pad><pad><pad><pad><pad><pad><pad><pad><pad><pad><pad><pad><pad><pad><pad><pad><pad><pad><pad><pad><pad><pad><pad><pad><pad><pad><pad><pad><pad><pad><pad><pad><pad><pad><pad><pad><pad><pad><pad><pad><pad><pad><pad><pad><pad><pad><pad><pad><pad><pad><pad><pad><pad><pad><pad><pad><pad><pad><pad><pad><pad><pad><pad><pad><pad><pad><pad><pad><pad><pad><pad><pad><pad><pad><pad><pad><pad><pad><pad><pad><pad><pad><pad><pad><pad><pad><pad><pad><pad><pad><pad><pad><pad><pad><pad><pad><pad><pad><pad><pad><pad><pad><pad><pad><pad><pad><pad><pad><pad><pad><pad><pad><pad><pad><pad><pad><pad><pad><pad><pad><pad><pad><pad><pad><pad><pad><pad><pad><pad><pad><pad><pad><pad><pad><pad><pad><pad><pad><pad><pad><pad><pad><pad><pad><pad><pad><pad><pad><pad><pad><pad><pad><pad><pad><pad><pad><pad><pad><pad><pad><pad><pad><pad><pad><pad><pad><pad><pad><pad><pad><pad><pad><pad><pad><pad><pad><pad><pad><pad><pad><pad><pad><pad><pad><pad>\n",
      "\n",
      "Machine Generated Reflection:\n",
      " I'm glad you're asking this question</s> \n"
     ]
    }
   ],
   "source": [
    "prompt = \"\"\"I'm having trouble sleeping and it's ruining a lot of my days\"\"\"\n",
    "observe_reflection(model, tokenizer, string=prompt)"
   ]
  },
  {
   "cell_type": "code",
   "execution_count": 67,
   "metadata": {},
   "outputs": [
    {
     "name": "stdout",
     "output_type": "stream",
     "text": [
      "Question:\n",
      "<s> I'm depressed because I'm a terrible video game player and my friend Adam is sooo much better</s><pad><pad><pad><pad><pad><pad><pad><pad><pad><pad><pad><pad><pad><pad><pad><pad><pad><pad><pad><pad><pad><pad><pad><pad><pad><pad><pad><pad><pad><pad><pad><pad><pad><pad><pad><pad><pad><pad><pad><pad><pad><pad><pad><pad><pad><pad><pad><pad><pad><pad><pad><pad><pad><pad><pad><pad><pad><pad><pad><pad><pad><pad><pad><pad><pad><pad><pad><pad><pad><pad><pad><pad><pad><pad><pad><pad><pad><pad><pad><pad><pad><pad><pad><pad><pad><pad><pad><pad><pad><pad><pad><pad><pad><pad><pad><pad><pad><pad><pad><pad><pad><pad><pad><pad><pad><pad><pad><pad><pad><pad><pad><pad><pad><pad><pad><pad><pad><pad><pad><pad><pad><pad><pad><pad><pad><pad><pad><pad><pad><pad><pad><pad><pad><pad><pad><pad><pad><pad><pad><pad><pad><pad><pad><pad><pad><pad><pad><pad><pad><pad><pad><pad><pad><pad><pad><pad><pad><pad><pad><pad><pad><pad><pad><pad><pad><pad><pad><pad><pad><pad><pad><pad><pad><pad><pad><pad><pad><pad><pad><pad><pad><pad><pad><pad><pad><pad><pad><pad><pad><pad><pad><pad><pad><pad><pad><pad><pad><pad><pad><pad><pad><pad><pad><pad><pad><pad><pad><pad><pad><pad><pad><pad><pad><pad><pad><pad><pad><pad><pad><pad><pad><pad><pad><pad><pad><pad><pad><pad><pad><pad><pad><pad><pad><pad><pad><pad><pad><pad><pad><pad><pad><pad><pad><pad><pad><pad><pad><pad><pad><pad><pad><pad><pad><pad><pad><pad><pad><pad><pad><pad><pad><pad><pad><pad><pad><pad><pad><pad><pad><pad><pad><pad><pad><pad><pad><pad><pad><pad><pad><pad><pad><pad><pad><pad><pad><pad><pad><pad><pad><pad><pad><pad><pad><pad><pad><pad><pad><pad><pad><pad><pad><pad><pad><pad><pad><pad><pad><pad><pad><pad><pad><pad><pad><pad><pad><pad><pad><pad><pad><pad><pad><pad><pad><pad><pad><pad><pad><pad><pad><pad><pad><pad><pad><pad><pad><pad><pad><pad><pad><pad><pad><pad><pad><pad><pad><pad><pad><pad><pad><pad><pad><pad><pad><pad><pad><pad><pad><pad><pad><pad><pad><pad><pad><pad><pad><pad><pad><pad><pad><pad><pad><pad><pad><pad><pad><pad><pad><pad><pad><pad><pad><pad><pad><pad><pad><pad><pad><pad><pad><pad><pad><pad><pad><pad><pad><pad><pad><pad><pad><pad><pad><pad><pad><pad><pad><pad><pad><pad><pad><pad><pad><pad><pad><pad><pad><pad><pad><pad><pad><pad><pad><pad><pad><pad><pad><pad><pad><pad><pad><pad><pad><pad><pad><pad><pad><pad><pad><pad><pad><pad><pad><pad><pad><pad><pad><pad><pad><pad><pad><pad><pad><pad><pad><pad><pad><pad><pad><pad><pad><pad><pad><pad><pad><pad><pad><pad><pad><pad><pad><pad><pad><pad><pad><pad><pad><pad><pad><pad><pad><pad><pad><pad><pad><pad><pad><pad><pad><pad><pad><pad>\n",
      "\n",
      "Machine Generated Reflection:\n",
      " I'm glad you're aware of your husband and\n"
     ]
    }
   ],
   "source": [
    "prompt = \"\"\"I'm depressed because I'm a terrible video game player and my friend Adam is sooo much better\"\"\"\n",
    "observe_reflection(model, tokenizer, string=prompt)"
   ]
  },
  {
   "cell_type": "code",
   "execution_count": 68,
   "metadata": {},
   "outputs": [
    {
     "name": "stdout",
     "output_type": "stream",
     "text": [
      "Question:\n",
      "<s> My girlfriend left me, but it's actually making me happy</s><pad><pad><pad><pad><pad><pad><pad><pad><pad><pad><pad><pad><pad><pad><pad><pad><pad><pad><pad><pad><pad><pad><pad><pad><pad><pad><pad><pad><pad><pad><pad><pad><pad><pad><pad><pad><pad><pad><pad><pad><pad><pad><pad><pad><pad><pad><pad><pad><pad><pad><pad><pad><pad><pad><pad><pad><pad><pad><pad><pad><pad><pad><pad><pad><pad><pad><pad><pad><pad><pad><pad><pad><pad><pad><pad><pad><pad><pad><pad><pad><pad><pad><pad><pad><pad><pad><pad><pad><pad><pad><pad><pad><pad><pad><pad><pad><pad><pad><pad><pad><pad><pad><pad><pad><pad><pad><pad><pad><pad><pad><pad><pad><pad><pad><pad><pad><pad><pad><pad><pad><pad><pad><pad><pad><pad><pad><pad><pad><pad><pad><pad><pad><pad><pad><pad><pad><pad><pad><pad><pad><pad><pad><pad><pad><pad><pad><pad><pad><pad><pad><pad><pad><pad><pad><pad><pad><pad><pad><pad><pad><pad><pad><pad><pad><pad><pad><pad><pad><pad><pad><pad><pad><pad><pad><pad><pad><pad><pad><pad><pad><pad><pad><pad><pad><pad><pad><pad><pad><pad><pad><pad><pad><pad><pad><pad><pad><pad><pad><pad><pad><pad><pad><pad><pad><pad><pad><pad><pad><pad><pad><pad><pad><pad><pad><pad><pad><pad><pad><pad><pad><pad><pad><pad><pad><pad><pad><pad><pad><pad><pad><pad><pad><pad><pad><pad><pad><pad><pad><pad><pad><pad><pad><pad><pad><pad><pad><pad><pad><pad><pad><pad><pad><pad><pad><pad><pad><pad><pad><pad><pad><pad><pad><pad><pad><pad><pad><pad><pad><pad><pad><pad><pad><pad><pad><pad><pad><pad><pad><pad><pad><pad><pad><pad><pad><pad><pad><pad><pad><pad><pad><pad><pad><pad><pad><pad><pad><pad><pad><pad><pad><pad><pad><pad><pad><pad><pad><pad><pad><pad><pad><pad><pad><pad><pad><pad><pad><pad><pad><pad><pad><pad><pad><pad><pad><pad><pad><pad><pad><pad><pad><pad><pad><pad><pad><pad><pad><pad><pad><pad><pad><pad><pad><pad><pad><pad><pad><pad><pad><pad><pad><pad><pad><pad><pad><pad><pad><pad><pad><pad><pad><pad><pad><pad><pad><pad><pad><pad><pad><pad><pad><pad><pad><pad><pad><pad><pad><pad><pad><pad><pad><pad><pad><pad><pad><pad><pad><pad><pad><pad><pad><pad><pad><pad><pad><pad><pad><pad><pad><pad><pad><pad><pad><pad><pad><pad><pad><pad><pad><pad><pad><pad><pad><pad><pad><pad><pad><pad><pad><pad><pad><pad><pad><pad><pad><pad><pad><pad><pad><pad><pad><pad><pad><pad><pad><pad><pad><pad><pad><pad><pad><pad><pad><pad><pad><pad><pad><pad><pad><pad><pad><pad><pad><pad><pad><pad><pad><pad><pad><pad><pad><pad><pad><pad><pad><pad><pad><pad><pad><pad><pad><pad><pad><pad><pad><pad><pad><pad><pad><pad><pad><pad><pad><pad><pad><pad><pad><pad><pad><pad><pad><pad><pad><pad><pad><pad><pad><pad><pad>\n",
      "\n",
      "Machine Generated Reflection:\n",
      " I'm sorry to hear that you are going through\n"
     ]
    }
   ],
   "source": [
    "prompt = \"\"\"My girlfriend left me, but it's actually making me happy\"\"\"\n",
    "observe_reflection(model, tokenizer, string=prompt)"
   ]
  },
  {
   "cell_type": "code",
   "execution_count": 69,
   "metadata": {},
   "outputs": [
    {
     "name": "stdout",
     "output_type": "stream",
     "text": [
      "Question:\n",
      "<s> I really don't like being forced to work over the weekend</s><pad><pad><pad><pad><pad><pad><pad><pad><pad><pad><pad><pad><pad><pad><pad><pad><pad><pad><pad><pad><pad><pad><pad><pad><pad><pad><pad><pad><pad><pad><pad><pad><pad><pad><pad><pad><pad><pad><pad><pad><pad><pad><pad><pad><pad><pad><pad><pad><pad><pad><pad><pad><pad><pad><pad><pad><pad><pad><pad><pad><pad><pad><pad><pad><pad><pad><pad><pad><pad><pad><pad><pad><pad><pad><pad><pad><pad><pad><pad><pad><pad><pad><pad><pad><pad><pad><pad><pad><pad><pad><pad><pad><pad><pad><pad><pad><pad><pad><pad><pad><pad><pad><pad><pad><pad><pad><pad><pad><pad><pad><pad><pad><pad><pad><pad><pad><pad><pad><pad><pad><pad><pad><pad><pad><pad><pad><pad><pad><pad><pad><pad><pad><pad><pad><pad><pad><pad><pad><pad><pad><pad><pad><pad><pad><pad><pad><pad><pad><pad><pad><pad><pad><pad><pad><pad><pad><pad><pad><pad><pad><pad><pad><pad><pad><pad><pad><pad><pad><pad><pad><pad><pad><pad><pad><pad><pad><pad><pad><pad><pad><pad><pad><pad><pad><pad><pad><pad><pad><pad><pad><pad><pad><pad><pad><pad><pad><pad><pad><pad><pad><pad><pad><pad><pad><pad><pad><pad><pad><pad><pad><pad><pad><pad><pad><pad><pad><pad><pad><pad><pad><pad><pad><pad><pad><pad><pad><pad><pad><pad><pad><pad><pad><pad><pad><pad><pad><pad><pad><pad><pad><pad><pad><pad><pad><pad><pad><pad><pad><pad><pad><pad><pad><pad><pad><pad><pad><pad><pad><pad><pad><pad><pad><pad><pad><pad><pad><pad><pad><pad><pad><pad><pad><pad><pad><pad><pad><pad><pad><pad><pad><pad><pad><pad><pad><pad><pad><pad><pad><pad><pad><pad><pad><pad><pad><pad><pad><pad><pad><pad><pad><pad><pad><pad><pad><pad><pad><pad><pad><pad><pad><pad><pad><pad><pad><pad><pad><pad><pad><pad><pad><pad><pad><pad><pad><pad><pad><pad><pad><pad><pad><pad><pad><pad><pad><pad><pad><pad><pad><pad><pad><pad><pad><pad><pad><pad><pad><pad><pad><pad><pad><pad><pad><pad><pad><pad><pad><pad><pad><pad><pad><pad><pad><pad><pad><pad><pad><pad><pad><pad><pad><pad><pad><pad><pad><pad><pad><pad><pad><pad><pad><pad><pad><pad><pad><pad><pad><pad><pad><pad><pad><pad><pad><pad><pad><pad><pad><pad><pad><pad><pad><pad><pad><pad><pad><pad><pad><pad><pad><pad><pad><pad><pad><pad><pad><pad><pad><pad><pad><pad><pad><pad><pad><pad><pad><pad><pad><pad><pad><pad><pad><pad><pad><pad><pad><pad><pad><pad><pad><pad><pad><pad><pad><pad><pad><pad><pad><pad><pad><pad><pad><pad><pad><pad><pad><pad><pad><pad><pad><pad><pad><pad><pad><pad><pad><pad><pad><pad><pad><pad><pad><pad><pad><pad><pad><pad><pad><pad><pad><pad><pad><pad><pad><pad><pad><pad><pad><pad><pad><pad><pad><pad><pad><pad><pad><pad><pad><pad><pad>\n",
      "\n",
      "Machine Generated Reflection:\n",
      " I'm sorry to hear that you are going through\n"
     ]
    }
   ],
   "source": [
    "prompt = \"\"\"I really don't like being forced to work over the weekend\"\"\"\n",
    "observe_reflection(model, tokenizer, string=prompt)"
   ]
  },
  {
   "cell_type": "code",
   "execution_count": 72,
   "metadata": {},
   "outputs": [],
   "source": [
    "torch.save(model.state_dict(), 'models/reflections.pt')"
   ]
  },
  {
   "cell_type": "code",
   "execution_count": null,
   "metadata": {},
   "outputs": [],
   "source": []
  }
 ],
 "metadata": {
  "kernelspec": {
   "display_name": "Python 3",
   "language": "python",
   "name": "python3"
  },
  "language_info": {
   "codemirror_mode": {
    "name": "ipython",
    "version": 3
   },
   "file_extension": ".py",
   "mimetype": "text/x-python",
   "name": "python",
   "nbconvert_exporter": "python",
   "pygments_lexer": "ipython3",
   "version": "3.7.3"
  }
 },
 "nbformat": 4,
 "nbformat_minor": 2
}
