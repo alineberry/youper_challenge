{
 "cells": [
  {
   "cell_type": "code",
   "execution_count": 1,
   "metadata": {},
   "outputs": [],
   "source": [
    "from youper import (get_data, ReflectionModel, generate_reflection_from_tensors, \n",
    "                    observe_reflection, generate_reflection_from_string)\n",
    "\n",
    "from transformers import RobertaModel, RobertaTokenizer\n",
    "import torch"
   ]
  },
  {
   "cell_type": "code",
   "execution_count": 2,
   "metadata": {},
   "outputs": [],
   "source": [
    "%load_ext autoreload\n",
    "%autoreload 2"
   ]
  },
  {
   "cell_type": "code",
   "execution_count": 3,
   "metadata": {},
   "outputs": [
    {
     "data": {
      "text/plain": [
       "(2271, 14)"
      ]
     },
     "execution_count": 3,
     "metadata": {},
     "output_type": "execute_result"
    }
   ],
   "source": [
    "df = get_data()\n",
    "df.shape"
   ]
  },
  {
   "cell_type": "code",
   "execution_count": 4,
   "metadata": {},
   "outputs": [
    {
     "data": {
      "text/html": [
       "<div>\n",
       "<style scoped>\n",
       "    .dataframe tbody tr th:only-of-type {\n",
       "        vertical-align: middle;\n",
       "    }\n",
       "\n",
       "    .dataframe tbody tr th {\n",
       "        vertical-align: top;\n",
       "    }\n",
       "\n",
       "    .dataframe thead th {\n",
       "        text-align: right;\n",
       "    }\n",
       "</style>\n",
       "<table border=\"1\" class=\"dataframe\">\n",
       "  <thead>\n",
       "    <tr style=\"text-align: right;\">\n",
       "      <th></th>\n",
       "      <th>questionID</th>\n",
       "      <th>questionTitle</th>\n",
       "      <th>questionText</th>\n",
       "      <th>questionLink</th>\n",
       "      <th>topic</th>\n",
       "      <th>therapistInfo</th>\n",
       "      <th>therapistURL</th>\n",
       "      <th>answerText</th>\n",
       "      <th>upvotes</th>\n",
       "      <th>views</th>\n",
       "      <th>split</th>\n",
       "      <th>first_an_sent</th>\n",
       "      <th>seems_sounds_sents</th>\n",
       "      <th>reflection</th>\n",
       "    </tr>\n",
       "  </thead>\n",
       "  <tbody>\n",
       "    <tr>\n",
       "      <th>0</th>\n",
       "      <td>0</td>\n",
       "      <td>Can I change my feeling of being worthless to ...</td>\n",
       "      <td>I'm going through some things with my feelings...</td>\n",
       "      <td>https://counselchat.com/questions/can-i-change...</td>\n",
       "      <td>depression</td>\n",
       "      <td>Sherry Katz, LCSWCouples and Family Therapist,...</td>\n",
       "      <td>https://counselchat.com/therapists/sherry-katz...</td>\n",
       "      <td>If everyone thinks you're worthless, then mayb...</td>\n",
       "      <td>1</td>\n",
       "      <td>2899</td>\n",
       "      <td>train</td>\n",
       "      <td>If everyone thinks you're worthless, then mayb...</td>\n",
       "      <td>None</td>\n",
       "      <td>If everyone thinks you're worthless, then mayb...</td>\n",
       "    </tr>\n",
       "    <tr>\n",
       "      <th>1</th>\n",
       "      <td>0</td>\n",
       "      <td>Can I change my feeling of being worthless to ...</td>\n",
       "      <td>I'm going through some things with my feelings...</td>\n",
       "      <td>https://counselchat.com/questions/can-i-change...</td>\n",
       "      <td>depression</td>\n",
       "      <td>Robin Landwehr, DBH, LPCC, NCCMental Health in...</td>\n",
       "      <td>https://counselchat.com/therapists/robin-landw...</td>\n",
       "      <td>Hello, and thank you for your question and see...</td>\n",
       "      <td>1</td>\n",
       "      <td>3514</td>\n",
       "      <td>train</td>\n",
       "      <td>Hello, and thank you for your question and see...</td>\n",
       "      <td>None</td>\n",
       "      <td>Hello, and thank you for your question and see...</td>\n",
       "    </tr>\n",
       "    <tr>\n",
       "      <th>2</th>\n",
       "      <td>0</td>\n",
       "      <td>Can I change my feeling of being worthless to ...</td>\n",
       "      <td>I'm going through some things with my feelings...</td>\n",
       "      <td>https://counselchat.com/questions/can-i-change...</td>\n",
       "      <td>depression</td>\n",
       "      <td>Lee KingI use an integrative approach to treat...</td>\n",
       "      <td>https://counselchat.com/therapists/lee-king</td>\n",
       "      <td>First thing I'd suggest is getting the sleep y...</td>\n",
       "      <td>0</td>\n",
       "      <td>5</td>\n",
       "      <td>train</td>\n",
       "      <td>First thing I'd suggest is getting the sleep y...</td>\n",
       "      <td>None</td>\n",
       "      <td>First thing I'd suggest is getting the sleep y...</td>\n",
       "    </tr>\n",
       "    <tr>\n",
       "      <th>3</th>\n",
       "      <td>0</td>\n",
       "      <td>Can I change my feeling of being worthless to ...</td>\n",
       "      <td>I'm going through some things with my feelings...</td>\n",
       "      <td>https://counselchat.com/questions/can-i-change...</td>\n",
       "      <td>depression</td>\n",
       "      <td>Shauntai Davis-YearginPersonalized, private on...</td>\n",
       "      <td>https://counselchat.com/therapists/shauntai-da...</td>\n",
       "      <td>Therapy is essential for those that are feelin...</td>\n",
       "      <td>0</td>\n",
       "      <td>31</td>\n",
       "      <td>train</td>\n",
       "      <td>Therapy is essential for those that are feelin...</td>\n",
       "      <td>None</td>\n",
       "      <td>Therapy is essential for those that are feelin...</td>\n",
       "    </tr>\n",
       "    <tr>\n",
       "      <th>4</th>\n",
       "      <td>0</td>\n",
       "      <td>Can I change my feeling of being worthless to ...</td>\n",
       "      <td>I'm going through some things with my feelings...</td>\n",
       "      <td>https://counselchat.com/questions/can-i-change...</td>\n",
       "      <td>depression</td>\n",
       "      <td>Jordan WhiteLicensed Social Worker at Oak Root...</td>\n",
       "      <td>https://counselchat.com/therapists/jordan-white</td>\n",
       "      <td>I first want to let you know that you are not ...</td>\n",
       "      <td>0</td>\n",
       "      <td>620</td>\n",
       "      <td>train</td>\n",
       "      <td>I first want to let you know that you are not ...</td>\n",
       "      <td>None</td>\n",
       "      <td>I first want to let you know that you are not ...</td>\n",
       "    </tr>\n",
       "  </tbody>\n",
       "</table>\n",
       "</div>"
      ],
      "text/plain": [
       "   questionID                                      questionTitle  \\\n",
       "0           0  Can I change my feeling of being worthless to ...   \n",
       "1           0  Can I change my feeling of being worthless to ...   \n",
       "2           0  Can I change my feeling of being worthless to ...   \n",
       "3           0  Can I change my feeling of being worthless to ...   \n",
       "4           0  Can I change my feeling of being worthless to ...   \n",
       "\n",
       "                                        questionText  \\\n",
       "0  I'm going through some things with my feelings...   \n",
       "1  I'm going through some things with my feelings...   \n",
       "2  I'm going through some things with my feelings...   \n",
       "3  I'm going through some things with my feelings...   \n",
       "4  I'm going through some things with my feelings...   \n",
       "\n",
       "                                        questionLink       topic  \\\n",
       "0  https://counselchat.com/questions/can-i-change...  depression   \n",
       "1  https://counselchat.com/questions/can-i-change...  depression   \n",
       "2  https://counselchat.com/questions/can-i-change...  depression   \n",
       "3  https://counselchat.com/questions/can-i-change...  depression   \n",
       "4  https://counselchat.com/questions/can-i-change...  depression   \n",
       "\n",
       "                                       therapistInfo  \\\n",
       "0  Sherry Katz, LCSWCouples and Family Therapist,...   \n",
       "1  Robin Landwehr, DBH, LPCC, NCCMental Health in...   \n",
       "2  Lee KingI use an integrative approach to treat...   \n",
       "3  Shauntai Davis-YearginPersonalized, private on...   \n",
       "4  Jordan WhiteLicensed Social Worker at Oak Root...   \n",
       "\n",
       "                                        therapistURL  \\\n",
       "0  https://counselchat.com/therapists/sherry-katz...   \n",
       "1  https://counselchat.com/therapists/robin-landw...   \n",
       "2        https://counselchat.com/therapists/lee-king   \n",
       "3  https://counselchat.com/therapists/shauntai-da...   \n",
       "4    https://counselchat.com/therapists/jordan-white   \n",
       "\n",
       "                                          answerText  upvotes  views  split  \\\n",
       "0  If everyone thinks you're worthless, then mayb...        1   2899  train   \n",
       "1  Hello, and thank you for your question and see...        1   3514  train   \n",
       "2  First thing I'd suggest is getting the sleep y...        0      5  train   \n",
       "3  Therapy is essential for those that are feelin...        0     31  train   \n",
       "4  I first want to let you know that you are not ...        0    620  train   \n",
       "\n",
       "                                       first_an_sent seems_sounds_sents  \\\n",
       "0  If everyone thinks you're worthless, then mayb...               None   \n",
       "1  Hello, and thank you for your question and see...               None   \n",
       "2  First thing I'd suggest is getting the sleep y...               None   \n",
       "3  Therapy is essential for those that are feelin...               None   \n",
       "4  I first want to let you know that you are not ...               None   \n",
       "\n",
       "                                          reflection  \n",
       "0  If everyone thinks you're worthless, then mayb...  \n",
       "1  Hello, and thank you for your question and see...  \n",
       "2  First thing I'd suggest is getting the sleep y...  \n",
       "3  Therapy is essential for those that are feelin...  \n",
       "4  I first want to let you know that you are not ...  "
      ]
     },
     "execution_count": 4,
     "metadata": {},
     "output_type": "execute_result"
    }
   ],
   "source": [
    "df.head()"
   ]
  },
  {
   "cell_type": "markdown",
   "metadata": {},
   "source": [
    "## Train / Valid / Test Split"
   ]
  },
  {
   "cell_type": "code",
   "execution_count": 5,
   "metadata": {},
   "outputs": [
    {
     "data": {
      "text/plain": [
       "(1963, 185, 123)"
      ]
     },
     "execution_count": 5,
     "metadata": {},
     "output_type": "execute_result"
    }
   ],
   "source": [
    "train_mask = df.split == 'train' \n",
    "valid_mask = df.split == 'val'\n",
    "test_mask = df.split == 'test'\n",
    "train_mask.sum(), valid_mask.sum(), test_mask.sum()"
   ]
  },
  {
   "cell_type": "markdown",
   "metadata": {},
   "source": [
    "## Pretrained RoBERTA encoder"
   ]
  },
  {
   "cell_type": "code",
   "execution_count": 6,
   "metadata": {},
   "outputs": [],
   "source": [
    "tokenizer = RobertaTokenizer.from_pretrained('roberta-base')\n",
    "roberta = RobertaModel.from_pretrained('roberta-base')"
   ]
  },
  {
   "cell_type": "markdown",
   "metadata": {},
   "source": [
    "## Reflection model"
   ]
  },
  {
   "cell_type": "code",
   "execution_count": 7,
   "metadata": {},
   "outputs": [],
   "source": [
    "addl_state = {\n",
    "    'df': df,\n",
    "    'train_mask': train_mask,\n",
    "    'valid_mask': valid_mask,\n",
    "    'tokenizer': tokenizer}\n",
    "\n",
    "model = ReflectionModel(\n",
    "    roberta=roberta, \n",
    "    dec_hidden_sz=512,\n",
    "    addl_state=addl_state)"
   ]
  },
  {
   "cell_type": "code",
   "execution_count": 8,
   "metadata": {},
   "outputs": [
    {
     "data": {
      "text/plain": [
       "<All keys matched successfully>"
      ]
     },
     "execution_count": 8,
     "metadata": {},
     "output_type": "execute_result"
    }
   ],
   "source": [
    "model.load_state_dict(torch.load('models/reflections.pt'))"
   ]
  },
  {
   "cell_type": "markdown",
   "metadata": {},
   "source": [
    "## GENERATE REFLECTIONS"
   ]
  },
  {
   "cell_type": "code",
   "execution_count": 9,
   "metadata": {},
   "outputs": [
    {
     "data": {
      "text/plain": [
       "(0, 2)"
      ]
     },
     "execution_count": 9,
     "metadata": {},
     "output_type": "execute_result"
    }
   ],
   "source": [
    "start_token_id = tokenizer.convert_tokens_to_ids('<s>')\n",
    "end_token_id = tokenizer.convert_tokens_to_ids('</s>')\n",
    "start_token_id, end_token_id"
   ]
  },
  {
   "cell_type": "code",
   "execution_count": 12,
   "metadata": {},
   "outputs": [
    {
     "name": "stdout",
     "output_type": "stream",
     "text": [
      "CPU times: user 2min 5s, sys: 18.1 s, total: 2min 24s\n",
      "Wall time: 2min 24s\n"
     ]
    }
   ],
   "source": [
    "%%time\n",
    "\n",
    "def gen_reflection(s):\n",
    "    pred_toks = generate_reflection_from_string(model, tokenizer, s, start_token_id, end_token_id)\n",
    "    return tokenizer.decode(pred_toks)\n",
    "\n",
    "df['gen_reflection'] = df.questionText.apply(gen_reflection)"
   ]
  },
  {
   "cell_type": "markdown",
   "metadata": {},
   "source": [
    "## Observe some generated reflections"
   ]
  },
  {
   "cell_type": "code",
   "execution_count": 13,
   "metadata": {},
   "outputs": [],
   "source": [
    "def show_example(df):\n",
    "    sample = df.sample(1)\n",
    "    print('='*70)\n",
    "\n",
    "    print('QUESTION:')\n",
    "    print(sample['questionText'].iloc[0])\n",
    "\n",
    "    print('\\nACTUAL REFLECTION:')\n",
    "    print(sample['reflection'].iloc[0])\n",
    "\n",
    "    print('\\nGENERATED REFLECTION:')\n",
    "    print(sample['gen_reflection'].iloc[0])\n",
    "    print()"
   ]
  },
  {
   "cell_type": "markdown",
   "metadata": {},
   "source": [
    "### Training set"
   ]
  },
  {
   "cell_type": "code",
   "execution_count": 27,
   "metadata": {},
   "outputs": [
    {
     "name": "stdout",
     "output_type": "stream",
     "text": [
      "======================================================================\n",
      "QUESTION:\n",
      "She's busy because her mom makes her clean all the time and go out places with her family. We don't talk much because of it. Also, we have little fights. We want to work it out but we don't know how.\n",
      "\n",
      "ACTUAL REFLECTION:\n",
      "Maybe your girlfriend feels torn in her emotions between loyalty toward her family and toward investing herself in a relationship.There are so many \"maybes\", that the best way to strengthen your relationship is to ask your girlfriend if she feels any\n",
      "\n",
      "GENERATED REFLECTION:\n",
      " I'm sorry to hear that you are feeling torn and the relationship you are feeling.\n",
      "\n",
      "======================================================================\n",
      "QUESTION:\n",
      "I have been with a guy for 4 years, he's a great guy and we also have a son together. The problem is that I'm in love with a guy that I've been talking to for about 2 years but I've never met him in person. Honestly I'm bored with the relationship I have with the first guy and he makes want to go after the second guy, I don't know how to tell him that. What should I do?\n",
      "\n",
      "ACTUAL REFLECTION:\n",
      "Hi there.\n",
      "\n",
      "GENERATED REFLECTION:\n",
      " I am so sorry to hear about your situation.\n",
      "\n",
      "======================================================================\n",
      "QUESTION:\n",
      "Sometime when small thing happen, like losing a comb, I get furious. I even start throwing things. Do I have a problem?\n",
      "\n",
      "ACTUAL REFLECTION:\n",
      "I don't like the word \"problem\".\n",
      "\n",
      "GENERATED REFLECTION:\n",
      " I'm sorry to hear that you are struggling to have a lot of issues that you are struggling.\n",
      "\n",
      "======================================================================\n",
      "QUESTION:\n",
      "I feel like I have to be promiscuous in order to keep people around? It started after I got raped by my ex-boyfriend.\n",
      "\n",
      "ACTUAL REFLECTION:\n",
      "I recommend that you seek professional services to address the trauma you experienced.\n",
      "\n",
      "GENERATED REFLECTION:\n",
      " I'm sorry to hear that you are struggling with.\n",
      "\n",
      "======================================================================\n",
      "QUESTION:\n",
      "Sometimes I can't stop thinking about life after death. I was raised in a religion that teaches that we will live on forever either in hell or in heaven.  When I think of living forever (even if it is in heaven which should be good), I feel overwhelmed. I don't like the thought of living forever and ever and ever. Sometimes I just can't get the thought out of my mind and the thoughts lead to panic and anxiety.  Am I crazy? I don't think these thoughts are normal.\n",
      "\n",
      "ACTUAL REFLECTION:\n",
      "Many people generate intense anxiety with obsessive thinking.\n",
      "\n",
      "GENERATED REFLECTION:\n",
      " It sounds like you are experiencing a lot of anxiety and anxiety.\n",
      "\n"
     ]
    }
   ],
   "source": [
    "for _ in range(5): show_example(df[train_mask])"
   ]
  },
  {
   "cell_type": "markdown",
   "metadata": {},
   "source": [
    "### Validation set"
   ]
  },
  {
   "cell_type": "code",
   "execution_count": 26,
   "metadata": {},
   "outputs": [
    {
     "name": "stdout",
     "output_type": "stream",
     "text": [
      "======================================================================\n",
      "QUESTION:\n",
      "I’m a teenager. My entire family needs family therapy, and more than likely individual therapy. My parents refuse to take action, and I'm tired of it. Is there any way I can get out of this myself?\n",
      "\n",
      "ACTUAL REFLECTION:\n",
      "This sounds like a really tough situation.\n",
      "\n",
      "GENERATED REFLECTION:\n",
      " I'm sorry to hear that you are feeling pretty depressed.\n",
      "\n",
      "======================================================================\n",
      "QUESTION:\n",
      "I’m trying to make marriage work after a split. Before our split, he lied a lot and broke every promise to me. I don't think he cheated. Last month, I asked what women work with him, so he told me. Yesterday, I found out about a girl that he said he forgot about. Should I be upset?\n",
      "\n",
      "ACTUAL REFLECTION:\n",
      "Are you upset, is the more pertinent question.Everyone has their own tolerance for lies and their unique reasons for being married.\n",
      "\n",
      "GENERATED REFLECTION:\n",
      " I'm sorry to hear about your relationship about your relationship with your relationship with you.\n",
      "\n",
      "======================================================================\n",
      "QUESTION:\n",
      "I empathize so much, even with characters on tv or in video games, that I actually feel physical pain. This has made life difficult to say the least.\n",
      "   I believe I have an actually case of something called hyper empathy disorder. But since it's such a new disorder I can't find any information about it. Could this be what is going on with me?\n",
      "\n",
      "ACTUAL REFLECTION:\n",
      "It sounds like this would be difficult at times, particularly if you feel misunderstood.You may or may not know that we all have chemicals in our brain.\n",
      "\n",
      "GENERATED REFLECTION:\n",
      " I'm sorry to hear about your thoughts about your mind about your life and you are not to be a lot of the same situation that you are not.\n",
      "\n",
      "======================================================================\n",
      "QUESTION:\n",
      "My spouse visited the red light district a couple of years back in Amsterdam. After he got back from the trip he got me tested for stds. In the aftermath he has provided multiple versions of what happened, from having a total blackout to being touched by a prostitute. How do I know if he had sex?\n",
      "\n",
      "ACTUAL REFLECTION:\n",
      "Hello, The truth is that you will never know unless your husband decides to be upfront about the details to gain your trust.\n",
      "\n",
      "GENERATED REFLECTION:\n",
      " I'm sorry to hear that you are experiencing this question.\n",
      "\n",
      "======================================================================\n",
      "QUESTION:\n",
      "My fiancé and I have been together for 3 years and our relationship has always been good. The only issue we had was that he felt like he wasn't getting enough sexual attention from me.    I recently found out he cheated on me with another women. He says he wants his family back but I'm confused on what to do. Is it possible for us to get past the cheating, or should I just move on?\n",
      "\n",
      "ACTUAL REFLECTION:\n",
      "Betrayal in a relationship can be one of the most difficult things a relationship can sustain.\n",
      "\n",
      "GENERATED REFLECTION:\n",
      " I'm sorry to hear about your relationship about your boyfriend about your relationship with you.\n",
      "\n"
     ]
    }
   ],
   "source": [
    "for _ in range(5): show_example(df[valid_mask])"
   ]
  },
  {
   "cell_type": "code",
   "execution_count": 14,
   "metadata": {},
   "outputs": [
    {
     "data": {
      "text/plain": [
       "' I think that you are not a good question.'"
      ]
     },
     "execution_count": 14,
     "metadata": {},
     "output_type": "execute_result"
    }
   ],
   "source": [
    "prompt = \"A character in a book I'm reading died\"\n",
    "tokenizer.decode(generate_reflection_from_string(\n",
    "    model, tokenizer, prompt, start_token_id, end_token_id))"
   ]
  },
  {
   "cell_type": "code",
   "execution_count": 15,
   "metadata": {},
   "outputs": [
    {
     "data": {
      "text/plain": [
       "' I am so sorry to hear about your question.'"
      ]
     },
     "execution_count": 15,
     "metadata": {},
     "output_type": "execute_result"
    }
   ],
   "source": [
    "prompt = \"\"\"I am lonely. I feel there is nobody I can talk to.\n",
    "Nobody to hang-out with. I really feel I can't make any friends\"\"\"\n",
    "\n",
    "tokenizer.decode(generate_reflection_from_string(\n",
    "    model, tokenizer, prompt, start_token_id, end_token_id))"
   ]
  },
  {
   "cell_type": "code",
   "execution_count": 16,
   "metadata": {},
   "outputs": [
    {
     "data": {
      "text/plain": [
       "' I am sorry to hear that you are not alone.'"
      ]
     },
     "execution_count": 16,
     "metadata": {},
     "output_type": "execute_result"
    }
   ],
   "source": [
    "prompt = \"\"\"My mother doesn't trust me or believe me in anything I say. \n",
    "I have lost trust wth her. And i no longer respect her\"\"\"\n",
    "\n",
    "tokenizer.decode(generate_reflection_from_string(\n",
    "    model, tokenizer, prompt, start_token_id, end_token_id))"
   ]
  },
  {
   "cell_type": "code",
   "execution_count": 17,
   "metadata": {},
   "outputs": [
    {
     "data": {
      "text/plain": [
       "' I would suggest that you are a good question.'"
      ]
     },
     "execution_count": 17,
     "metadata": {},
     "output_type": "execute_result"
    }
   ],
   "source": [
    "prompt = \"\"\"Uncertainty about the future. Nothing to look forward too.\n",
    "Impasse with my house sale\"\"\"\n",
    "\n",
    "tokenizer.decode(generate_reflection_from_string(\n",
    "    model, tokenizer, prompt, start_token_id, end_token_id))"
   ]
  },
  {
   "cell_type": "code",
   "execution_count": null,
   "metadata": {},
   "outputs": [],
   "source": []
  }
 ],
 "metadata": {
  "kernelspec": {
   "display_name": "Python 3",
   "language": "python",
   "name": "python3"
  },
  "language_info": {
   "codemirror_mode": {
    "name": "ipython",
    "version": 3
   },
   "file_extension": ".py",
   "mimetype": "text/x-python",
   "name": "python",
   "nbconvert_exporter": "python",
   "pygments_lexer": "ipython3",
   "version": "3.7.3"
  }
 },
 "nbformat": 4,
 "nbformat_minor": 2
}
