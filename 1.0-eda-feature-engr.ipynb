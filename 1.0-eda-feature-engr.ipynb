{
 "cells": [
  {
   "cell_type": "markdown",
   "metadata": {},
   "source": [
    "# EDA & FEATURE ENGINEERING\n",
    "\n",
    "In this notebook the data is cleaned/prepped, explored, and reflections are mined from the therapist answers for downstream modeling."
   ]
  },
  {
   "cell_type": "markdown",
   "metadata": {},
   "source": [
    "## LOAD AND PREP DATA"
   ]
  },
  {
   "cell_type": "code",
   "execution_count": 1,
   "metadata": {},
   "outputs": [],
   "source": [
    "import pandas as pd\n",
    "import re\n",
    "import matplotlib.pyplot as plt\n",
    "from pathlib import Path\n",
    "%matplotlib inline"
   ]
  },
  {
   "cell_type": "code",
   "execution_count": 2,
   "metadata": {},
   "outputs": [],
   "source": [
    "df = pd.read_csv(Path('.') / 'data' / '20200325_counsel_chat.csv')"
   ]
  },
  {
   "cell_type": "code",
   "execution_count": 3,
   "metadata": {},
   "outputs": [
    {
     "data": {
      "text/plain": [
       "(2271, 11)"
      ]
     },
     "execution_count": 3,
     "metadata": {},
     "output_type": "execute_result"
    }
   ],
   "source": [
    "df.shape"
   ]
  },
  {
   "cell_type": "code",
   "execution_count": 4,
   "metadata": {},
   "outputs": [],
   "source": [
    "pd.set_option('max_colwidth', 200)"
   ]
  },
  {
   "cell_type": "code",
   "execution_count": 5,
   "metadata": {},
   "outputs": [
    {
     "data": {
      "text/html": [
       "<div>\n",
       "<style scoped>\n",
       "    .dataframe tbody tr th:only-of-type {\n",
       "        vertical-align: middle;\n",
       "    }\n",
       "\n",
       "    .dataframe tbody tr th {\n",
       "        vertical-align: top;\n",
       "    }\n",
       "\n",
       "    .dataframe thead th {\n",
       "        text-align: right;\n",
       "    }\n",
       "</style>\n",
       "<table border=\"1\" class=\"dataframe\">\n",
       "  <thead>\n",
       "    <tr style=\"text-align: right;\">\n",
       "      <th></th>\n",
       "      <th>questionID</th>\n",
       "      <th>questionTitle</th>\n",
       "      <th>questionText</th>\n",
       "      <th>questionLink</th>\n",
       "      <th>topic</th>\n",
       "      <th>therapistInfo</th>\n",
       "      <th>therapistURL</th>\n",
       "      <th>answerText</th>\n",
       "      <th>upvotes</th>\n",
       "      <th>views</th>\n",
       "      <th>split</th>\n",
       "    </tr>\n",
       "  </thead>\n",
       "  <tbody>\n",
       "    <tr>\n",
       "      <th>0</th>\n",
       "      <td>0</td>\n",
       "      <td>Can I change my feeling of being worthless to everyone?</td>\n",
       "      <td>I'm going through some things with my feelings and myself. I barely sleep and I do nothing but think about how I'm worthless and how I shouldn't be here.\\n   I've never tried or contemplated suici...</td>\n",
       "      <td>https://counselchat.com/questions/can-i-change-my-feeling-of-being-worthless-to-everyone</td>\n",
       "      <td>depression</td>\n",
       "      <td>Sherry Katz, LCSWCouples and Family Therapist, LCSW</td>\n",
       "      <td>https://counselchat.com/therapists/sherry-katz-lcsw</td>\n",
       "      <td>If everyone thinks you're worthless, then maybe you need to find new people to hang out with.Seriously, the social context in which a person lives is a big influence in self-esteem.Otherwise, you ...</td>\n",
       "      <td>1</td>\n",
       "      <td>2899</td>\n",
       "      <td>train</td>\n",
       "    </tr>\n",
       "    <tr>\n",
       "      <th>1</th>\n",
       "      <td>0</td>\n",
       "      <td>Can I change my feeling of being worthless to everyone?</td>\n",
       "      <td>I'm going through some things with my feelings and myself. I barely sleep and I do nothing but think about how I'm worthless and how I shouldn't be here.\\n   I've never tried or contemplated suici...</td>\n",
       "      <td>https://counselchat.com/questions/can-i-change-my-feeling-of-being-worthless-to-everyone</td>\n",
       "      <td>depression</td>\n",
       "      <td>Robin Landwehr, DBH, LPCC, NCCMental Health in a Primary Care Setting</td>\n",
       "      <td>https://counselchat.com/therapists/robin-landwehr-dbh-lpcc-ncc</td>\n",
       "      <td>Hello, and thank you for your question and seeking advice on this. Feelings of worthlessness is unfortunately common. In fact, most people, if not all, have felt this to some degree at some point ...</td>\n",
       "      <td>1</td>\n",
       "      <td>3514</td>\n",
       "      <td>train</td>\n",
       "    </tr>\n",
       "    <tr>\n",
       "      <th>2</th>\n",
       "      <td>0</td>\n",
       "      <td>Can I change my feeling of being worthless to everyone?</td>\n",
       "      <td>I'm going through some things with my feelings and myself. I barely sleep and I do nothing but think about how I'm worthless and how I shouldn't be here.\\n   I've never tried or contemplated suici...</td>\n",
       "      <td>https://counselchat.com/questions/can-i-change-my-feeling-of-being-worthless-to-everyone</td>\n",
       "      <td>depression</td>\n",
       "      <td>Lee KingI use an integrative approach to treatment and have an online therapy practice.</td>\n",
       "      <td>https://counselchat.com/therapists/lee-king</td>\n",
       "      <td>First thing I'd suggest is getting the sleep you need or it will impact how you think and feel. I'd look at finding what is going well in your life and what you can be grateful for. I believe ever...</td>\n",
       "      <td>0</td>\n",
       "      <td>5</td>\n",
       "      <td>train</td>\n",
       "    </tr>\n",
       "    <tr>\n",
       "      <th>3</th>\n",
       "      <td>0</td>\n",
       "      <td>Can I change my feeling of being worthless to everyone?</td>\n",
       "      <td>I'm going through some things with my feelings and myself. I barely sleep and I do nothing but think about how I'm worthless and how I shouldn't be here.\\n   I've never tried or contemplated suici...</td>\n",
       "      <td>https://counselchat.com/questions/can-i-change-my-feeling-of-being-worthless-to-everyone</td>\n",
       "      <td>depression</td>\n",
       "      <td>Shauntai Davis-YearginPersonalized, private online counseling for individuals and couples</td>\n",
       "      <td>https://counselchat.com/therapists/shauntai-davis-yeargin</td>\n",
       "      <td>Therapy is essential for those that are feeling depressed and worthless. When I work with those that are experiencing concerns related to feeling of depression and issues with self esteem. I gener...</td>\n",
       "      <td>0</td>\n",
       "      <td>31</td>\n",
       "      <td>train</td>\n",
       "    </tr>\n",
       "    <tr>\n",
       "      <th>4</th>\n",
       "      <td>0</td>\n",
       "      <td>Can I change my feeling of being worthless to everyone?</td>\n",
       "      <td>I'm going through some things with my feelings and myself. I barely sleep and I do nothing but think about how I'm worthless and how I shouldn't be here.\\n   I've never tried or contemplated suici...</td>\n",
       "      <td>https://counselchat.com/questions/can-i-change-my-feeling-of-being-worthless-to-everyone</td>\n",
       "      <td>depression</td>\n",
       "      <td>Jordan WhiteLicensed Social Worker at Oak Roots Dynamic</td>\n",
       "      <td>https://counselchat.com/therapists/jordan-white</td>\n",
       "      <td>I first want to let you know that you are not alone in your feelings and there is always someone there to help. You can always change your feelings and change your way of thinking by being open to...</td>\n",
       "      <td>0</td>\n",
       "      <td>620</td>\n",
       "      <td>train</td>\n",
       "    </tr>\n",
       "  </tbody>\n",
       "</table>\n",
       "</div>"
      ],
      "text/plain": [
       "   questionID                                            questionTitle  \\\n",
       "0           0  Can I change my feeling of being worthless to everyone?   \n",
       "1           0  Can I change my feeling of being worthless to everyone?   \n",
       "2           0  Can I change my feeling of being worthless to everyone?   \n",
       "3           0  Can I change my feeling of being worthless to everyone?   \n",
       "4           0  Can I change my feeling of being worthless to everyone?   \n",
       "\n",
       "                                                                                                                                                                                              questionText  \\\n",
       "0  I'm going through some things with my feelings and myself. I barely sleep and I do nothing but think about how I'm worthless and how I shouldn't be here.\\n   I've never tried or contemplated suici...   \n",
       "1  I'm going through some things with my feelings and myself. I barely sleep and I do nothing but think about how I'm worthless and how I shouldn't be here.\\n   I've never tried or contemplated suici...   \n",
       "2  I'm going through some things with my feelings and myself. I barely sleep and I do nothing but think about how I'm worthless and how I shouldn't be here.\\n   I've never tried or contemplated suici...   \n",
       "3  I'm going through some things with my feelings and myself. I barely sleep and I do nothing but think about how I'm worthless and how I shouldn't be here.\\n   I've never tried or contemplated suici...   \n",
       "4  I'm going through some things with my feelings and myself. I barely sleep and I do nothing but think about how I'm worthless and how I shouldn't be here.\\n   I've never tried or contemplated suici...   \n",
       "\n",
       "                                                                               questionLink  \\\n",
       "0  https://counselchat.com/questions/can-i-change-my-feeling-of-being-worthless-to-everyone   \n",
       "1  https://counselchat.com/questions/can-i-change-my-feeling-of-being-worthless-to-everyone   \n",
       "2  https://counselchat.com/questions/can-i-change-my-feeling-of-being-worthless-to-everyone   \n",
       "3  https://counselchat.com/questions/can-i-change-my-feeling-of-being-worthless-to-everyone   \n",
       "4  https://counselchat.com/questions/can-i-change-my-feeling-of-being-worthless-to-everyone   \n",
       "\n",
       "        topic  \\\n",
       "0  depression   \n",
       "1  depression   \n",
       "2  depression   \n",
       "3  depression   \n",
       "4  depression   \n",
       "\n",
       "                                                                               therapistInfo  \\\n",
       "0                                        Sherry Katz, LCSWCouples and Family Therapist, LCSW   \n",
       "1                      Robin Landwehr, DBH, LPCC, NCCMental Health in a Primary Care Setting   \n",
       "2    Lee KingI use an integrative approach to treatment and have an online therapy practice.   \n",
       "3  Shauntai Davis-YearginPersonalized, private online counseling for individuals and couples   \n",
       "4                                    Jordan WhiteLicensed Social Worker at Oak Roots Dynamic   \n",
       "\n",
       "                                                     therapistURL  \\\n",
       "0             https://counselchat.com/therapists/sherry-katz-lcsw   \n",
       "1  https://counselchat.com/therapists/robin-landwehr-dbh-lpcc-ncc   \n",
       "2                     https://counselchat.com/therapists/lee-king   \n",
       "3       https://counselchat.com/therapists/shauntai-davis-yeargin   \n",
       "4                 https://counselchat.com/therapists/jordan-white   \n",
       "\n",
       "                                                                                                                                                                                                answerText  \\\n",
       "0  If everyone thinks you're worthless, then maybe you need to find new people to hang out with.Seriously, the social context in which a person lives is a big influence in self-esteem.Otherwise, you ...   \n",
       "1  Hello, and thank you for your question and seeking advice on this. Feelings of worthlessness is unfortunately common. In fact, most people, if not all, have felt this to some degree at some point ...   \n",
       "2  First thing I'd suggest is getting the sleep you need or it will impact how you think and feel. I'd look at finding what is going well in your life and what you can be grateful for. I believe ever...   \n",
       "3  Therapy is essential for those that are feeling depressed and worthless. When I work with those that are experiencing concerns related to feeling of depression and issues with self esteem. I gener...   \n",
       "4  I first want to let you know that you are not alone in your feelings and there is always someone there to help. You can always change your feelings and change your way of thinking by being open to...   \n",
       "\n",
       "   upvotes  views  split  \n",
       "0        1   2899  train  \n",
       "1        1   3514  train  \n",
       "2        0      5  train  \n",
       "3        0     31  train  \n",
       "4        0    620  train  "
      ]
     },
     "execution_count": 5,
     "metadata": {},
     "output_type": "execute_result"
    }
   ],
   "source": [
    "df.head()"
   ]
  },
  {
   "cell_type": "code",
   "execution_count": 6,
   "metadata": {},
   "outputs": [
    {
     "data": {
      "text/html": [
       "<div>\n",
       "<style scoped>\n",
       "    .dataframe tbody tr th:only-of-type {\n",
       "        vertical-align: middle;\n",
       "    }\n",
       "\n",
       "    .dataframe tbody tr th {\n",
       "        vertical-align: top;\n",
       "    }\n",
       "\n",
       "    .dataframe thead th {\n",
       "        text-align: right;\n",
       "    }\n",
       "</style>\n",
       "<table border=\"1\" class=\"dataframe\">\n",
       "  <thead>\n",
       "    <tr style=\"text-align: right;\">\n",
       "      <th></th>\n",
       "      <th>questionID</th>\n",
       "      <th>questionTitle</th>\n",
       "      <th>questionText</th>\n",
       "      <th>questionLink</th>\n",
       "      <th>topic</th>\n",
       "      <th>therapistInfo</th>\n",
       "      <th>therapistURL</th>\n",
       "      <th>answerText</th>\n",
       "      <th>upvotes</th>\n",
       "      <th>views</th>\n",
       "      <th>split</th>\n",
       "    </tr>\n",
       "  </thead>\n",
       "  <tbody>\n",
       "    <tr>\n",
       "      <th>411</th>\n",
       "      <td>148</td>\n",
       "      <td>I don't want to keep going back and forth between my parents' houses</td>\n",
       "      <td>I'm 17 and I'm sick and tired of going back and forth. I'd like to stay at my mother's house. This problem has really affected me. I've had anxiety attacks and suicidal thoughts and self-harm in t...</td>\n",
       "      <td>https://counselchat.com/questions/i-don-t-want-to-keep-going-back-and-forth-between-my-parents-houses</td>\n",
       "      <td>anxiety</td>\n",
       "      <td>Kristi King-Morgan, LMSWSocial Worker, Psychotherapist</td>\n",
       "      <td>https://counselchat.com/therapists/kristi-king-morgan-lmsw</td>\n",
       "      <td>I am so sorry to hear you are going through this. Divorce can be so disruptive in a child's life.I'd really need a lot more information about your situation before I'd feel comfortable offering an...</td>\n",
       "      <td>0</td>\n",
       "      <td>212</td>\n",
       "      <td>val</td>\n",
       "    </tr>\n",
       "  </tbody>\n",
       "</table>\n",
       "</div>"
      ],
      "text/plain": [
       "     questionID  \\\n",
       "411         148   \n",
       "\n",
       "                                                            questionTitle  \\\n",
       "411  I don't want to keep going back and forth between my parents' houses   \n",
       "\n",
       "                                                                                                                                                                                                questionText  \\\n",
       "411  I'm 17 and I'm sick and tired of going back and forth. I'd like to stay at my mother's house. This problem has really affected me. I've had anxiety attacks and suicidal thoughts and self-harm in t...   \n",
       "\n",
       "                                                                                              questionLink  \\\n",
       "411  https://counselchat.com/questions/i-don-t-want-to-keep-going-back-and-forth-between-my-parents-houses   \n",
       "\n",
       "       topic                                           therapistInfo  \\\n",
       "411  anxiety  Kristi King-Morgan, LMSWSocial Worker, Psychotherapist   \n",
       "\n",
       "                                                   therapistURL  \\\n",
       "411  https://counselchat.com/therapists/kristi-king-morgan-lmsw   \n",
       "\n",
       "                                                                                                                                                                                                  answerText  \\\n",
       "411  I am so sorry to hear you are going through this. Divorce can be so disruptive in a child's life.I'd really need a lot more information about your situation before I'd feel comfortable offering an...   \n",
       "\n",
       "     upvotes  views split  \n",
       "411        0    212   val  "
      ]
     },
     "execution_count": 6,
     "metadata": {},
     "output_type": "execute_result"
    }
   ],
   "source": [
    "df.sample(1)"
   ]
  },
  {
   "cell_type": "code",
   "execution_count": 7,
   "metadata": {},
   "outputs": [],
   "source": [
    "for c in ['questionTitle', 'questionText', 'answerText']: df[c] = df[c].astype(str)"
   ]
  },
  {
   "cell_type": "markdown",
   "metadata": {},
   "source": [
    "## EXPLORATORY DATA ANALYSIS"
   ]
  },
  {
   "cell_type": "markdown",
   "metadata": {},
   "source": [
    "### question and answer lengths"
   ]
  },
  {
   "cell_type": "code",
   "execution_count": 8,
   "metadata": {},
   "outputs": [],
   "source": [
    "qu_lens = df.questionText.apply(lambda x: len(x.split()))\n",
    "an_lens = df.answerText.apply(lambda x: len(x.split()))"
   ]
  },
  {
   "cell_type": "code",
   "execution_count": 9,
   "metadata": {},
   "outputs": [
    {
     "data": {
      "image/png": "[encoded data removed]",
      "text/plain": [
       "<Figure size 864x360 with 2 Axes>"
      ]
     },
     "metadata": {
      "needs_background": "light"
     },
     "output_type": "display_data"
    }
   ],
   "source": [
    "fig, (ax1,ax2) = plt.subplots(1, 2, figsize=(12,5))\n",
    "ax1.hist(qu_lens, bins=50); ax1.set_title('Question Lengths'); ax1.grid()\n",
    "ax2.hist(an_lens, bins=50); ax2.set_title('Answer Lengths'); ax2.grid()\n",
    "plt.show()"
   ]
  },
  {
   "cell_type": "code",
   "execution_count": 10,
   "metadata": {},
   "outputs": [
    {
     "data": {
      "text/plain": [
       "(2271, 890, 827, 2127)"
      ]
     },
     "execution_count": 10,
     "metadata": {},
     "output_type": "execute_result"
    }
   ],
   "source": [
    "len(df), df.questionTitle.nunique(), df.questionText.nunique(), df.answerText.nunique()"
   ]
  },
  {
   "cell_type": "markdown",
   "metadata": {},
   "source": [
    "### data structure"
   ]
  },
  {
   "cell_type": "markdown",
   "metadata": {},
   "source": [
    "- many questions have multiple answers\n",
    "- most answers are unique, but there are some duplicates"
   ]
  },
  {
   "cell_type": "markdown",
   "metadata": {},
   "source": [
    "How many answers per question?"
   ]
  },
  {
   "cell_type": "code",
   "execution_count": 11,
   "metadata": {},
   "outputs": [
    {
     "data": {
      "image/png": "[encoded data removed]",
      "text/plain": [
       "<Figure size 432x288 with 1 Axes>"
      ]
     },
     "metadata": {
      "needs_background": "light"
     },
     "output_type": "display_data"
    }
   ],
   "source": [
    "fig, ax = plt.subplots()\n",
    "_ = ax.hist(df.groupby('questionText').size().values, bins=50)\n",
    "ax.grid()"
   ]
  },
  {
   "cell_type": "markdown",
   "metadata": {},
   "source": [
    "### observe some data"
   ]
  },
  {
   "cell_type": "markdown",
   "metadata": {},
   "source": [
    "print('hello')"
   ]
  },
  {
   "cell_type": "code",
   "execution_count": 12,
   "metadata": {},
   "outputs": [],
   "source": [
    "def print_sample():\n",
    "    sample_qid = df.sample(1)['questionID'].iloc[0]\n",
    "    qu_mask = df.questionID == sample_qid\n",
    "    df_qu = df[qu_mask]\n",
    "    print('QUESTION:')\n",
    "    print(df_qu.iloc[0]['questionText'])\n",
    "    for idx, row in df_qu.iterrows():\n",
    "        print('\\nANSWER:')\n",
    "        print(row['answerText'])"
   ]
  },
  {
   "cell_type": "code",
   "execution_count": 13,
   "metadata": {},
   "outputs": [],
   "source": [
    "# print_sample()"
   ]
  },
  {
   "cell_type": "markdown",
   "metadata": {
    "scrolled": false
   },
   "source": [
    "`print_sample()`\n",
    "\n",
    "QUESTION:\n",
    "My brother has been diagnosed with paranoid schizophrenia and has not been taking his medication. He's been using methamphetamine and alcohol and was found sleeping naked in my step mom driveway in 12 degree weather.\n",
    "   I was adopted in by his dad (who just passed) and his mother will not Get involved because she's afraid of financial responsibility.    Do I have the rights to be able to sign my brother into mentalhealth facility?\n",
    "\n",
    "ANSWER:\n",
    "I'm sorry to hear that your brother has been having such a rough time. He's lucky to have you on his side (although he may not always see it that way).As far as whether you can sign him in, that depends on a lot of different things.I would suggest that you Google the state and county that you live in as well as some phrase similar to \"crisis hotline.\" They can tell you how it works in that county. My guess is that you could sign him in as long as he met the criteria for admission at that moment, but I can't  be entirely sure. You could also ask the person on the phone about financial responsibility. I have not heard of that being a problem, but I guess it would depend on insurance.If you have trouble finding a local  hotline, consider calling the national crisis number (800-273-8255) and ask them to help you find someone local.\n",
    "\n",
    "ANSWER:\n",
    "Thanks for asking this question. I know it can be really difficult to deal with issues like this.To answer your question, you might be able to get you brother some mental health help, even if he doesn't recognize that he needs it. In most states, an individual can request a mental health evaluation of a family member if that family member poses a danger to themselves or someone else, or if they are unable to take care of their own basic needs.You can always call 911 if you are concerned about his immediate safety (for example if you find him sleeping outside in below freezing weather.  As an alternative to calling 911, you might also be able to request an evaluation from an authorized mental health provider.  The deatsils of who you would contact vary from state to state. Here's a link with some additional resources:http://www.treatmentadvocacycenter.org/someone-i-know-is-in-crisisHe's lucky to have a brother who cares for his wellbeing as much as you do.\n",
    "\n",
    "ANSWER:\n",
    "The answer depends on what State you live.Since the description you write here is that your brother may be a serious risk to himself and others, it is worth contacting a mental health hotline or one of your local area hospitals and talk to a social worker or other professional level person in their psychiatry department.  Ask the same question you posted here.   Your question is a good one and merits serious follow through.\n",
    "\n",
    "ANSWER:\n",
    "Hello, My heart goes out to you, your brother, and your family, dealing with a very painful and difficult situation. In New York, you can't institutionalize someone else directly. You can, however, call the police or EMS. If they agree that he would benefit from hospitalization (and it sounds like they would), he can be held in the hospital for up to 72 hours, whether he agrees or not. Some hospitals will not hold a person that long, in spite of what we might want. I have seen many patients in and out of hospitals countless times, and it has been my experience that it can be extremely difficult to hold a person long enough to achieve good stability and an appropriate after-care plan. Hospitals in NYC tend to take a \"patch and release\" approach more often than I would like. It's been my experience that family makes a difference. Assertive, knowledgeable, persistent family can improve the quality of your loved one's care. Hospitals are highly pressured to discharge people quickly but they can not discharge a homeless person without someplace to go. If your family is willing to accept your brother, that will be the path of least resistance for the hospital. If the family refuses, they will be forced to find another path for him. You can also pressure the hospital to refer to rehab after psychiatrically stablized (which may only take a few days) and that may give your brother more time to begin making clear-headed decisions. If your brother has a psychiatrist, that person should be actively involved. I had a patient patched-and-released three times, in spite of my advocacy and him literally begging to remain and stop his voices. We finally got a 90 day hospitalization because I strong-armed his psychiatrist into demanding that the hospital stabilize his patient.  If your brother has a history of non--compliance with oral medications, you can push the hospital for injection, which again will help your brother stay stable for longer. Best wishes to you and your family.\n",
    "\n",
    "ANSWER:\n",
    "Family members sometimes get Power of Attorney over vulnerable adults. If you had this, you could do something like that. I'm assuming that you don't, though. There are steps family members can take through the court system to get someone involuntarily committed, but it is a long process. I deal with situations like this everyday on the job. The only time an adult can be committed against their will is if they are deemed by the doctor (such as at an emergency room) to be a threat to self or others. For instance, if he had suicidal thoughts and a plan to carry out the action, or if he had homicidal thoughts against someone else and a plan to carry it out, he could be placed on a short hold, but these holds only last for a few days. This still isn't a long-term solution. An adult has the right to refuse treatment and the right to make their own choices, no matter how bad those choices are. If you have a way to get him to an ER whenever things like that happen, such as being found sleeping outside in 12 degree weather, it will help a lot. They may or may not do a short term commitment for treatment based on the situation that brings him to the ER, but it's a start. They can help set him up with appointments for psych and he can get on medications. You can help by taking him to appointments and making sure his medications get filled. However, you can't force him to take the meds, so this may be something that happens a lot. With enough of a paper trail of many ER visits and that sort of thing, you'll stand a better chance of getting a court appointed psych ward stay. Some tips about ER visits: Don't send him alone. Always go with him or have someone go with him, because you will be able to give the treatment team better insight into what's going on than he will. He may say everything's fine and he wants to leave, so they won't have any reason to keep him if that is the case. Go with him. If you do get Power of Attorney, take the paperwork with you when you go to the ER and to doctor's appointments because they aren't just going to take your word. They need to see the actual paperwork. Having it on file in their system isn't good enough because paperwork expires, etc. Take it with you at all times. You can also compile his medical records and that sort of thing to take with you so they can see a full history of what's going on.Keep in mind that if you do get Power of Attorney, this makes you his guardian and you have to take care of him. Otherwise, you can get reported for vulnerable adult abuse and neglect. In fact, your mom ignoring and not helping may already put her at risk of that because she is willingly doing nothing to help someone who clearly needs the help. She won't be financially responsible for the hospital or doctor bills, but should be held responsible for his safety. Someone should. There are group homes for people with schizophrenia. \" Being responsible\" for someone doesn't mean you have to pay their bills, it just means you are going to make sure they get the care they need. That care may be placement in a long-term care facility like a group home or a nursing home. Psych inpatient hospitals aren't long-term, so you do need to look into other long-term options. Psych inpatient stays are temporary and are to stabilize him, they're not where someone stays forever.Good luck, and keep up the good attitude! Work with his treatment team. Ask for a social worker. If they see family that is wanting to do the right thing and wanting to help, they'll help you even if it does take a while to get things sorted out. The worst thing any of you can do is NOT go to appointments and that sort of thing."
   ]
  },
  {
   "cell_type": "markdown",
   "metadata": {},
   "source": [
    "\n",
    "> It seems like since the \"winter blues\" happens to you every year it may also be impacting your quality of life and possibly relationships."
   ]
  },
  {
   "cell_type": "markdown",
   "metadata": {},
   "source": [
    "### How reliable is the `questionID` field?"
   ]
  },
  {
   "cell_type": "code",
   "execution_count": 14,
   "metadata": {},
   "outputs": [
    {
     "data": {
      "text/plain": [
       "num_questionTitles\n",
       "1    864\n",
       "2     21\n",
       "dtype: int64"
      ]
     },
     "execution_count": 14,
     "metadata": {},
     "output_type": "execute_result"
    }
   ],
   "source": [
    "df.groupby('questionID')['questionTitle'].nunique().to_frame(\n",
    "    'num_questionTitles').groupby('num_questionTitles').size()"
   ]
  },
  {
   "cell_type": "code",
   "execution_count": 15,
   "metadata": {},
   "outputs": [
    {
     "data": {
      "text/plain": [
       "num_questionTitles\n",
       "1    864\n",
       "2     21\n",
       "dtype: int64"
      ]
     },
     "execution_count": 15,
     "metadata": {},
     "output_type": "execute_result"
    }
   ],
   "source": [
    "df.groupby('questionID')['questionText'].nunique().to_frame(\n",
    "    'num_questionTitles').groupby('num_questionTitles').size()"
   ]
  },
  {
   "cell_type": "markdown",
   "metadata": {},
   "source": [
    "Most `questionID`s map to a single `questionText`/`questionTitle`. It isn't perfect, but is reliable enough for now."
   ]
  },
  {
   "cell_type": "markdown",
   "metadata": {},
   "source": [
    "# TRAIN/TEST SPLIT"
   ]
  },
  {
   "cell_type": "code",
   "execution_count": 16,
   "metadata": {},
   "outputs": [
    {
     "data": {
      "text/plain": [
       "train    1963\n",
       "val       185\n",
       "test      123\n",
       "Name: split, dtype: int64"
      ]
     },
     "execution_count": 16,
     "metadata": {},
     "output_type": "execute_result"
    }
   ],
   "source": [
    "df.split.value_counts(dropna=False)"
   ]
  },
  {
   "cell_type": "markdown",
   "metadata": {},
   "source": [
    "# REFLECTION MINING"
   ]
  },
  {
   "cell_type": "markdown",
   "metadata": {},
   "source": [
    "### first sentence"
   ]
  },
  {
   "cell_type": "code",
   "execution_count": 17,
   "metadata": {},
   "outputs": [],
   "source": [
    "sent_split_regex = re.compile(r'(?<!\\w\\.\\w.)(?<![A-Z][a-z]\\.)(?<=\\.|\\?)\\s')"
   ]
  },
  {
   "cell_type": "code",
   "execution_count": 18,
   "metadata": {},
   "outputs": [],
   "source": [
    "df['first_an_sent'] = df.answerText.apply(lambda x: sent_split_regex.split(x)[0])"
   ]
  },
  {
   "cell_type": "code",
   "execution_count": 19,
   "metadata": {
    "scrolled": true
   },
   "outputs": [
    {
     "data": {
      "text/html": [
       "<div>\n",
       "<style scoped>\n",
       "    .dataframe tbody tr th:only-of-type {\n",
       "        vertical-align: middle;\n",
       "    }\n",
       "\n",
       "    .dataframe tbody tr th {\n",
       "        vertical-align: top;\n",
       "    }\n",
       "\n",
       "    .dataframe thead th {\n",
       "        text-align: right;\n",
       "    }\n",
       "</style>\n",
       "<table border=\"1\" class=\"dataframe\">\n",
       "  <thead>\n",
       "    <tr style=\"text-align: right;\">\n",
       "      <th></th>\n",
       "      <th>answerText</th>\n",
       "      <th>first_an_sent</th>\n",
       "    </tr>\n",
       "  </thead>\n",
       "  <tbody>\n",
       "    <tr>\n",
       "      <th>1364</th>\n",
       "      <td>Do some self-reflecting as to what areas of your life you'd currently like to develop.The good news is you know how happiness feels.That you were able to create situations and dynamics which produ...</td>\n",
       "      <td>Do some self-reflecting as to what areas of your life you'd currently like to develop.The good news is you know how happiness feels.That you were able to create situations and dynamics which produ...</td>\n",
       "    </tr>\n",
       "    <tr>\n",
       "      <th>1857</th>\n",
       "      <td>Since you are saying that you know that the thoughts are yours and your thinking of them in a different person's voice to make them easier for you to follow through on, it doesn't sound like it co...</td>\n",
       "      <td>Since you are saying that you know that the thoughts are yours and your thinking of them in a different person's voice to make them easier for you to follow through on, it doesn't sound like it co...</td>\n",
       "    </tr>\n",
       "    <tr>\n",
       "      <th>536</th>\n",
       "      <td>It sounds like you are feeling pretty overwhelmed with worry about being continuously monitored, with no privacy even in your own mind, and as if people are constantly saying things about you in w...</td>\n",
       "      <td>It sounds like you are feeling pretty overwhelmed with worry about being continuously monitored, with no privacy even in your own mind, and as if people are constantly saying things about you in w...</td>\n",
       "    </tr>\n",
       "    <tr>\n",
       "      <th>254</th>\n",
       "      <td>There are an infinite number of possibilities here. You included a lot of things that you don't have. Is there anyway that you can have some freedom for a few hours a week, at least? A lot of time...</td>\n",
       "      <td>There are an infinite number of possibilities here.</td>\n",
       "    </tr>\n",
       "    <tr>\n",
       "      <th>1159</th>\n",
       "      <td>Infidelity is common. In a largest study conducted to date about 10-15% of women and 20-25% of men admitted to being unfaithful while in a monogamous relationship. You are not alone and you can ge...</td>\n",
       "      <td>Infidelity is common.</td>\n",
       "    </tr>\n",
       "    <tr>\n",
       "      <th>2135</th>\n",
       "      <td>There are never \"too many issues\" to be addressed in therapy.  Most people come in with multiple issues they want to address.  The wonderful thing about therapy, is that often, as one or more sign...</td>\n",
       "      <td>There are never \"too many issues\" to be addressed in therapy.</td>\n",
       "    </tr>\n",
       "    <tr>\n",
       "      <th>478</th>\n",
       "      <td>Feelings of anxiety can be scary and sometimes we're not aware of the triggers that lead up to moments of anxiety, i. e., heart racing, sweaty palms, sweating, shortness of breath. It's important ...</td>\n",
       "      <td>Feelings of anxiety can be scary and sometimes we're not aware of the triggers that lead up to moments of anxiety, i.</td>\n",
       "    </tr>\n",
       "    <tr>\n",
       "      <th>964</th>\n",
       "      <td>You are right that his insecurities are at the root of the issue.  You cannot change that for him.  He will have to do the work to handle those emotions on his own.  What you can do is reassure hi...</td>\n",
       "      <td>You are right that his insecurities are at the root of the issue.</td>\n",
       "    </tr>\n",
       "    <tr>\n",
       "      <th>1158</th>\n",
       "      <td>The behaviors you describe are boundary violations.  You can not change your spouse, but you can respond to his behaviors in ways that protect your boundaries and ensure your safety.  This is very...</td>\n",
       "      <td>The behaviors you describe are boundary violations.</td>\n",
       "    </tr>\n",
       "    <tr>\n",
       "      <th>1969</th>\n",
       "      <td>It sounds like you would like to let other people get close to you and at the same time you are finding yourself compelled to keep people at a distance. Often times, when we have difficulty trusti...</td>\n",
       "      <td>It sounds like you would like to let other people get close to you and at the same time you are finding yourself compelled to keep people at a distance.</td>\n",
       "    </tr>\n",
       "  </tbody>\n",
       "</table>\n",
       "</div>"
      ],
      "text/plain": [
       "                                                                                                                                                                                                   answerText  \\\n",
       "1364  Do some self-reflecting as to what areas of your life you'd currently like to develop.The good news is you know how happiness feels.That you were able to create situations and dynamics which produ...   \n",
       "1857  Since you are saying that you know that the thoughts are yours and your thinking of them in a different person's voice to make them easier for you to follow through on, it doesn't sound like it co...   \n",
       "536   It sounds like you are feeling pretty overwhelmed with worry about being continuously monitored, with no privacy even in your own mind, and as if people are constantly saying things about you in w...   \n",
       "254   There are an infinite number of possibilities here. You included a lot of things that you don't have. Is there anyway that you can have some freedom for a few hours a week, at least? A lot of time...   \n",
       "1159  Infidelity is common. In a largest study conducted to date about 10-15% of women and 20-25% of men admitted to being unfaithful while in a monogamous relationship. You are not alone and you can ge...   \n",
       "2135  There are never \"too many issues\" to be addressed in therapy.  Most people come in with multiple issues they want to address.  The wonderful thing about therapy, is that often, as one or more sign...   \n",
       "478   Feelings of anxiety can be scary and sometimes we're not aware of the triggers that lead up to moments of anxiety, i. e., heart racing, sweaty palms, sweating, shortness of breath. It's important ...   \n",
       "964   You are right that his insecurities are at the root of the issue.  You cannot change that for him.  He will have to do the work to handle those emotions on his own.  What you can do is reassure hi...   \n",
       "1158  The behaviors you describe are boundary violations.  You can not change your spouse, but you can respond to his behaviors in ways that protect your boundaries and ensure your safety.  This is very...   \n",
       "1969  It sounds like you would like to let other people get close to you and at the same time you are finding yourself compelled to keep people at a distance. Often times, when we have difficulty trusti...   \n",
       "\n",
       "                                                                                                                                                                                                first_an_sent  \n",
       "1364  Do some self-reflecting as to what areas of your life you'd currently like to develop.The good news is you know how happiness feels.That you were able to create situations and dynamics which produ...  \n",
       "1857  Since you are saying that you know that the thoughts are yours and your thinking of them in a different person's voice to make them easier for you to follow through on, it doesn't sound like it co...  \n",
       "536   It sounds like you are feeling pretty overwhelmed with worry about being continuously monitored, with no privacy even in your own mind, and as if people are constantly saying things about you in w...  \n",
       "254                                                                                                                                                       There are an infinite number of possibilities here.  \n",
       "1159                                                                                                                                                                                    Infidelity is common.  \n",
       "2135                                                                                                                                            There are never \"too many issues\" to be addressed in therapy.  \n",
       "478                                                                                     Feelings of anxiety can be scary and sometimes we're not aware of the triggers that lead up to moments of anxiety, i.  \n",
       "964                                                                                                                                         You are right that his insecurities are at the root of the issue.  \n",
       "1158                                                                                                                                                      The behaviors you describe are boundary violations.  \n",
       "1969                                                 It sounds like you would like to let other people get close to you and at the same time you are finding yourself compelled to keep people at a distance.  "
      ]
     },
     "execution_count": 19,
     "metadata": {},
     "output_type": "execute_result"
    }
   ],
   "source": [
    "df[['answerText', 'first_an_sent']].sample(10)"
   ]
  },
  {
   "cell_type": "code",
   "execution_count": 20,
   "metadata": {
    "scrolled": true
   },
   "outputs": [
    {
     "data": {
      "text/html": [
       "<div>\n",
       "<style scoped>\n",
       "    .dataframe tbody tr th:only-of-type {\n",
       "        vertical-align: middle;\n",
       "    }\n",
       "\n",
       "    .dataframe tbody tr th {\n",
       "        vertical-align: top;\n",
       "    }\n",
       "\n",
       "    .dataframe thead th {\n",
       "        text-align: right;\n",
       "    }\n",
       "</style>\n",
       "<table border=\"1\" class=\"dataframe\">\n",
       "  <thead>\n",
       "    <tr style=\"text-align: right;\">\n",
       "      <th></th>\n",
       "      <th>answerText</th>\n",
       "      <th>first_an_sent</th>\n",
       "    </tr>\n",
       "  </thead>\n",
       "  <tbody>\n",
       "    <tr>\n",
       "      <th>1004</th>\n",
       "      <td>Have you tried counseling?  Having PTSD from multiple abusive sexual experiences is very overwhelming for one to handle alone.  You may need the guidance, experience and support of a professional ...</td>\n",
       "      <td>Have you tried counseling?</td>\n",
       "    </tr>\n",
       "    <tr>\n",
       "      <th>1906</th>\n",
       "      <td>Hello. The end of the counselor/client relationship is one of mutual respect and engagement. Counseling sessions can end for any number of reasons. Among them are the client's inability to make fo...</td>\n",
       "      <td>Hello.</td>\n",
       "    </tr>\n",
       "    <tr>\n",
       "      <th>1720</th>\n",
       "      <td>Love is not enough to keep a relationship together.The people need to get along happily too.Let's start with knowing more about your happiness in being with your partner.The frequent break ups hap...</td>\n",
       "      <td>Love is not enough to keep a relationship together.The people need to get along happily too.Let's start with knowing more about your happiness in being with your partner.The frequent break ups hap...</td>\n",
       "    </tr>\n",
       "    <tr>\n",
       "      <th>1867</th>\n",
       "      <td>There are many possible answers here. It could be that she misses friends, that she felt safe in the other house (emotionally safe and comfortable), or dozens of other things. Will she talk about ...</td>\n",
       "      <td>There are many possible answers here.</td>\n",
       "    </tr>\n",
       "    <tr>\n",
       "      <th>589</th>\n",
       "      <td>Would you feel more secure in conversations if instead of talking soon after meeting someone or entering a social situation, you simply listened attentively to the other people?This way you'd have...</td>\n",
       "      <td>Would you feel more secure in conversations if instead of talking soon after meeting someone or entering a social situation, you simply listened attentively to the other people?This way you'd have...</td>\n",
       "    </tr>\n",
       "    <tr>\n",
       "      <th>503</th>\n",
       "      <td>This answer could be very different depending on the fear, the degree of it, and what it connects to.I wonder the following:On a scale of 1 to 10, how upset, anxious, or scared to you get when you...</td>\n",
       "      <td>This answer could be very different depending on the fear, the degree of it, and what it connects to.I wonder the following:On a scale of 1 to 10, how upset, anxious, or scared to you get when you...</td>\n",
       "    </tr>\n",
       "    <tr>\n",
       "      <th>1963</th>\n",
       "      <td>I understand the feeling of not being liked due to not having any responses on the sites you list.More than likely the non-response has less to do with liking you than w liking the way you write y...</td>\n",
       "      <td>I understand the feeling of not being liked due to not having any responses on the sites you list.More than likely the non-response has less to do with liking you than w liking the way you write y...</td>\n",
       "    </tr>\n",
       "    <tr>\n",
       "      <th>516</th>\n",
       "      <td>I am so sorry to hear that you are struggling.  It sounds like you've had a traumatic experience that has impacted your life in many ways.  Without knowing much about your history, I wonder if the...</td>\n",
       "      <td>I am so sorry to hear that you are struggling.</td>\n",
       "    </tr>\n",
       "    <tr>\n",
       "      <th>2216</th>\n",
       "      <td>Yes, feeling nervous for the first few or several sessions of therapy, is completely normal.Therapy is an unusual way to have a conversation with someone.   The person is an expert in recognizing ...</td>\n",
       "      <td>Yes, feeling nervous for the first few or several sessions of therapy, is completely normal.Therapy is an unusual way to have a conversation with someone.</td>\n",
       "    </tr>\n",
       "    <tr>\n",
       "      <th>71</th>\n",
       "      <td>It could be really helpful to see a counselor/therapist about your increasing depression/panic symptoms. Finding out the cause of depression/anxiety isn't always as straightforward as it seems, si...</td>\n",
       "      <td>It could be really helpful to see a counselor/therapist about your increasing depression/panic symptoms.</td>\n",
       "    </tr>\n",
       "  </tbody>\n",
       "</table>\n",
       "</div>"
      ],
      "text/plain": [
       "                                                                                                                                                                                                   answerText  \\\n",
       "1004  Have you tried counseling?  Having PTSD from multiple abusive sexual experiences is very overwhelming for one to handle alone.  You may need the guidance, experience and support of a professional ...   \n",
       "1906  Hello. The end of the counselor/client relationship is one of mutual respect and engagement. Counseling sessions can end for any number of reasons. Among them are the client's inability to make fo...   \n",
       "1720  Love is not enough to keep a relationship together.The people need to get along happily too.Let's start with knowing more about your happiness in being with your partner.The frequent break ups hap...   \n",
       "1867  There are many possible answers here. It could be that she misses friends, that she felt safe in the other house (emotionally safe and comfortable), or dozens of other things. Will she talk about ...   \n",
       "589   Would you feel more secure in conversations if instead of talking soon after meeting someone or entering a social situation, you simply listened attentively to the other people?This way you'd have...   \n",
       "503   This answer could be very different depending on the fear, the degree of it, and what it connects to.I wonder the following:On a scale of 1 to 10, how upset, anxious, or scared to you get when you...   \n",
       "1963  I understand the feeling of not being liked due to not having any responses on the sites you list.More than likely the non-response has less to do with liking you than w liking the way you write y...   \n",
       "516   I am so sorry to hear that you are struggling.  It sounds like you've had a traumatic experience that has impacted your life in many ways.  Without knowing much about your history, I wonder if the...   \n",
       "2216  Yes, feeling nervous for the first few or several sessions of therapy, is completely normal.Therapy is an unusual way to have a conversation with someone.   The person is an expert in recognizing ...   \n",
       "71    It could be really helpful to see a counselor/therapist about your increasing depression/panic symptoms. Finding out the cause of depression/anxiety isn't always as straightforward as it seems, si...   \n",
       "\n",
       "                                                                                                                                                                                                first_an_sent  \n",
       "1004                                                                                                                                                                               Have you tried counseling?  \n",
       "1906                                                                                                                                                                                                   Hello.  \n",
       "1720  Love is not enough to keep a relationship together.The people need to get along happily too.Let's start with knowing more about your happiness in being with your partner.The frequent break ups hap...  \n",
       "1867                                                                                                                                                                    There are many possible answers here.  \n",
       "589   Would you feel more secure in conversations if instead of talking soon after meeting someone or entering a social situation, you simply listened attentively to the other people?This way you'd have...  \n",
       "503   This answer could be very different depending on the fear, the degree of it, and what it connects to.I wonder the following:On a scale of 1 to 10, how upset, anxious, or scared to you get when you...  \n",
       "1963  I understand the feeling of not being liked due to not having any responses on the sites you list.More than likely the non-response has less to do with liking you than w liking the way you write y...  \n",
       "516                                                                                                                                                            I am so sorry to hear that you are struggling.  \n",
       "2216                                               Yes, feeling nervous for the first few or several sessions of therapy, is completely normal.Therapy is an unusual way to have a conversation with someone.  \n",
       "71                                                                                                   It could be really helpful to see a counselor/therapist about your increasing depression/panic symptoms.  "
      ]
     },
     "execution_count": 20,
     "metadata": {},
     "output_type": "execute_result"
    }
   ],
   "source": [
    "df[['answerText', 'first_an_sent']].sample(10)"
   ]
  },
  {
   "cell_type": "markdown",
   "metadata": {},
   "source": [
    "### \"seems like\" / \"sounds like\""
   ]
  },
  {
   "cell_type": "code",
   "execution_count": 21,
   "metadata": {},
   "outputs": [],
   "source": [
    "import re\n",
    "seem_sounds_regex = re.compile(r'^.{0,50}?(?:seems\\slike)|(?:sounds\\slike)')"
   ]
  },
  {
   "cell_type": "code",
   "execution_count": 22,
   "metadata": {},
   "outputs": [],
   "source": [
    "def extract_seems_sounds(s):\n",
    "    sents = sent_split_regex.split(s)\n",
    "    for sent in sents:\n",
    "        match = seem_sounds_regex.match(sent.lower())\n",
    "        if match is not None: return sent"
   ]
  },
  {
   "cell_type": "code",
   "execution_count": 23,
   "metadata": {},
   "outputs": [],
   "source": [
    "df['seems_sounds_sents'] = df.answerText.apply(extract_seems_sounds)"
   ]
  },
  {
   "cell_type": "code",
   "execution_count": 24,
   "metadata": {},
   "outputs": [
    {
     "data": {
      "text/plain": [
       "True     2232\n",
       "False      39\n",
       "Name: seems_sounds_sents, dtype: int64"
      ]
     },
     "execution_count": 24,
     "metadata": {},
     "output_type": "execute_result"
    }
   ],
   "source": [
    "df.seems_sounds_sents.isnull().value_counts()"
   ]
  },
  {
   "cell_type": "markdown",
   "metadata": {},
   "source": [
    "This method did not yield many new reflections. Only 35 out of 2k+. "
   ]
  },
  {
   "cell_type": "code",
   "execution_count": 25,
   "metadata": {},
   "outputs": [
    {
     "data": {
      "text/html": [
       "<div>\n",
       "<style scoped>\n",
       "    .dataframe tbody tr th:only-of-type {\n",
       "        vertical-align: middle;\n",
       "    }\n",
       "\n",
       "    .dataframe tbody tr th {\n",
       "        vertical-align: top;\n",
       "    }\n",
       "\n",
       "    .dataframe thead th {\n",
       "        text-align: right;\n",
       "    }\n",
       "</style>\n",
       "<table border=\"1\" class=\"dataframe\">\n",
       "  <thead>\n",
       "    <tr style=\"text-align: right;\">\n",
       "      <th></th>\n",
       "      <th>answerText</th>\n",
       "      <th>seems_sounds_sents</th>\n",
       "    </tr>\n",
       "  </thead>\n",
       "  <tbody>\n",
       "    <tr>\n",
       "      <th>1769</th>\n",
       "      <td>I am sorry to hear of these troubles. I see a few issues here. I wonder why you were both trying to get pregnant when the relationship seemed troubled? Some people think that they can fix a broken...</td>\n",
       "      <td>It seems like this is something that she needs to decide since she is the one that keeps doing the leaving.</td>\n",
       "    </tr>\n",
       "    <tr>\n",
       "      <th>1469</th>\n",
       "      <td>What you are describing is something psychologists have termed \"triangulation\" which is what happens when one family member will not talk to the one they have a problem with and goes to a third me...</td>\n",
       "      <td>They will be offended when it seems like you are choosing the other one's side or that you are not standing up for them like they think you should.</td>\n",
       "    </tr>\n",
       "    <tr>\n",
       "      <th>1439</th>\n",
       "      <td>Sounds like it is time to set some boundaries with your mom.  You can do this by letting her know that you understand how she is feeling and you understand that she is under a tremendous amount of...</td>\n",
       "      <td>Sounds like it is time to set some boundaries with your mom.</td>\n",
       "    </tr>\n",
       "    <tr>\n",
       "      <th>1491</th>\n",
       "      <td>It seems like you are going trough stages of grief, since the inability to see your father causes you similar feelings as if you had lost him.  Perhaps you could send him letters expressing your f...</td>\n",
       "      <td>It seems like you are going trough stages of grief, since the inability to see your father causes you similar feelings as if you had lost him.</td>\n",
       "    </tr>\n",
       "    <tr>\n",
       "      <th>1704</th>\n",
       "      <td>Sounds like you are dealing with a lot within your self which is causing you great pain.  I would suggest that first you get a full physical evaluation to make sure that you are ok physically.  Th...</td>\n",
       "      <td>Sounds like you are dealing with a lot within your self which is causing you great pain.</td>\n",
       "    </tr>\n",
       "    <tr>\n",
       "      <th>209</th>\n",
       "      <td>Teenage years are rough for anyone, and this is a time for self-discovery and experimentation. Having older parents can certainly pose challenges. Most kids feel like their parents don't understan...</td>\n",
       "      <td>It seems like you're looking for affirmation from them, looking for their approval and understanding.</td>\n",
       "    </tr>\n",
       "    <tr>\n",
       "      <th>113</th>\n",
       "      <td>Thank you for sharing. It seems like since the \"winter blues\" happens to you every year it may also be impacting your quality of life and possibly relationships. What you report sounds like you ma...</td>\n",
       "      <td>It seems like since the \"winter blues\" happens to you every year it may also be impacting your quality of life and possibly relationships.</td>\n",
       "    </tr>\n",
       "    <tr>\n",
       "      <th>1263</th>\n",
       "      <td>Hello, and thank you for your question. I am very sorry about this life-altering situation that both you and your boyfriend are going through. To be sure, this is a devastating and lonely road for...</td>\n",
       "      <td>By the sound of your main question, it seems like you have every intention to be there for your boyfriend during this difficult time.</td>\n",
       "    </tr>\n",
       "    <tr>\n",
       "      <th>184</th>\n",
       "      <td>Sounds like signs of someone who is depressed.Since the person in question is your friend, offer your friendship to listen to any situations or feelings she has about herself and the way her life ...</td>\n",
       "      <td>Sounds like signs of someone who is depressed.Since the person in question is your friend, offer your friendship to listen to any situations or feelings she has about herself and the way her life ...</td>\n",
       "    </tr>\n",
       "    <tr>\n",
       "      <th>582</th>\n",
       "      <td>Sounds like your panic is less about loosing the relationship you are in (which by the way doesn't sound like it's meeting YOUR need for connection) and more about being alone. Being with him is s...</td>\n",
       "      <td>Sounds like your panic is less about loosing the relationship you are in (which by the way doesn't sound like it's meeting YOUR need for connection) and more about being alone.</td>\n",
       "    </tr>\n",
       "  </tbody>\n",
       "</table>\n",
       "</div>"
      ],
      "text/plain": [
       "                                                                                                                                                                                                   answerText  \\\n",
       "1769  I am sorry to hear of these troubles. I see a few issues here. I wonder why you were both trying to get pregnant when the relationship seemed troubled? Some people think that they can fix a broken...   \n",
       "1469  What you are describing is something psychologists have termed \"triangulation\" which is what happens when one family member will not talk to the one they have a problem with and goes to a third me...   \n",
       "1439  Sounds like it is time to set some boundaries with your mom.  You can do this by letting her know that you understand how she is feeling and you understand that she is under a tremendous amount of...   \n",
       "1491  It seems like you are going trough stages of grief, since the inability to see your father causes you similar feelings as if you had lost him.  Perhaps you could send him letters expressing your f...   \n",
       "1704  Sounds like you are dealing with a lot within your self which is causing you great pain.  I would suggest that first you get a full physical evaluation to make sure that you are ok physically.  Th...   \n",
       "209   Teenage years are rough for anyone, and this is a time for self-discovery and experimentation. Having older parents can certainly pose challenges. Most kids feel like their parents don't understan...   \n",
       "113   Thank you for sharing. It seems like since the \"winter blues\" happens to you every year it may also be impacting your quality of life and possibly relationships. What you report sounds like you ma...   \n",
       "1263  Hello, and thank you for your question. I am very sorry about this life-altering situation that both you and your boyfriend are going through. To be sure, this is a devastating and lonely road for...   \n",
       "184   Sounds like signs of someone who is depressed.Since the person in question is your friend, offer your friendship to listen to any situations or feelings she has about herself and the way her life ...   \n",
       "582   Sounds like your panic is less about loosing the relationship you are in (which by the way doesn't sound like it's meeting YOUR need for connection) and more about being alone. Being with him is s...   \n",
       "\n",
       "                                                                                                                                                                                           seems_sounds_sents  \n",
       "1769                                                                                              It seems like this is something that she needs to decide since she is the one that keeps doing the leaving.  \n",
       "1469                                                      They will be offended when it seems like you are choosing the other one's side or that you are not standing up for them like they think you should.  \n",
       "1439                                                                                                                                             Sounds like it is time to set some boundaries with your mom.  \n",
       "1491                                                           It seems like you are going trough stages of grief, since the inability to see your father causes you similar feelings as if you had lost him.  \n",
       "1704                                                                                                                 Sounds like you are dealing with a lot within your self which is causing you great pain.  \n",
       "209                                                                                                     It seems like you're looking for affirmation from them, looking for their approval and understanding.  \n",
       "113                                                                It seems like since the \"winter blues\" happens to you every year it may also be impacting your quality of life and possibly relationships.  \n",
       "1263                                                                    By the sound of your main question, it seems like you have every intention to be there for your boyfriend during this difficult time.  \n",
       "184   Sounds like signs of someone who is depressed.Since the person in question is your friend, offer your friendship to listen to any situations or feelings she has about herself and the way her life ...  \n",
       "582                          Sounds like your panic is less about loosing the relationship you are in (which by the way doesn't sound like it's meeting YOUR need for connection) and more about being alone.  "
      ]
     },
     "execution_count": 25,
     "metadata": {},
     "output_type": "execute_result"
    }
   ],
   "source": [
    "seems_sounds_mask = df.seems_sounds_sents.notnull()\n",
    "df.loc[seems_sounds_mask, ['answerText', 'seems_sounds_sents']].sample(10)"
   ]
  },
  {
   "cell_type": "markdown",
   "metadata": {},
   "source": [
    "### construct a reflection for each example\n",
    "\n",
    "Assume that the \"seems like\"/\"sounds like\" sentences are higher quality reflections than the first sentences."
   ]
  },
  {
   "cell_type": "code",
   "execution_count": 26,
   "metadata": {},
   "outputs": [],
   "source": [
    "df['reflection'] = df.first_an_sent\n",
    "\n",
    "seems_sounds_mask = df.seems_sounds_sents.notnull()\n",
    "df.loc[seems_sounds_mask, 'reflection'] = df.loc[seems_sounds_mask, 'seems_sounds_sents']"
   ]
  },
  {
   "cell_type": "markdown",
   "metadata": {},
   "source": [
    "### post-process to alleviate tokenization errors\n",
    "\n",
    "The sentence splitting breaks in some cases. For example, when there isn't a whitespace separating the ending of a sentence with the beginning of the next. This results in some very long reflections."
   ]
  },
  {
   "cell_type": "code",
   "execution_count": 27,
   "metadata": {},
   "outputs": [
    {
     "data": {
      "image/png": "[encoded data removed]",
      "text/plain": [
       "<Figure size 432x288 with 1 Axes>"
      ]
     },
     "metadata": {
      "needs_background": "light"
     },
     "output_type": "display_data"
    }
   ],
   "source": [
    "re_lens = df.reflection.apply(lambda x: len(x))\n",
    "\n",
    "fig, ax = plt.subplots()\n",
    "ax.hist(re_lens, bins=50); ax.set_title('Reflection Lengths'); ax.grid()\n",
    "plt.show()"
   ]
  },
  {
   "cell_type": "code",
   "execution_count": 28,
   "metadata": {},
   "outputs": [],
   "source": [
    "df.reflection = df.reflection.apply(lambda x: x[:250])"
   ]
  },
  {
   "cell_type": "code",
   "execution_count": 29,
   "metadata": {},
   "outputs": [
    {
     "data": {
      "image/png": "[encoded data removed]",
      "text/plain": [
       "<Figure size 432x288 with 1 Axes>"
      ]
     },
     "metadata": {
      "needs_background": "light"
     },
     "output_type": "display_data"
    }
   ],
   "source": [
    "re_lens = df.reflection.apply(lambda x: len(x))\n",
    "\n",
    "fig, ax = plt.subplots()\n",
    "ax.hist(re_lens, bins=50); ax.set_title('Reflection Lengths'); ax.grid()\n",
    "plt.show()"
   ]
  },
  {
   "cell_type": "code",
   "execution_count": null,
   "metadata": {},
   "outputs": [],
   "source": []
  }
 ],
 "metadata": {
  "kernelspec": {
   "display_name": "Python 3",
   "language": "python",
   "name": "python3"
  },
  "language_info": {
   "codemirror_mode": {
    "name": "ipython",
    "version": 3
   },
   "file_extension": ".py",
   "mimetype": "text/x-python",
   "name": "python",
   "nbconvert_exporter": "python",
   "pygments_lexer": "ipython3",
   "version": "3.7.3"
  }
 },
 "nbformat": 4,
 "nbformat_minor": 2
}
