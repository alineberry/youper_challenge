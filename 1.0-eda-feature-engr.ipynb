{
 "cells": [
  {
   "cell_type": "markdown",
   "metadata": {},
   "source": [
    "# EDA & FEATURE ENGINEERING\n",
    "\n",
    "In this notebook the data is cleaned/prepped, explored, and reflections are mined from the therapist answers for downstream modeling."
   ]
  },
  {
   "cell_type": "markdown",
   "metadata": {},
   "source": [
    "## LOAD AND PREP DATA"
   ]
  },
  {
   "cell_type": "code",
   "execution_count": 1,
   "metadata": {},
   "outputs": [],
   "source": [
    "import pandas as pd\n",
    "import re\n",
    "import matplotlib.pyplot as plt\n",
    "from pathlib import Path\n",
    "%matplotlib inline"
   ]
  },
  {
   "cell_type": "code",
   "execution_count": 2,
   "metadata": {},
   "outputs": [],
   "source": [
    "df = pd.read_csv(Path('.') / 'data' / '20200325_counsel_chat.csv')"
   ]
  },
  {
   "cell_type": "code",
   "execution_count": 3,
   "metadata": {},
   "outputs": [
    {
     "data": {
      "text/plain": [
       "(2271, 11)"
      ]
     },
     "execution_count": 3,
     "metadata": {},
     "output_type": "execute_result"
    }
   ],
   "source": [
    "df.shape"
   ]
  },
  {
   "cell_type": "code",
   "execution_count": 4,
   "metadata": {},
   "outputs": [],
   "source": [
    "pd.set_option('max_colwidth', 200)"
   ]
  },
  {
   "cell_type": "code",
   "execution_count": 5,
   "metadata": {},
   "outputs": [
    {
     "data": {
      "text/html": [
       "<div>\n",
       "<style scoped>\n",
       "    .dataframe tbody tr th:only-of-type {\n",
       "        vertical-align: middle;\n",
       "    }\n",
       "\n",
       "    .dataframe tbody tr th {\n",
       "        vertical-align: top;\n",
       "    }\n",
       "\n",
       "    .dataframe thead th {\n",
       "        text-align: right;\n",
       "    }\n",
       "</style>\n",
       "<table border=\"1\" class=\"dataframe\">\n",
       "  <thead>\n",
       "    <tr style=\"text-align: right;\">\n",
       "      <th></th>\n",
       "      <th>questionID</th>\n",
       "      <th>questionTitle</th>\n",
       "      <th>questionText</th>\n",
       "      <th>questionLink</th>\n",
       "      <th>topic</th>\n",
       "      <th>therapistInfo</th>\n",
       "      <th>therapistURL</th>\n",
       "      <th>answerText</th>\n",
       "      <th>upvotes</th>\n",
       "      <th>views</th>\n",
       "      <th>split</th>\n",
       "    </tr>\n",
       "  </thead>\n",
       "  <tbody>\n",
       "    <tr>\n",
       "      <th>0</th>\n",
       "      <td>0</td>\n",
       "      <td>Can I change my feeling of being worthless to everyone?</td>\n",
       "      <td>I'm going through some things with my feelings and myself. I barely sleep and I do nothing but think about how I'm worthless and how I shouldn't be here.\\n   I've never tried or contemplated suici...</td>\n",
       "      <td>https://counselchat.com/questions/can-i-change-my-feeling-of-being-worthless-to-everyone</td>\n",
       "      <td>depression</td>\n",
       "      <td>Sherry Katz, LCSWCouples and Family Therapist, LCSW</td>\n",
       "      <td>https://counselchat.com/therapists/sherry-katz-lcsw</td>\n",
       "      <td>If everyone thinks you're worthless, then maybe you need to find new people to hang out with.Seriously, the social context in which a person lives is a big influence in self-esteem.Otherwise, you ...</td>\n",
       "      <td>1</td>\n",
       "      <td>2899</td>\n",
       "      <td>train</td>\n",
       "    </tr>\n",
       "    <tr>\n",
       "      <th>1</th>\n",
       "      <td>0</td>\n",
       "      <td>Can I change my feeling of being worthless to everyone?</td>\n",
       "      <td>I'm going through some things with my feelings and myself. I barely sleep and I do nothing but think about how I'm worthless and how I shouldn't be here.\\n   I've never tried or contemplated suici...</td>\n",
       "      <td>https://counselchat.com/questions/can-i-change-my-feeling-of-being-worthless-to-everyone</td>\n",
       "      <td>depression</td>\n",
       "      <td>Robin Landwehr, DBH, LPCC, NCCMental Health in a Primary Care Setting</td>\n",
       "      <td>https://counselchat.com/therapists/robin-landwehr-dbh-lpcc-ncc</td>\n",
       "      <td>Hello, and thank you for your question and seeking advice on this. Feelings of worthlessness is unfortunately common. In fact, most people, if not all, have felt this to some degree at some point ...</td>\n",
       "      <td>1</td>\n",
       "      <td>3514</td>\n",
       "      <td>train</td>\n",
       "    </tr>\n",
       "    <tr>\n",
       "      <th>2</th>\n",
       "      <td>0</td>\n",
       "      <td>Can I change my feeling of being worthless to everyone?</td>\n",
       "      <td>I'm going through some things with my feelings and myself. I barely sleep and I do nothing but think about how I'm worthless and how I shouldn't be here.\\n   I've never tried or contemplated suici...</td>\n",
       "      <td>https://counselchat.com/questions/can-i-change-my-feeling-of-being-worthless-to-everyone</td>\n",
       "      <td>depression</td>\n",
       "      <td>Lee KingI use an integrative approach to treatment and have an online therapy practice.</td>\n",
       "      <td>https://counselchat.com/therapists/lee-king</td>\n",
       "      <td>First thing I'd suggest is getting the sleep you need or it will impact how you think and feel. I'd look at finding what is going well in your life and what you can be grateful for. I believe ever...</td>\n",
       "      <td>0</td>\n",
       "      <td>5</td>\n",
       "      <td>train</td>\n",
       "    </tr>\n",
       "    <tr>\n",
       "      <th>3</th>\n",
       "      <td>0</td>\n",
       "      <td>Can I change my feeling of being worthless to everyone?</td>\n",
       "      <td>I'm going through some things with my feelings and myself. I barely sleep and I do nothing but think about how I'm worthless and how I shouldn't be here.\\n   I've never tried or contemplated suici...</td>\n",
       "      <td>https://counselchat.com/questions/can-i-change-my-feeling-of-being-worthless-to-everyone</td>\n",
       "      <td>depression</td>\n",
       "      <td>Shauntai Davis-YearginPersonalized, private online counseling for individuals and couples</td>\n",
       "      <td>https://counselchat.com/therapists/shauntai-davis-yeargin</td>\n",
       "      <td>Therapy is essential for those that are feeling depressed and worthless. When I work with those that are experiencing concerns related to feeling of depression and issues with self esteem. I gener...</td>\n",
       "      <td>0</td>\n",
       "      <td>31</td>\n",
       "      <td>train</td>\n",
       "    </tr>\n",
       "    <tr>\n",
       "      <th>4</th>\n",
       "      <td>0</td>\n",
       "      <td>Can I change my feeling of being worthless to everyone?</td>\n",
       "      <td>I'm going through some things with my feelings and myself. I barely sleep and I do nothing but think about how I'm worthless and how I shouldn't be here.\\n   I've never tried or contemplated suici...</td>\n",
       "      <td>https://counselchat.com/questions/can-i-change-my-feeling-of-being-worthless-to-everyone</td>\n",
       "      <td>depression</td>\n",
       "      <td>Jordan WhiteLicensed Social Worker at Oak Roots Dynamic</td>\n",
       "      <td>https://counselchat.com/therapists/jordan-white</td>\n",
       "      <td>I first want to let you know that you are not alone in your feelings and there is always someone there to help. You can always change your feelings and change your way of thinking by being open to...</td>\n",
       "      <td>0</td>\n",
       "      <td>620</td>\n",
       "      <td>train</td>\n",
       "    </tr>\n",
       "  </tbody>\n",
       "</table>\n",
       "</div>"
      ],
      "text/plain": [
       "   questionID                                            questionTitle  \\\n",
       "0           0  Can I change my feeling of being worthless to everyone?   \n",
       "1           0  Can I change my feeling of being worthless to everyone?   \n",
       "2           0  Can I change my feeling of being worthless to everyone?   \n",
       "3           0  Can I change my feeling of being worthless to everyone?   \n",
       "4           0  Can I change my feeling of being worthless to everyone?   \n",
       "\n",
       "                                                                                                                                                                                              questionText  \\\n",
       "0  I'm going through some things with my feelings and myself. I barely sleep and I do nothing but think about how I'm worthless and how I shouldn't be here.\\n   I've never tried or contemplated suici...   \n",
       "1  I'm going through some things with my feelings and myself. I barely sleep and I do nothing but think about how I'm worthless and how I shouldn't be here.\\n   I've never tried or contemplated suici...   \n",
       "2  I'm going through some things with my feelings and myself. I barely sleep and I do nothing but think about how I'm worthless and how I shouldn't be here.\\n   I've never tried or contemplated suici...   \n",
       "3  I'm going through some things with my feelings and myself. I barely sleep and I do nothing but think about how I'm worthless and how I shouldn't be here.\\n   I've never tried or contemplated suici...   \n",
       "4  I'm going through some things with my feelings and myself. I barely sleep and I do nothing but think about how I'm worthless and how I shouldn't be here.\\n   I've never tried or contemplated suici...   \n",
       "\n",
       "                                                                               questionLink  \\\n",
       "0  https://counselchat.com/questions/can-i-change-my-feeling-of-being-worthless-to-everyone   \n",
       "1  https://counselchat.com/questions/can-i-change-my-feeling-of-being-worthless-to-everyone   \n",
       "2  https://counselchat.com/questions/can-i-change-my-feeling-of-being-worthless-to-everyone   \n",
       "3  https://counselchat.com/questions/can-i-change-my-feeling-of-being-worthless-to-everyone   \n",
       "4  https://counselchat.com/questions/can-i-change-my-feeling-of-being-worthless-to-everyone   \n",
       "\n",
       "        topic  \\\n",
       "0  depression   \n",
       "1  depression   \n",
       "2  depression   \n",
       "3  depression   \n",
       "4  depression   \n",
       "\n",
       "                                                                               therapistInfo  \\\n",
       "0                                        Sherry Katz, LCSWCouples and Family Therapist, LCSW   \n",
       "1                      Robin Landwehr, DBH, LPCC, NCCMental Health in a Primary Care Setting   \n",
       "2    Lee KingI use an integrative approach to treatment and have an online therapy practice.   \n",
       "3  Shauntai Davis-YearginPersonalized, private online counseling for individuals and couples   \n",
       "4                                    Jordan WhiteLicensed Social Worker at Oak Roots Dynamic   \n",
       "\n",
       "                                                     therapistURL  \\\n",
       "0             https://counselchat.com/therapists/sherry-katz-lcsw   \n",
       "1  https://counselchat.com/therapists/robin-landwehr-dbh-lpcc-ncc   \n",
       "2                     https://counselchat.com/therapists/lee-king   \n",
       "3       https://counselchat.com/therapists/shauntai-davis-yeargin   \n",
       "4                 https://counselchat.com/therapists/jordan-white   \n",
       "\n",
       "                                                                                                                                                                                                answerText  \\\n",
       "0  If everyone thinks you're worthless, then maybe you need to find new people to hang out with.Seriously, the social context in which a person lives is a big influence in self-esteem.Otherwise, you ...   \n",
       "1  Hello, and thank you for your question and seeking advice on this. Feelings of worthlessness is unfortunately common. In fact, most people, if not all, have felt this to some degree at some point ...   \n",
       "2  First thing I'd suggest is getting the sleep you need or it will impact how you think and feel. I'd look at finding what is going well in your life and what you can be grateful for. I believe ever...   \n",
       "3  Therapy is essential for those that are feeling depressed and worthless. When I work with those that are experiencing concerns related to feeling of depression and issues with self esteem. I gener...   \n",
       "4  I first want to let you know that you are not alone in your feelings and there is always someone there to help. You can always change your feelings and change your way of thinking by being open to...   \n",
       "\n",
       "   upvotes  views  split  \n",
       "0        1   2899  train  \n",
       "1        1   3514  train  \n",
       "2        0      5  train  \n",
       "3        0     31  train  \n",
       "4        0    620  train  "
      ]
     },
     "execution_count": 5,
     "metadata": {},
     "output_type": "execute_result"
    }
   ],
   "source": [
    "df.head()"
   ]
  },
  {
   "cell_type": "code",
   "execution_count": 6,
   "metadata": {},
   "outputs": [],
   "source": [
    "for c in ['questionTitle', 'questionText', 'answerText']: df[c] = df[c].astype(str)"
   ]
  },
  {
   "cell_type": "markdown",
   "metadata": {},
   "source": [
    "## EXPLORATORY DATA ANALYSIS"
   ]
  },
  {
   "cell_type": "markdown",
   "metadata": {},
   "source": [
    "### question and answer lengths"
   ]
  },
  {
   "cell_type": "code",
   "execution_count": 7,
   "metadata": {},
   "outputs": [],
   "source": [
    "qu_lens = df.questionText.apply(lambda x: len(x.split()))\n",
    "an_lens = df.answerText.apply(lambda x: len(x.split()))"
   ]
  },
  {
   "cell_type": "code",
   "execution_count": 8,
   "metadata": {},
   "outputs": [
    {
     "data": {
      "image/png": "[encoded data removed]",
      "text/plain": [
       "<Figure size 864x360 with 2 Axes>"
      ]
     },
     "metadata": {
      "needs_background": "light"
     },
     "output_type": "display_data"
    }
   ],
   "source": [
    "fig, (ax1,ax2) = plt.subplots(1, 2, figsize=(12,5))\n",
    "ax1.hist(qu_lens, bins=50); ax1.set_title('Question Lengths (words)'); ax1.grid()\n",
    "ax2.hist(an_lens, bins=50); ax2.set_title('Answer Lengths (words)'); ax2.grid()\n",
    "plt.show()"
   ]
  },
  {
   "cell_type": "code",
   "execution_count": 9,
   "metadata": {},
   "outputs": [
    {
     "data": {
      "text/plain": [
       "(2271, 890, 827, 2127)"
      ]
     },
     "execution_count": 9,
     "metadata": {},
     "output_type": "execute_result"
    }
   ],
   "source": [
    "len(df), df.questionTitle.nunique(), df.questionText.nunique(), df.answerText.nunique()"
   ]
  },
  {
   "cell_type": "markdown",
   "metadata": {},
   "source": [
    "### data structure"
   ]
  },
  {
   "cell_type": "markdown",
   "metadata": {},
   "source": [
    "- many questions have multiple answers\n",
    "- most answers are unique, but there are some duplicates"
   ]
  },
  {
   "cell_type": "markdown",
   "metadata": {},
   "source": [
    "How many answers per question?"
   ]
  },
  {
   "cell_type": "code",
   "execution_count": 10,
   "metadata": {},
   "outputs": [
    {
     "data": {
      "image/png": "[encoded data removed]",
      "text/plain": [
       "<Figure size 432x288 with 1 Axes>"
      ]
     },
     "metadata": {
      "needs_background": "light"
     },
     "output_type": "display_data"
    }
   ],
   "source": [
    "fig, ax = plt.subplots()\n",
    "_ = ax.hist(df.groupby('questionText').size().values, bins=50)\n",
    "ax.set_title('Number of Answers per Question'); ax.grid()"
   ]
  },
  {
   "cell_type": "markdown",
   "metadata": {},
   "source": [
    "### observe some data"
   ]
  },
  {
   "cell_type": "code",
   "execution_count": 11,
   "metadata": {},
   "outputs": [],
   "source": [
    "def print_sample():\n",
    "    sample_qid = df.sample(1)['questionID'].iloc[0]\n",
    "    qu_mask = df.questionID == sample_qid\n",
    "    df_qu = df[qu_mask]\n",
    "    print('QUESTION:')\n",
    "    print(df_qu.iloc[0]['questionText'])\n",
    "    for idx, row in df_qu.iterrows():\n",
    "        print('\\nANSWER:')\n",
    "        print(row['answerText'])"
   ]
  },
  {
   "cell_type": "code",
   "execution_count": 12,
   "metadata": {},
   "outputs": [],
   "source": [
    "# print_sample()"
   ]
  },
  {
   "cell_type": "markdown",
   "metadata": {
    "scrolled": false
   },
   "source": [
    "`print_sample()`\n",
    "\n",
    "QUESTION:\n",
    "My brother has been diagnosed with paranoid schizophrenia and has not been taking his medication. He's been using methamphetamine and alcohol and was found sleeping naked in my step mom driveway in 12 degree weather.\n",
    "   I was adopted in by his dad (who just passed) and his mother will not Get involved because she's afraid of financial responsibility.    Do I have the rights to be able to sign my brother into mentalhealth facility?\n",
    "\n",
    "ANSWER:\n",
    "I'm sorry to hear that your brother has been having such a rough time. He's lucky to have you on his side (although he may not always see it that way).As far as whether you can sign him in, that depends on a lot of different things.I would suggest that you Google the state and county that you live in as well as some phrase similar to \"crisis hotline.\" They can tell you how it works in that county. My guess is that you could sign him in as long as he met the criteria for admission at that moment, but I can't  be entirely sure. You could also ask the person on the phone about financial responsibility. I have not heard of that being a problem, but I guess it would depend on insurance.If you have trouble finding a local  hotline, consider calling the national crisis number (800-273-8255) and ask them to help you find someone local.\n",
    "\n",
    "ANSWER:\n",
    "Thanks for asking this question. I know it can be really difficult to deal with issues like this.To answer your question, you might be able to get you brother some mental health help, even if he doesn't recognize that he needs it. In most states, an individual can request a mental health evaluation of a family member if that family member poses a danger to themselves or someone else, or if they are unable to take care of their own basic needs.You can always call 911 if you are concerned about his immediate safety (for example if you find him sleeping outside in below freezing weather.  As an alternative to calling 911, you might also be able to request an evaluation from an authorized mental health provider.  The deatsils of who you would contact vary from state to state. Here's a link with some additional resources:http://www.treatmentadvocacycenter.org/someone-i-know-is-in-crisisHe's lucky to have a brother who cares for his wellbeing as much as you do.\n",
    "\n",
    "ANSWER:\n",
    "The answer depends on what State you live.Since the description you write here is that your brother may be a serious risk to himself and others, it is worth contacting a mental health hotline or one of your local area hospitals and talk to a social worker or other professional level person in their psychiatry department.  Ask the same question you posted here.   Your question is a good one and merits serious follow through.\n",
    "\n",
    "ANSWER:\n",
    "Hello, My heart goes out to you, your brother, and your family, dealing with a very painful and difficult situation. In New York, you can't institutionalize someone else directly. You can, however, call the police or EMS. If they agree that he would benefit from hospitalization (and it sounds like they would), he can be held in the hospital for up to 72 hours, whether he agrees or not. Some hospitals will not hold a person that long, in spite of what we might want. I have seen many patients in and out of hospitals countless times, and it has been my experience that it can be extremely difficult to hold a person long enough to achieve good stability and an appropriate after-care plan. Hospitals in NYC tend to take a \"patch and release\" approach more often than I would like. It's been my experience that family makes a difference. Assertive, knowledgeable, persistent family can improve the quality of your loved one's care. Hospitals are highly pressured to discharge people quickly but they can not discharge a homeless person without someplace to go. If your family is willing to accept your brother, that will be the path of least resistance for the hospital. If the family refuses, they will be forced to find another path for him. You can also pressure the hospital to refer to rehab after psychiatrically stablized (which may only take a few days) and that may give your brother more time to begin making clear-headed decisions. If your brother has a psychiatrist, that person should be actively involved. I had a patient patched-and-released three times, in spite of my advocacy and him literally begging to remain and stop his voices. We finally got a 90 day hospitalization because I strong-armed his psychiatrist into demanding that the hospital stabilize his patient.  If your brother has a history of non--compliance with oral medications, you can push the hospital for injection, which again will help your brother stay stable for longer. Best wishes to you and your family.\n",
    "\n",
    "ANSWER:\n",
    "Family members sometimes get Power of Attorney over vulnerable adults. If you had this, you could do something like that. I'm assuming that you don't, though. There are steps family members can take through the court system to get someone involuntarily committed, but it is a long process. I deal with situations like this everyday on the job. The only time an adult can be committed against their will is if they are deemed by the doctor (such as at an emergency room) to be a threat to self or others. For instance, if he had suicidal thoughts and a plan to carry out the action, or if he had homicidal thoughts against someone else and a plan to carry it out, he could be placed on a short hold, but these holds only last for a few days. This still isn't a long-term solution. An adult has the right to refuse treatment and the right to make their own choices, no matter how bad those choices are. If you have a way to get him to an ER whenever things like that happen, such as being found sleeping outside in 12 degree weather, it will help a lot. They may or may not do a short term commitment for treatment based on the situation that brings him to the ER, but it's a start. They can help set him up with appointments for psych and he can get on medications. You can help by taking him to appointments and making sure his medications get filled. However, you can't force him to take the meds, so this may be something that happens a lot. With enough of a paper trail of many ER visits and that sort of thing, you'll stand a better chance of getting a court appointed psych ward stay. Some tips about ER visits: Don't send him alone. Always go with him or have someone go with him, because you will be able to give the treatment team better insight into what's going on than he will. He may say everything's fine and he wants to leave, so they won't have any reason to keep him if that is the case. Go with him. If you do get Power of Attorney, take the paperwork with you when you go to the ER and to doctor's appointments because they aren't just going to take your word. They need to see the actual paperwork. Having it on file in their system isn't good enough because paperwork expires, etc. Take it with you at all times. You can also compile his medical records and that sort of thing to take with you so they can see a full history of what's going on.Keep in mind that if you do get Power of Attorney, this makes you his guardian and you have to take care of him. Otherwise, you can get reported for vulnerable adult abuse and neglect. In fact, your mom ignoring and not helping may already put her at risk of that because she is willingly doing nothing to help someone who clearly needs the help. She won't be financially responsible for the hospital or doctor bills, but should be held responsible for his safety. Someone should. There are group homes for people with schizophrenia. \" Being responsible\" for someone doesn't mean you have to pay their bills, it just means you are going to make sure they get the care they need. That care may be placement in a long-term care facility like a group home or a nursing home. Psych inpatient hospitals aren't long-term, so you do need to look into other long-term options. Psych inpatient stays are temporary and are to stabilize him, they're not where someone stays forever.Good luck, and keep up the good attitude! Work with his treatment team. Ask for a social worker. If they see family that is wanting to do the right thing and wanting to help, they'll help you even if it does take a while to get things sorted out. The worst thing any of you can do is NOT go to appointments and that sort of thing."
   ]
  },
  {
   "cell_type": "markdown",
   "metadata": {},
   "source": [
    "\n",
    "> It seems like since the \"winter blues\" happens to you every year it may also be impacting your quality of life and possibly relationships."
   ]
  },
  {
   "cell_type": "markdown",
   "metadata": {},
   "source": [
    "### How reliable is the `questionID` field?"
   ]
  },
  {
   "cell_type": "code",
   "execution_count": 13,
   "metadata": {},
   "outputs": [
    {
     "data": {
      "text/plain": [
       "num_questionTitles\n",
       "1    864\n",
       "2     21\n",
       "dtype: int64"
      ]
     },
     "execution_count": 13,
     "metadata": {},
     "output_type": "execute_result"
    }
   ],
   "source": [
    "df.groupby('questionID')['questionTitle'].nunique().to_frame(\n",
    "    'num_questionTitles').groupby('num_questionTitles').size()"
   ]
  },
  {
   "cell_type": "code",
   "execution_count": 14,
   "metadata": {},
   "outputs": [
    {
     "data": {
      "text/plain": [
       "num_questionTitles\n",
       "1    864\n",
       "2     21\n",
       "dtype: int64"
      ]
     },
     "execution_count": 14,
     "metadata": {},
     "output_type": "execute_result"
    }
   ],
   "source": [
    "df.groupby('questionID')['questionText'].nunique().to_frame(\n",
    "    'num_questionTitles').groupby('num_questionTitles').size()"
   ]
  },
  {
   "cell_type": "markdown",
   "metadata": {},
   "source": [
    "Most `questionID`s map to a single `questionText`/`questionTitle`. It isn't perfect, but is reliable enough for now."
   ]
  },
  {
   "cell_type": "markdown",
   "metadata": {},
   "source": [
    "# TRAIN/TEST SPLIT"
   ]
  },
  {
   "cell_type": "code",
   "execution_count": 15,
   "metadata": {},
   "outputs": [
    {
     "data": {
      "text/plain": [
       "train    1963\n",
       "val       185\n",
       "test      123\n",
       "Name: split, dtype: int64"
      ]
     },
     "execution_count": 15,
     "metadata": {},
     "output_type": "execute_result"
    }
   ],
   "source": [
    "df.split.value_counts(dropna=False)"
   ]
  },
  {
   "cell_type": "markdown",
   "metadata": {},
   "source": [
    "# REFLECTION MINING"
   ]
  },
  {
   "cell_type": "markdown",
   "metadata": {},
   "source": [
    "### first sentence"
   ]
  },
  {
   "cell_type": "code",
   "execution_count": 16,
   "metadata": {},
   "outputs": [],
   "source": [
    "sent_split_regex = re.compile(r'(?<=\\.|\\?|\\!)\\s?')\n",
    "def get_first_sentence(s):\n",
    "    sentences = sent_split_regex.split(s)\n",
    "    return sentences[0].strip()\n",
    "\n",
    "df['first_an_sent'] = df.answerText.apply(get_first_sentence)"
   ]
  },
  {
   "cell_type": "code",
   "execution_count": 17,
   "metadata": {
    "scrolled": true
   },
   "outputs": [
    {
     "data": {
      "text/html": [
       "<div>\n",
       "<style scoped>\n",
       "    .dataframe tbody tr th:only-of-type {\n",
       "        vertical-align: middle;\n",
       "    }\n",
       "\n",
       "    .dataframe tbody tr th {\n",
       "        vertical-align: top;\n",
       "    }\n",
       "\n",
       "    .dataframe thead th {\n",
       "        text-align: right;\n",
       "    }\n",
       "</style>\n",
       "<table border=\"1\" class=\"dataframe\">\n",
       "  <thead>\n",
       "    <tr style=\"text-align: right;\">\n",
       "      <th></th>\n",
       "      <th>answerText</th>\n",
       "      <th>first_an_sent</th>\n",
       "    </tr>\n",
       "  </thead>\n",
       "  <tbody>\n",
       "    <tr>\n",
       "      <th>1620</th>\n",
       "      <td>This can be difficult and confusing.If you think your boyfriend would be open to having a discussion, try asking him for a time when he is willing to have an important discussion. When that time m...</td>\n",
       "      <td>This can be difficult and confusing.</td>\n",
       "    </tr>\n",
       "    <tr>\n",
       "      <th>1805</th>\n",
       "      <td>Use this time to explore who you are...imagine what your life would be like if you were gay and not, ask yourself what is different? What scenario do you find yourself gravitating to?  What is imp...</td>\n",
       "      <td>Use this time to explore who you are.</td>\n",
       "    </tr>\n",
       "    <tr>\n",
       "      <th>947</th>\n",
       "      <td>The older I get, the more I believe that our real task isn't to 'find' ourselves. We're already 100% \"there.\" What we do have to do is become more mindful of the times when we feel the most alive,...</td>\n",
       "      <td>The older I get, the more I believe that our real task isn't to 'find' ourselves.</td>\n",
       "    </tr>\n",
       "    <tr>\n",
       "      <th>240</th>\n",
       "      <td>When you are at your lowest, you have an opportunity to learn not just about the people around you and who you can depend on, but also, so much about yourself and why you have come to the place th...</td>\n",
       "      <td>When you are at your lowest, you have an opportunity to learn not just about the people around you and who you can depend on, but also, so much about yourself and why you have come to the place th...</td>\n",
       "    </tr>\n",
       "    <tr>\n",
       "      <th>279</th>\n",
       "      <td>I agree with Cory. Acceptance and Commitment Therapy (ACT) does seem to help a lot of people who struggle with anxiety. It's not the only type of therapy that can help, but it seems to help people...</td>\n",
       "      <td>I agree with Cory.</td>\n",
       "    </tr>\n",
       "    <tr>\n",
       "      <th>2197</th>\n",
       "      <td>I love this question! Some people shy away from counseling because they think since they already talk about how they feel to their relatives or friends they shouldn't need a counselor. However, if...</td>\n",
       "      <td>I love this question!</td>\n",
       "    </tr>\n",
       "    <tr>\n",
       "      <th>517</th>\n",
       "      <td>Hi Houston, Okay, something's definitely going on, right? My gut is to start with your family physician, because you have some physical symptoms. While it seems anxiety is a likely problem here, y...</td>\n",
       "      <td>Hi Houston, Okay, something's definitely going on, right?</td>\n",
       "    </tr>\n",
       "    <tr>\n",
       "      <th>1037</th>\n",
       "      <td>Check with your local non-profit agencies.  I am sure there are programs which provides services for others in the same financial position as you.  Many have sliding scale fees based on your incom...</td>\n",
       "      <td>Check with your local non-profit agencies.</td>\n",
       "    </tr>\n",
       "    <tr>\n",
       "      <th>1880</th>\n",
       "      <td>I am sorry to hear that you are going through such a tough time. It sounds to me like you are suffering from depression to some degree. Have you seen a therapist or talked to anyone about your pro...</td>\n",
       "      <td>I am sorry to hear that you are going through such a tough time.</td>\n",
       "    </tr>\n",
       "    <tr>\n",
       "      <th>2093</th>\n",
       "      <td>Yes, it is very normal to cry during a therapy appointment.  When you meet with a counselor, you are opening yourself up and sharing very vulnerable sides of yourself.  Through this deep introspec...</td>\n",
       "      <td>Yes, it is very normal to cry during a therapy appointment.</td>\n",
       "    </tr>\n",
       "  </tbody>\n",
       "</table>\n",
       "</div>"
      ],
      "text/plain": [
       "                                                                                                                                                                                                   answerText  \\\n",
       "1620  This can be difficult and confusing.If you think your boyfriend would be open to having a discussion, try asking him for a time when he is willing to have an important discussion. When that time m...   \n",
       "1805  Use this time to explore who you are...imagine what your life would be like if you were gay and not, ask yourself what is different? What scenario do you find yourself gravitating to?  What is imp...   \n",
       "947   The older I get, the more I believe that our real task isn't to 'find' ourselves. We're already 100% \"there.\" What we do have to do is become more mindful of the times when we feel the most alive,...   \n",
       "240   When you are at your lowest, you have an opportunity to learn not just about the people around you and who you can depend on, but also, so much about yourself and why you have come to the place th...   \n",
       "279   I agree with Cory. Acceptance and Commitment Therapy (ACT) does seem to help a lot of people who struggle with anxiety. It's not the only type of therapy that can help, but it seems to help people...   \n",
       "2197  I love this question! Some people shy away from counseling because they think since they already talk about how they feel to their relatives or friends they shouldn't need a counselor. However, if...   \n",
       "517   Hi Houston, Okay, something's definitely going on, right? My gut is to start with your family physician, because you have some physical symptoms. While it seems anxiety is a likely problem here, y...   \n",
       "1037  Check with your local non-profit agencies.  I am sure there are programs which provides services for others in the same financial position as you.  Many have sliding scale fees based on your incom...   \n",
       "1880  I am sorry to hear that you are going through such a tough time. It sounds to me like you are suffering from depression to some degree. Have you seen a therapist or talked to anyone about your pro...   \n",
       "2093  Yes, it is very normal to cry during a therapy appointment.  When you meet with a counselor, you are opening yourself up and sharing very vulnerable sides of yourself.  Through this deep introspec...   \n",
       "\n",
       "                                                                                                                                                                                                first_an_sent  \n",
       "1620                                                                                                                                                                     This can be difficult and confusing.  \n",
       "1805                                                                                                                                                                    Use this time to explore who you are.  \n",
       "947                                                                                                                         The older I get, the more I believe that our real task isn't to 'find' ourselves.  \n",
       "240   When you are at your lowest, you have an opportunity to learn not just about the people around you and who you can depend on, but also, so much about yourself and why you have come to the place th...  \n",
       "279                                                                                                                                                                                        I agree with Cory.  \n",
       "2197                                                                                                                                                                                    I love this question!  \n",
       "517                                                                                                                                                 Hi Houston, Okay, something's definitely going on, right?  \n",
       "1037                                                                                                                                                               Check with your local non-profit agencies.  \n",
       "1880                                                                                                                                         I am sorry to hear that you are going through such a tough time.  \n",
       "2093                                                                                                                                              Yes, it is very normal to cry during a therapy appointment.  "
      ]
     },
     "execution_count": 17,
     "metadata": {},
     "output_type": "execute_result"
    }
   ],
   "source": [
    "df[['answerText', 'first_an_sent']].sample(10)"
   ]
  },
  {
   "cell_type": "code",
   "execution_count": 18,
   "metadata": {
    "scrolled": true
   },
   "outputs": [
    {
     "data": {
      "text/html": [
       "<div>\n",
       "<style scoped>\n",
       "    .dataframe tbody tr th:only-of-type {\n",
       "        vertical-align: middle;\n",
       "    }\n",
       "\n",
       "    .dataframe tbody tr th {\n",
       "        vertical-align: top;\n",
       "    }\n",
       "\n",
       "    .dataframe thead th {\n",
       "        text-align: right;\n",
       "    }\n",
       "</style>\n",
       "<table border=\"1\" class=\"dataframe\">\n",
       "  <thead>\n",
       "    <tr style=\"text-align: right;\">\n",
       "      <th></th>\n",
       "      <th>answerText</th>\n",
       "      <th>first_an_sent</th>\n",
       "    </tr>\n",
       "  </thead>\n",
       "  <tbody>\n",
       "    <tr>\n",
       "      <th>274</th>\n",
       "      <td>One of the first steps is to manage anxiety and depression symptoms are to establish a good self-care routine.  Start with the most basic things: Eating balanced meals, sleeping at from 6-8 hours ...</td>\n",
       "      <td>One of the first steps is to manage anxiety and depression symptoms are to establish a good self-care routine.</td>\n",
       "    </tr>\n",
       "    <tr>\n",
       "      <th>1484</th>\n",
       "      <td>Hello, and thank you for your question. This is certainly a tough spot. I have a few thoughts and perhaps some colleagues will add some things. You may want to spend a few minutes calling to mind ...</td>\n",
       "      <td>Hello, and thank you for your question.</td>\n",
       "    </tr>\n",
       "    <tr>\n",
       "      <th>1738</th>\n",
       "      <td>Your partners obviously very confused when it comes to love. Sometimes people shy away from good and positive relationships and companionship because their afraid. They know that it's something wo...</td>\n",
       "      <td>Your partners obviously very confused when it comes to love.</td>\n",
       "    </tr>\n",
       "    <tr>\n",
       "      <th>24</th>\n",
       "      <td>It is never too late to get help and begin making significant changes and improvements in your life.  The right time is when you feel ready and open to change.  Sometimes when we have a history of...</td>\n",
       "      <td>It is never too late to get help and begin making significant changes and improvements in your life.</td>\n",
       "    </tr>\n",
       "    <tr>\n",
       "      <th>1142</th>\n",
       "      <td>It may be helpful to have this emotionally impactful conversation in the context of couples therapy.Whether or not you should get a divorce is not the first question that comes to mind for me, but...</td>\n",
       "      <td>It may be helpful to have this emotionally impactful conversation in the context of couples therapy.</td>\n",
       "    </tr>\n",
       "    <tr>\n",
       "      <th>1595</th>\n",
       "      <td>The most important thing to ask yourself here is, \"how did this action affect my relationship, and is it worth the consequences?\" Regardless of your intentions in this action, your boyfriend is un...</td>\n",
       "      <td>The most important thing to ask yourself here is, \"how did this action affect my relationship, and is it worth the consequences?</td>\n",
       "    </tr>\n",
       "    <tr>\n",
       "      <th>1531</th>\n",
       "      <td>For how long has the arguing been occurring and does it relate to a specific incident or circumstance in your relationship?Arguing due to temporary stress and feeling lost or uncertain, is differe...</td>\n",
       "      <td>For how long has the arguing been occurring and does it relate to a specific incident or circumstance in your relationship?</td>\n",
       "    </tr>\n",
       "    <tr>\n",
       "      <th>1516</th>\n",
       "      <td>Do you have a close friend or relative who's opinion you trust? Ask them for their honest feedback and if they see you like your cousin does. If they don’t see these qualities in you, then it may ...</td>\n",
       "      <td>Do you have a close friend or relative who's opinion you trust?</td>\n",
       "    </tr>\n",
       "    <tr>\n",
       "      <th>110</th>\n",
       "      <td>I applaud your courage in asking this question to gain some deeper insight into what is happening in your life. This is one of the most common things that I personally have seen in the population ...</td>\n",
       "      <td>I applaud your courage in asking this question to gain some deeper insight into what is happening in your life.</td>\n",
       "    </tr>\n",
       "    <tr>\n",
       "      <th>1250</th>\n",
       "      <td>Are you upset, is the more pertinent question.Everyone has their own tolerance for lies and their unique reasons for being married.  Trust your own answers to the question you ask here.Also, think...</td>\n",
       "      <td>Are you upset, is the more pertinent question.</td>\n",
       "    </tr>\n",
       "  </tbody>\n",
       "</table>\n",
       "</div>"
      ],
      "text/plain": [
       "                                                                                                                                                                                                   answerText  \\\n",
       "274   One of the first steps is to manage anxiety and depression symptoms are to establish a good self-care routine.  Start with the most basic things: Eating balanced meals, sleeping at from 6-8 hours ...   \n",
       "1484  Hello, and thank you for your question. This is certainly a tough spot. I have a few thoughts and perhaps some colleagues will add some things. You may want to spend a few minutes calling to mind ...   \n",
       "1738  Your partners obviously very confused when it comes to love. Sometimes people shy away from good and positive relationships and companionship because their afraid. They know that it's something wo...   \n",
       "24    It is never too late to get help and begin making significant changes and improvements in your life.  The right time is when you feel ready and open to change.  Sometimes when we have a history of...   \n",
       "1142  It may be helpful to have this emotionally impactful conversation in the context of couples therapy.Whether or not you should get a divorce is not the first question that comes to mind for me, but...   \n",
       "1595  The most important thing to ask yourself here is, \"how did this action affect my relationship, and is it worth the consequences?\" Regardless of your intentions in this action, your boyfriend is un...   \n",
       "1531  For how long has the arguing been occurring and does it relate to a specific incident or circumstance in your relationship?Arguing due to temporary stress and feeling lost or uncertain, is differe...   \n",
       "1516  Do you have a close friend or relative who's opinion you trust? Ask them for their honest feedback and if they see you like your cousin does. If they don’t see these qualities in you, then it may ...   \n",
       "110   I applaud your courage in asking this question to gain some deeper insight into what is happening in your life. This is one of the most common things that I personally have seen in the population ...   \n",
       "1250  Are you upset, is the more pertinent question.Everyone has their own tolerance for lies and their unique reasons for being married.  Trust your own answers to the question you ask here.Also, think...   \n",
       "\n",
       "                                                                                                                         first_an_sent  \n",
       "274                     One of the first steps is to manage anxiety and depression symptoms are to establish a good self-care routine.  \n",
       "1484                                                                                           Hello, and thank you for your question.  \n",
       "1738                                                                      Your partners obviously very confused when it comes to love.  \n",
       "24                                It is never too late to get help and begin making significant changes and improvements in your life.  \n",
       "1142                              It may be helpful to have this emotionally impactful conversation in the context of couples therapy.  \n",
       "1595  The most important thing to ask yourself here is, \"how did this action affect my relationship, and is it worth the consequences?  \n",
       "1531       For how long has the arguing been occurring and does it relate to a specific incident or circumstance in your relationship?  \n",
       "1516                                                                   Do you have a close friend or relative who's opinion you trust?  \n",
       "110                    I applaud your courage in asking this question to gain some deeper insight into what is happening in your life.  \n",
       "1250                                                                                    Are you upset, is the more pertinent question.  "
      ]
     },
     "execution_count": 18,
     "metadata": {},
     "output_type": "execute_result"
    }
   ],
   "source": [
    "df[['answerText', 'first_an_sent']].sample(10)"
   ]
  },
  {
   "cell_type": "markdown",
   "metadata": {},
   "source": [
    "### \"seems like\" / \"sounds like\""
   ]
  },
  {
   "cell_type": "code",
   "execution_count": 19,
   "metadata": {},
   "outputs": [],
   "source": [
    "import re\n",
    "seem_sounds_regex = re.compile(r'^.{0,50}?(?:seems\\slike)|(?:sounds\\slike)')"
   ]
  },
  {
   "cell_type": "code",
   "execution_count": 20,
   "metadata": {},
   "outputs": [],
   "source": [
    "def extract_seems_sounds(s):\n",
    "    sents = sent_split_regex.split(s)\n",
    "    for sent in sents:\n",
    "        match = seem_sounds_regex.match(sent.lower())\n",
    "        if match is not None: return sent.strip()"
   ]
  },
  {
   "cell_type": "code",
   "execution_count": 21,
   "metadata": {},
   "outputs": [],
   "source": [
    "df['seems_sounds_sents'] = df.answerText.apply(extract_seems_sounds)"
   ]
  },
  {
   "cell_type": "code",
   "execution_count": 22,
   "metadata": {},
   "outputs": [
    {
     "data": {
      "text/plain": [
       "True     2230\n",
       "False      41\n",
       "Name: seems_sounds_sents, dtype: int64"
      ]
     },
     "execution_count": 22,
     "metadata": {},
     "output_type": "execute_result"
    }
   ],
   "source": [
    "df.seems_sounds_sents.isnull().value_counts()"
   ]
  },
  {
   "cell_type": "markdown",
   "metadata": {},
   "source": [
    "This method did not yield many new reflections. Only 41 out of 2k+. "
   ]
  },
  {
   "cell_type": "code",
   "execution_count": 23,
   "metadata": {},
   "outputs": [
    {
     "data": {
      "text/html": [
       "<div>\n",
       "<style scoped>\n",
       "    .dataframe tbody tr th:only-of-type {\n",
       "        vertical-align: middle;\n",
       "    }\n",
       "\n",
       "    .dataframe tbody tr th {\n",
       "        vertical-align: top;\n",
       "    }\n",
       "\n",
       "    .dataframe thead th {\n",
       "        text-align: right;\n",
       "    }\n",
       "</style>\n",
       "<table border=\"1\" class=\"dataframe\">\n",
       "  <thead>\n",
       "    <tr style=\"text-align: right;\">\n",
       "      <th></th>\n",
       "      <th>answerText</th>\n",
       "      <th>seems_sounds_sents</th>\n",
       "    </tr>\n",
       "  </thead>\n",
       "  <tbody>\n",
       "    <tr>\n",
       "      <th>1594</th>\n",
       "      <td>It is not the case of being right or wrong, in my view. If you are asking, I believe you truly care for your boyfriend. It seems like he is having difficulties in establishing trust in this relati...</td>\n",
       "      <td>It seems like he is having difficulties in establishing trust in this relationship.</td>\n",
       "    </tr>\n",
       "    <tr>\n",
       "      <th>1702</th>\n",
       "      <td>This seems like two questions.  The first is what may have happened to prompt him to back off.  The second is what it means to you to have a boyfriend who takes anti-depression medication who says...</td>\n",
       "      <td>This seems like two questions.</td>\n",
       "    </tr>\n",
       "    <tr>\n",
       "      <th>684</th>\n",
       "      <td>Your nephew's behavior sounds normal and developmentally appropriate.  Masturbation is a healthy expression of sexuality.  Most families to create some rules about where it's ok to masturbate-- fo...</td>\n",
       "      <td>It seems like that would help him and you handle his increasing maturity.</td>\n",
       "    </tr>\n",
       "    <tr>\n",
       "      <th>833</th>\n",
       "      <td>Sounds like you need closure. I'm sure your doing your best to overcome this feeling but seem to be struggling with your own happiness. Trust God no one else. Give this some time and don't close y...</td>\n",
       "      <td>Sounds like you need closure.</td>\n",
       "    </tr>\n",
       "    <tr>\n",
       "      <th>209</th>\n",
       "      <td>Teenage years are rough for anyone, and this is a time for self-discovery and experimentation. Having older parents can certainly pose challenges. Most kids feel like their parents don't understan...</td>\n",
       "      <td>It seems like you're looking for affirmation from them, looking for their approval and understanding.</td>\n",
       "    </tr>\n",
       "    <tr>\n",
       "      <th>1051</th>\n",
       "      <td>I'm very sorry to hear this. Hypnosis can be a valuable tool that a trained therapist can use to bring back suppressed memories. However, keep in mind that hypnosis doesn't work for everyone. I th...</td>\n",
       "      <td>It seems like you have experienced some painful experiences in the past and may need help dealing with them in order to move forward.</td>\n",
       "    </tr>\n",
       "    <tr>\n",
       "      <th>663</th>\n",
       "      <td>Hey! Sounds like the part of you that knows the RIGHT thing to do won here! I am so proud of you for admitting that you lied to your Mom! Sometimes lies come out of our mouths before we can even c...</td>\n",
       "      <td>Sounds like the part of you that knows the RIGHT thing to do won here!</td>\n",
       "    </tr>\n",
       "    <tr>\n",
       "      <th>267</th>\n",
       "      <td>It seems like you may be experiencing depression symptoms, they could be the triggered by unexpected life changes, or building up throughout time.The important part is that you have identified the...</td>\n",
       "      <td>It seems like you may be experiencing depression symptoms, they could be the triggered by unexpected life changes, or building up throughout time.</td>\n",
       "    </tr>\n",
       "    <tr>\n",
       "      <th>2040</th>\n",
       "      <td>You should like and trust your counselor. Sounds like a big ole “DUH”. But you will not believe the number of people I have met with that have described their past counselor as “totally opposite t...</td>\n",
       "      <td>Sounds like a big ole “DUH”.</td>\n",
       "    </tr>\n",
       "    <tr>\n",
       "      <th>1897</th>\n",
       "      <td>It might be possible, but it's difficult. First,  depending on how old you are, you might be able to restrict  a  mentalhealth  provider from disclosing your confidential information to your paren...</td>\n",
       "      <td>It seems like you might have a few options.</td>\n",
       "    </tr>\n",
       "  </tbody>\n",
       "</table>\n",
       "</div>"
      ],
      "text/plain": [
       "                                                                                                                                                                                                   answerText  \\\n",
       "1594  It is not the case of being right or wrong, in my view. If you are asking, I believe you truly care for your boyfriend. It seems like he is having difficulties in establishing trust in this relati...   \n",
       "1702  This seems like two questions.  The first is what may have happened to prompt him to back off.  The second is what it means to you to have a boyfriend who takes anti-depression medication who says...   \n",
       "684   Your nephew's behavior sounds normal and developmentally appropriate.  Masturbation is a healthy expression of sexuality.  Most families to create some rules about where it's ok to masturbate-- fo...   \n",
       "833   Sounds like you need closure. I'm sure your doing your best to overcome this feeling but seem to be struggling with your own happiness. Trust God no one else. Give this some time and don't close y...   \n",
       "209   Teenage years are rough for anyone, and this is a time for self-discovery and experimentation. Having older parents can certainly pose challenges. Most kids feel like their parents don't understan...   \n",
       "1051  I'm very sorry to hear this. Hypnosis can be a valuable tool that a trained therapist can use to bring back suppressed memories. However, keep in mind that hypnosis doesn't work for everyone. I th...   \n",
       "663   Hey! Sounds like the part of you that knows the RIGHT thing to do won here! I am so proud of you for admitting that you lied to your Mom! Sometimes lies come out of our mouths before we can even c...   \n",
       "267   It seems like you may be experiencing depression symptoms, they could be the triggered by unexpected life changes, or building up throughout time.The important part is that you have identified the...   \n",
       "2040  You should like and trust your counselor. Sounds like a big ole “DUH”. But you will not believe the number of people I have met with that have described their past counselor as “totally opposite t...   \n",
       "1897  It might be possible, but it's difficult. First,  depending on how old you are, you might be able to restrict  a  mentalhealth  provider from disclosing your confidential information to your paren...   \n",
       "\n",
       "                                                                                                                                      seems_sounds_sents  \n",
       "1594                                                                 It seems like he is having difficulties in establishing trust in this relationship.  \n",
       "1702                                                                                                                      This seems like two questions.  \n",
       "684                                                                            It seems like that would help him and you handle his increasing maturity.  \n",
       "833                                                                                                                        Sounds like you need closure.  \n",
       "209                                                It seems like you're looking for affirmation from them, looking for their approval and understanding.  \n",
       "1051               It seems like you have experienced some painful experiences in the past and may need help dealing with them in order to move forward.  \n",
       "663                                                                               Sounds like the part of you that knows the RIGHT thing to do won here!  \n",
       "267   It seems like you may be experiencing depression symptoms, they could be the triggered by unexpected life changes, or building up throughout time.  \n",
       "2040                                                                                                                        Sounds like a big ole “DUH”.  \n",
       "1897                                                                                                         It seems like you might have a few options.  "
      ]
     },
     "execution_count": 23,
     "metadata": {},
     "output_type": "execute_result"
    }
   ],
   "source": [
    "seems_sounds_mask = df.seems_sounds_sents.notnull()\n",
    "df.loc[seems_sounds_mask, ['answerText', 'seems_sounds_sents']].sample(10)"
   ]
  },
  {
   "cell_type": "markdown",
   "metadata": {},
   "source": [
    "### construct a reflection for each example\n",
    "\n",
    "Assume that the \"seems like\"/\"sounds like\" sentences are higher quality reflections than the first sentences."
   ]
  },
  {
   "cell_type": "code",
   "execution_count": 24,
   "metadata": {},
   "outputs": [],
   "source": [
    "df['reflection'] = df.first_an_sent\n",
    "\n",
    "seems_sounds_mask = df.seems_sounds_sents.notnull()\n",
    "df.loc[seems_sounds_mask, 'reflection'] = df.loc[seems_sounds_mask, 'seems_sounds_sents']"
   ]
  },
  {
   "cell_type": "markdown",
   "metadata": {},
   "source": [
    "### post-process to alleviate tokenization errors\n",
    "\n",
    "The sentence splitting breaks in some cases. This results in some very long reflections."
   ]
  },
  {
   "cell_type": "code",
   "execution_count": 25,
   "metadata": {},
   "outputs": [
    {
     "data": {
      "image/png": "[encoded data removed]",
      "text/plain": [
       "<Figure size 432x288 with 1 Axes>"
      ]
     },
     "metadata": {
      "needs_background": "light"
     },
     "output_type": "display_data"
    }
   ],
   "source": [
    "re_lens = df.reflection.apply(lambda x: len(x))\n",
    "\n",
    "fig, ax = plt.subplots()\n",
    "ax.hist(re_lens, bins=50); ax.set_title('Reflection Lengths'); ax.grid()\n",
    "plt.show()"
   ]
  },
  {
   "cell_type": "code",
   "execution_count": 26,
   "metadata": {},
   "outputs": [],
   "source": [
    "df.reflection = df.reflection.apply(lambda x: x[:250])"
   ]
  },
  {
   "cell_type": "code",
   "execution_count": 27,
   "metadata": {},
   "outputs": [
    {
     "data": {
      "image/png": "[encoded data removed]",
      "text/plain": [
       "<Figure size 432x288 with 1 Axes>"
      ]
     },
     "metadata": {
      "needs_background": "light"
     },
     "output_type": "display_data"
    }
   ],
   "source": [
    "re_lens = df.reflection.apply(lambda x: len(x))\n",
    "\n",
    "fig, ax = plt.subplots()\n",
    "ax.hist(re_lens, bins=50); ax.set_title('Reflection Lengths'); ax.grid()\n",
    "plt.show()"
   ]
  },
  {
   "cell_type": "markdown",
   "metadata": {},
   "source": [
    "There are a lot of very short reflections (the first bin in the histogram). In a real world use case I would investigate these further. For now I will move on for the sake of time."
   ]
  },
  {
   "cell_type": "code",
   "execution_count": null,
   "metadata": {},
   "outputs": [],
   "source": []
  }
 ],
 "metadata": {
  "kernelspec": {
   "display_name": "Python 3",
   "language": "python",
   "name": "python3"
  },
  "language_info": {
   "codemirror_mode": {
    "name": "ipython",
    "version": 3
   },
   "file_extension": ".py",
   "mimetype": "text/x-python",
   "name": "python",
   "nbconvert_exporter": "python",
   "pygments_lexer": "ipython3",
   "version": "3.7.3"
  }
 },
 "nbformat": 4,
 "nbformat_minor": 2
}
